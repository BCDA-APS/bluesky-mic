{
 "cells": [
  {
   "cell_type": "code",
   "execution_count": null,
   "metadata": {},
   "outputs": [],
   "source": []
  },
  {
   "cell_type": "code",
   "execution_count": 1,
   "metadata": {},
   "outputs": [
    {
     "name": "stderr",
     "output_type": "stream",
     "text": [
      "I Fri-14:09:08.691: **************************************** Bluesky Startup\n",
      "I Fri-14:09:08.724: Starting Instrument with iconfig: /home/beams43/STAFF19ID/pml/bluesky-mic/src/isn/configs/iconfig.yml\n"
     ]
    },
    {
     "name": "stdout",
     "output_type": "stream",
     "text": [
      "\n",
      "Below are the IPython logging settings for your session.\n",
      "These settings have no impact on your experiment.\n",
      "\n",
      "Activating auto-logging. Current session state plus future input saved.\n",
      "Filename       : /home/beams43/STAFF19ID/bluesky-mic/notebooks/.logs/ipython_log.py\n",
      "Mode           : rotate\n",
      "Output logging : True\n",
      "Raw input log  : False\n",
      "Timestamping   : True\n",
      "State          : active\n",
      "Exception reporting mode: Plain\n",
      "\n",
      "End of IPython settings\n",
      "\n"
     ]
    },
    {
     "name": "stderr",
     "output_type": "stream",
     "text": [
      "I Fri-14:09:16.858: **************************************** Bluesky Startup\n",
      "/home/beams/STAFF19ID/.conda/envs/eaa_pml/lib/python3.11/site-packages/IPython/core/magics/logging.py:130: UserWarning: Couldn't start log: Log file is already active: /home/beams43/STAFF19ID/bluesky-mic/notebooks/.logs/ipython_log.py\n",
      "  warn(\"Couldn't start log: %s\" % sys.exc_info()[1])\n",
      "I Fri-14:09:16.864: Starting Instrument with iconfig: /home/beams43/STAFF19ID/pml/bluesky-mic/src/isn/configs/iconfig.yml\n",
      "I Fri-14:09:16.918: APS DM environment file: /home/dm_id/etc/dm.setup.sh\n",
      "I Fri-14:09:16.920: APS DM workflow owner: 19id\n",
      "I Fri-14:09:16.922: Registered Bluesky IPython magics\n",
      "I Fri-14:09:17.021: Databroker catalog name: 19id_isn\n",
      "I Fri-14:09:17.023: using ophyd control layer: 'pyepics'\n",
      "I Fri-14:09:17.025: RunEngine metadata saved to: .re_md_dict.yml\n"
     ]
    },
    {
     "name": "stdout",
     "output_type": "stream",
     "text": [
      "\n",
      "Below are the IPython logging settings for your session.\n",
      "These settings have no impact on your experiment.\n",
      "\n"
     ]
    },
    {
     "name": "stderr",
     "output_type": "stream",
     "text": [
      "I Fri-14:09:17.711: Loading device file: /home/beams43/STAFF19ID/pml/bluesky-mic/src/isn/configs/devices.yml\n",
      "I Fri-14:09:18.163: /home/beams43/STAFF19ID/pml/bluesky-mic/src/mic_common/utils/device_utils.py\n",
      "I Fri-14:09:18.165: /home/beams43/STAFF19ID/pml/bluesky-mic/src/mic_common/devices/scan_record.py\n",
      "I Fri-14:09:18.168: /home/beams43/STAFF19ID/pml/bluesky-mic/src/mic_common/devices/save_data.py\n",
      "I Fri-14:09:18.174: /home/beams43/STAFF19ID/pml/bluesky-mic/src/mic_common/utils/writeDetH5.py\n",
      "I Fri-14:09:18.176: /home/beams43/STAFF19ID/pml/bluesky-mic/src/mic_common/devices/xspress3.py\n",
      "I Fri-14:09:18.179: /home/beams43/STAFF19ID/pml/bluesky-mic/src/mic_common/devices/eiger1m.py\n",
      "I Fri-14:09:18.184: /home/beams43/STAFF19ID/pml/bluesky-mic/src/mic_common/devices/ad_fileplugin.py\n",
      "Exception in thread Thread-5 (internal):\n",
      "Traceback (most recent call last):\n",
      "  File \"/home/beams/STAFF19ID/.conda/envs/eaa_pml/lib/python3.11/threading.py\", line 1045, in _bootstrap_inner\n",
      "    self.run()\n",
      "  File \"/home/beams/STAFF19ID/.conda/envs/eaa_pml/lib/python3.11/site-packages/ipykernel/ipkernel.py\", line 766, in run_closure\n",
      "    _threading_Thread_run(self)\n",
      "  File \"/home/beams/STAFF19ID/.conda/envs/eaa_pml/lib/python3.11/threading.py\", line 982, in run\n",
      "    self._target(*self._args, **self._kwargs)\n",
      "  File \"/home/beams/STAFF19ID/.conda/envs/eaa_pml/lib/python3.11/site-packages/apstools/plans/run_blocking_function_plan.py\", line 67, in internal\n",
      "    result = function(*args, **kwargs)\n",
      "             ^^^^^^^^^^^^^^^^^^^^^^^^^\n",
      "  File \"/home/beams/STAFF19ID/.conda/envs/eaa_pml/lib/python3.11/site-packages/apsbits/core/instrument_init.py\", line 132, in namespace_loader\n",
      "    instrument.load(yaml_device_file)\n",
      "  File \"/home/beams/STAFF19ID/.conda/envs/eaa_pml/lib/python3.11/site-packages/guarneri/instrument.py\", line 399, in load\n",
      "    devices = self.make_devices(device_defns, fake=fake)\n",
      "              ^^^^^^^^^^^^^^^^^^^^^^^^^^^^^^^^^^^^^^^^^^\n",
      "  File \"/home/beams/STAFF19ID/.conda/envs/eaa_pml/lib/python3.11/site-packages/guarneri/instrument.py\", line 190, in make_devices\n",
      "    device = self.make_device(\n",
      "             ^^^^^^^^^^^^^^^^^\n",
      "  File \"/home/beams/STAFF19ID/.conda/envs/eaa_pml/lib/python3.11/site-packages/guarneri/instrument.py\", line 274, in make_device\n",
      "    result = Klass(**kwargs)\n",
      "             ^^^^^^^^^^^^^^^\n",
      "  File \"/home/beams43/STAFF19ID/pml/bluesky-mic/src/mic_common/devices/ad_fileplugin.py\", line 182, in __init__\n",
      "    kwargs[\"prefix\"] = kwargs[\"prefix\"] + \":\"\n",
      "                       ~~~~~~^^^^^^^^^^\n",
      "KeyError: 'prefix'\n",
      "E Fri-14:09:19.371: Device file not found: /home/beams43/STAFF19ID/pml/bluesky-mic/src/isn/configs/device_aps_only.yml\n"
     ]
    },
    {
     "ename": "ComponentNotFound",
     "evalue": "'Could not find components matching: label=\"xrf_me7_hdf\", name=\"xrf_me7_hdf\"'",
     "output_type": "error",
     "traceback": [
      "Traceback \u001b[36m(most recent call last)\u001b[39m:\n",
      "  Cell \u001b[92mIn[1]\u001b[39m\u001b[92m, line 1\u001b[39m\n    from isn.startup import *\n",
      "  File \u001b[92m/home/beams43/STAFF19ID/pml/bluesky-mic/src/isn/startup.py:113\u001b[39m\n    xrf_me7_hdf = oregistry[\"xrf_me7_hdf\"]\n",
      "  File \u001b[92m~/.conda/envs/eaa_pml/lib/python3.11/site-packages/ophydregistry/registry.py:172\u001b[39m in \u001b[95m__getitem__\u001b[39m\n    return self.find(key)\n",
      "  File \u001b[92m~/.conda/envs/eaa_pml/lib/python3.11/site-packages/ophydregistry/registry.py:346\u001b[39m in \u001b[95mfind\u001b[39m\n    devices = self.findall(\n",
      "\u001b[36m  \u001b[39m\u001b[36mFile \u001b[39m\u001b[32m~/.conda/envs/eaa_pml/lib/python3.11/site-packages/ophydregistry/registry.py:504\u001b[39m\u001b[36m in \u001b[39m\u001b[35mfindall\u001b[39m\n\u001b[31m    \u001b[39m\u001b[31mraise ComponentNotFound(\u001b[39m\n",
      "\u001b[31mComponentNotFound\u001b[39m\u001b[31m:\u001b[39m 'Could not find components matching: label=\"xrf_me7_hdf\", name=\"xrf_me7_hdf\"'\n"
     ]
    }
   ],
   "source": [
    "from isn.startup import *"
   ]
  },
  {
   "cell_type": "code",
   "execution_count": null,
   "metadata": {},
   "outputs": [],
   "source": []
  }
 ],
 "metadata": {
  "kernelspec": {
   "display_name": "eaa_pml",
   "language": "python",
   "name": "python3"
  },
  "language_info": {
   "codemirror_mode": {
    "name": "ipython",
    "version": 3
   },
   "file_extension": ".py",
   "mimetype": "text/x-python",
   "name": "python",
   "nbconvert_exporter": "python",
   "pygments_lexer": "ipython3",
   "version": "3.11.13"
  }
 },
 "nbformat": 4,
 "nbformat_minor": 2
}
