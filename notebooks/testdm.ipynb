{
 "cells": [
  {
   "cell_type": "code",
   "execution_count": 1,
   "metadata": {},
   "outputs": [
    {
     "name": "stderr",
     "output_type": "stream",
     "text": [
      "I Mon-17:53:48.566: **************************************** Bluesky Startup Initialized\n",
      "I Mon-17:53:48.593: /home/beams43/STAFF19ID/bluesky_gyl/bluesky-mic/src/instrument/devices/utils.py\n",
      "I Mon-17:53:48.594: /home/beams43/STAFF19ID/bluesky_gyl/bluesky-mic/src/instrument/devices/save_data.py\n",
      "I Mon-17:53:48.597: /home/beams43/STAFF19ID/bluesky_gyl/bluesky-mic/src/instrument/utils/writeDetH5.py\n",
      "I Mon-17:53:48.597: /home/beams43/STAFF19ID/bluesky_gyl/bluesky-mic/src/instrument/devices/xspress3.py\n",
      "I Mon-17:53:48.600: /home/beams43/STAFF19ID/bluesky_gyl/bluesky-mic/src/instrument/devices/scan_record.py\n",
      "I Mon-17:53:48.602: /home/beams43/STAFF19ID/bluesky_gyl/bluesky-mic/src/instrument/devices/ad_fileplugin.py\n",
      "I Mon-17:53:48.606: /home/beams43/STAFF19ID/bluesky_gyl/bluesky-mic/src/instrument/devices/eiger1m.py\n"
     ]
    },
    {
     "name": "stdout",
     "output_type": "stream",
     "text": [
      "\n",
      "Below are the IPython logging settings for your session.\n",
      "These settings have no impact on your experiment.\n",
      "\n",
      "Activating auto-logging. Current session state plus future input saved.\n",
      "Filename       : /home/beams43/STAFF19ID/bluesky_gyl/bluesky-mic/notebooks/.logs/ipython_log.py\n",
      "Mode           : rotate\n",
      "Output logging : True\n",
      "Raw input log  : False\n",
      "Timestamping   : True\n",
      "State          : active\n"
     ]
    }
   ],
   "source": [
    "from apstools.devices import DM_WorkflowConnector\n",
    "from apstools.utils import dm_api_proc\n",
    "from apstools.utils import dm_setup\n",
    "\n",
    "from mic_instrument.configs.device_config import ptychoxrf_dm_args\n",
    "\n"
   ]
  },
  {
   "cell_type": "code",
   "execution_count": null,
   "metadata": {},
   "outputs": [
    {
     "name": "stderr",
     "output_type": "stream",
     "text": [
      "E Mon-17:56:56.143: [Errno 111] Connection refused\n",
      "Traceback (most recent call last):\n",
      "  File \"/home/beams/STAFF19ID/.conda/envs/bluesky_mic/lib/python3.11/site-packages/dm/common/api/dmApi.py\", line 47, in wrappedCall\n",
      "    response = func(*args, **kwargs)\n",
      "               ^^^^^^^^^^^^^^^^^^^^^\n",
      "  File \"/home/beams/STAFF19ID/.conda/envs/bluesky_mic/lib/python3.11/site-packages/dm/proc_web_service/api/workflowProcApi.py\", line 508, in startProcessingJob\n",
      "    responseData = self.sendSessionRequest(url=url, method=DM_SERVICE_POST_METHOD)\n",
      "                   ^^^^^^^^^^^^^^^^^^^^^^^^^^^^^^^^^^^^^^^^^^^^^^^^^^^^^^^^^^^^^^^\n",
      "  File \"/home/beams/STAFF19ID/.conda/envs/bluesky_mic/lib/python3.11/site-packages/dm/common/api/dmRestApi.py\", line 141, in sendSessionRequest\n",
      "    sm.establishSession(wsUrl, self.username, self.password)\n",
      "  File \"/home/beams/STAFF19ID/.conda/envs/bluesky_mic/lib/python3.11/site-packages/dm/common/client/sessionManager.py\", line 80, in establishSession\n",
      "    (response,responseData) = self.sendRequest(url='%s%s' % (url, selector), method=DM_SERVICE_POST_METHOD, contentType=self.CONTENT_TYPE, data=url_encode(data))\n",
      "                              ^^^^^^^^^^^^^^^^^^^^^^^^^^^^^^^^^^^^^^^^^^^^^^^^^^^^^^^^^^^^^^^^^^^^^^^^^^^^^^^^^^^^^^^^^^^^^^^^^^^^^^^^^^^^^^^^^^^^^^^^^^^^^^^^^^^\n",
      "  File \"/home/beams/STAFF19ID/.conda/envs/bluesky_mic/lib/python3.11/site-packages/dm/common/client/sessionManager.py\", line 195, in sendRequest\n",
      "    response = opener.open(request)\n",
      "               ^^^^^^^^^^^^^^^^^^^^\n",
      "  File \"/home/beams/STAFF19ID/.conda/envs/bluesky_mic/lib/python3.11/urllib/request.py\", line 519, in open\n",
      "    response = self._open(req, data)\n",
      "               ^^^^^^^^^^^^^^^^^^^^^\n",
      "  File \"/home/beams/STAFF19ID/.conda/envs/bluesky_mic/lib/python3.11/urllib/request.py\", line 536, in _open\n",
      "    result = self._call_chain(self.handle_open, protocol, protocol +\n",
      "             ^^^^^^^^^^^^^^^^^^^^^^^^^^^^^^^^^^^^^^^^^^^^^^^^^^^^^^^\n",
      "  File \"/home/beams/STAFF19ID/.conda/envs/bluesky_mic/lib/python3.11/urllib/request.py\", line 496, in _call_chain\n",
      "    result = func(*args)\n",
      "             ^^^^^^^^^^^\n",
      "  File \"/home/beams/STAFF19ID/.conda/envs/bluesky_mic/lib/python3.11/site-packages/dm/common/client/dmHttpsHandler.py\", line 17, in https_open\n",
      "    return self.do_open(DmHttpsConnection,req)\n",
      "           ^^^^^^^^^^^^^^^^^^^^^^^^^^^^^^^^^^^\n",
      "  File \"/home/beams/STAFF19ID/.conda/envs/bluesky_mic/lib/python3.11/urllib/request.py\", line 1317, in do_open\n",
      "    h = http_class(host, timeout=req.timeout, **http_conn_args)\n",
      "        ^^^^^^^^^^^^^^^^^^^^^^^^^^^^^^^^^^^^^^^^^^^^^^^^^^^^^^^\n",
      "  File \"/home/beams/STAFF19ID/.conda/envs/bluesky_mic/lib/python3.11/site-packages/dm/common/client/dmHttpsConnection.py\", line 41, in __init__\n",
      "    self.connect()\n",
      "  File \"/home/beams/STAFF19ID/.conda/envs/bluesky_mic/lib/python3.11/site-packages/dm/common/client/dmHttpsConnection.py\", line 44, in connect\n",
      "    self.sock.connect((self.host,self.port))\n",
      "  File \"/home/beams/STAFF19ID/.conda/envs/bluesky_mic/lib/python3.11/ssl.py\", line 1415, in connect\n",
      "    self._real_connect(addr, False)\n",
      "  File \"/home/beams/STAFF19ID/.conda/envs/bluesky_mic/lib/python3.11/ssl.py\", line 1402, in _real_connect\n",
      "    super().connect(addr)\n",
      "ConnectionRefusedError: [Errno 111] Connection refused\n"
     ]
    },
    {
     "ename": "DmException",
     "evalue": "[Errno 111] Connection refused",
     "output_type": "error",
     "traceback": [
      "\u001b[0;31m---------------------------------------------------------------------------\u001b[0m",
      "\u001b[0;31mConnectionRefusedError\u001b[0m                    Traceback (most recent call last)",
      "File \u001b[0;32m~/.conda/envs/bluesky_mic/lib/python3.11/site-packages/dm/common/api/dmApi.py:47\u001b[0m, in \u001b[0;36mDmApi.execute2.<locals>.internalCall.<locals>.wrappedCall\u001b[0;34m(func, *args, **kwargs)\u001b[0m\n\u001b[1;32m     46\u001b[0m \u001b[38;5;28;01mtry\u001b[39;00m:\n\u001b[0;32m---> 47\u001b[0m     response \u001b[38;5;241m=\u001b[39m \u001b[43mfunc\u001b[49m\u001b[43m(\u001b[49m\u001b[38;5;241;43m*\u001b[39;49m\u001b[43margs\u001b[49m\u001b[43m,\u001b[49m\u001b[43m \u001b[49m\u001b[38;5;241;43m*\u001b[39;49m\u001b[38;5;241;43m*\u001b[39;49m\u001b[43mkwargs\u001b[49m\u001b[43m)\u001b[49m\n\u001b[1;32m     48\u001b[0m     \u001b[38;5;28;01mreturn\u001b[39;00m response\n",
      "File \u001b[0;32m~/.conda/envs/bluesky_mic/lib/python3.11/site-packages/dm/proc_web_service/api/workflowProcApi.py:508\u001b[0m, in \u001b[0;36mWorkflowProcApi.startProcessingJob\u001b[0;34m(self, workflowOwner, workflowName, argsDict)\u001b[0m\n\u001b[1;32m    507\u001b[0m url \u001b[38;5;241m+\u001b[39m\u001b[38;5;241m=\u001b[39m \u001b[38;5;124m'\u001b[39m\u001b[38;5;124m?argsDict=\u001b[39m\u001b[38;5;132;01m%s\u001b[39;00m\u001b[38;5;124m'\u001b[39m \u001b[38;5;241m%\u001b[39m (Encoder\u001b[38;5;241m.\u001b[39mencode(json\u001b[38;5;241m.\u001b[39mdumps(argsDict)))\n\u001b[0;32m--> 508\u001b[0m responseData \u001b[38;5;241m=\u001b[39m \u001b[38;5;28;43mself\u001b[39;49m\u001b[38;5;241;43m.\u001b[39;49m\u001b[43msendSessionRequest\u001b[49m\u001b[43m(\u001b[49m\u001b[43murl\u001b[49m\u001b[38;5;241;43m=\u001b[39;49m\u001b[43murl\u001b[49m\u001b[43m,\u001b[49m\u001b[43m \u001b[49m\u001b[43mmethod\u001b[49m\u001b[38;5;241;43m=\u001b[39;49m\u001b[43mDM_SERVICE_POST_METHOD\u001b[49m\u001b[43m)\u001b[49m\n\u001b[1;32m    509\u001b[0m \u001b[38;5;28;01mreturn\u001b[39;00m ProcessingJob(responseData)\n",
      "File \u001b[0;32m~/.conda/envs/bluesky_mic/lib/python3.11/site-packages/dm/common/api/dmRestApi.py:141\u001b[0m, in \u001b[0;36mDmRestApi.sendSessionRequest\u001b[0;34m(self, url, method, contentType, data, rawOutput)\u001b[0m\n\u001b[1;32m    140\u001b[0m         \u001b[38;5;28mself\u001b[39m\u001b[38;5;241m.\u001b[39mparseLoginFile()\n\u001b[0;32m--> 141\u001b[0m     \u001b[43msm\u001b[49m\u001b[38;5;241;43m.\u001b[39;49m\u001b[43mestablishSession\u001b[49m\u001b[43m(\u001b[49m\u001b[43mwsUrl\u001b[49m\u001b[43m,\u001b[49m\u001b[43m \u001b[49m\u001b[38;5;28;43mself\u001b[39;49m\u001b[38;5;241;43m.\u001b[39;49m\u001b[43musername\u001b[49m\u001b[43m,\u001b[49m\u001b[43m \u001b[49m\u001b[38;5;28;43mself\u001b[39;49m\u001b[38;5;241;43m.\u001b[39;49m\u001b[43mpassword\u001b[49m\u001b[43m)\u001b[49m\n\u001b[1;32m    142\u001b[0m (response, responseData) \u001b[38;5;241m=\u001b[39m sm\u001b[38;5;241m.\u001b[39msendSessionRequest(url, method, contentType, data)\n",
      "File \u001b[0;32m~/.conda/envs/bluesky_mic/lib/python3.11/site-packages/dm/common/client/sessionManager.py:80\u001b[0m, in \u001b[0;36mSessionManager.establishSession\u001b[0;34m(self, url, username, password, selector)\u001b[0m\n\u001b[1;32m     79\u001b[0m     \u001b[38;5;28mself\u001b[39m\u001b[38;5;241m.\u001b[39mlogger\u001b[38;5;241m.\u001b[39mdebug(\u001b[38;5;124m'\u001b[39m\u001b[38;5;124mEstablishing session for user \u001b[39m\u001b[38;5;132;01m%s\u001b[39;00m\u001b[38;5;124m @ \u001b[39m\u001b[38;5;132;01m%s\u001b[39;00m\u001b[38;5;124m)\u001b[39m\u001b[38;5;124m'\u001b[39m \u001b[38;5;241m%\u001b[39m (username, url))\n\u001b[0;32m---> 80\u001b[0m     (response,responseData) \u001b[38;5;241m=\u001b[39m \u001b[38;5;28;43mself\u001b[39;49m\u001b[38;5;241;43m.\u001b[39;49m\u001b[43msendRequest\u001b[49m\u001b[43m(\u001b[49m\u001b[43murl\u001b[49m\u001b[38;5;241;43m=\u001b[39;49m\u001b[38;5;124;43m'\u001b[39;49m\u001b[38;5;132;43;01m%s\u001b[39;49;00m\u001b[38;5;132;43;01m%s\u001b[39;49;00m\u001b[38;5;124;43m'\u001b[39;49m\u001b[43m \u001b[49m\u001b[38;5;241;43m%\u001b[39;49m\u001b[43m \u001b[49m\u001b[43m(\u001b[49m\u001b[43murl\u001b[49m\u001b[43m,\u001b[49m\u001b[43m \u001b[49m\u001b[43mselector\u001b[49m\u001b[43m)\u001b[49m\u001b[43m,\u001b[49m\u001b[43m \u001b[49m\u001b[43mmethod\u001b[49m\u001b[38;5;241;43m=\u001b[39;49m\u001b[43mDM_SERVICE_POST_METHOD\u001b[49m\u001b[43m,\u001b[49m\u001b[43m \u001b[49m\u001b[43mcontentType\u001b[49m\u001b[38;5;241;43m=\u001b[39;49m\u001b[38;5;28;43mself\u001b[39;49m\u001b[38;5;241;43m.\u001b[39;49m\u001b[43mCONTENT_TYPE\u001b[49m\u001b[43m,\u001b[49m\u001b[43m \u001b[49m\u001b[43mdata\u001b[49m\u001b[38;5;241;43m=\u001b[39;49m\u001b[43murl_encode\u001b[49m\u001b[43m(\u001b[49m\u001b[43mdata\u001b[49m\u001b[43m)\u001b[49m\u001b[43m)\u001b[49m\n\u001b[1;32m     81\u001b[0m \u001b[38;5;28;01mexcept\u001b[39;00m url_URLError \u001b[38;5;28;01mas\u001b[39;00m ex:\n",
      "File \u001b[0;32m~/.conda/envs/bluesky_mic/lib/python3.11/site-packages/dm/common/client/sessionManager.py:195\u001b[0m, in \u001b[0;36mSessionManager.sendRequest\u001b[0;34m(self, url, method, contentType, data)\u001b[0m\n\u001b[1;32m    194\u001b[0m     opener \u001b[38;5;241m=\u001b[39m \u001b[38;5;28mself\u001b[39m\u001b[38;5;241m.\u001b[39mgetUrlOpener(protocol)\n\u001b[0;32m--> 195\u001b[0m     response \u001b[38;5;241m=\u001b[39m \u001b[43mopener\u001b[49m\u001b[38;5;241;43m.\u001b[39;49m\u001b[43mopen\u001b[49m\u001b[43m(\u001b[49m\u001b[43mrequest\u001b[49m\u001b[43m)\u001b[49m\n\u001b[1;32m    196\u001b[0m \u001b[38;5;28;01mexcept\u001b[39;00m url_HTTPError \u001b[38;5;28;01mas\u001b[39;00m ex:\n\u001b[1;32m    197\u001b[0m     \u001b[38;5;66;03m# If we see dm headers, dm exception will be thrown,\u001b[39;00m\n\u001b[1;32m    198\u001b[0m     \u001b[38;5;66;03m# otherwise we'll throw UrlError\u001b[39;00m\n",
      "File \u001b[0;32m~/.conda/envs/bluesky_mic/lib/python3.11/urllib/request.py:519\u001b[0m, in \u001b[0;36mOpenerDirector.open\u001b[0;34m(self, fullurl, data, timeout)\u001b[0m\n\u001b[1;32m    518\u001b[0m sys\u001b[38;5;241m.\u001b[39maudit(\u001b[38;5;124m'\u001b[39m\u001b[38;5;124murllib.Request\u001b[39m\u001b[38;5;124m'\u001b[39m, req\u001b[38;5;241m.\u001b[39mfull_url, req\u001b[38;5;241m.\u001b[39mdata, req\u001b[38;5;241m.\u001b[39mheaders, req\u001b[38;5;241m.\u001b[39mget_method())\n\u001b[0;32m--> 519\u001b[0m response \u001b[38;5;241m=\u001b[39m \u001b[38;5;28;43mself\u001b[39;49m\u001b[38;5;241;43m.\u001b[39;49m\u001b[43m_open\u001b[49m\u001b[43m(\u001b[49m\u001b[43mreq\u001b[49m\u001b[43m,\u001b[49m\u001b[43m \u001b[49m\u001b[43mdata\u001b[49m\u001b[43m)\u001b[49m\n\u001b[1;32m    521\u001b[0m \u001b[38;5;66;03m# post-process response\u001b[39;00m\n",
      "File \u001b[0;32m~/.conda/envs/bluesky_mic/lib/python3.11/urllib/request.py:536\u001b[0m, in \u001b[0;36mOpenerDirector._open\u001b[0;34m(self, req, data)\u001b[0m\n\u001b[1;32m    535\u001b[0m protocol \u001b[38;5;241m=\u001b[39m req\u001b[38;5;241m.\u001b[39mtype\n\u001b[0;32m--> 536\u001b[0m result \u001b[38;5;241m=\u001b[39m \u001b[38;5;28;43mself\u001b[39;49m\u001b[38;5;241;43m.\u001b[39;49m\u001b[43m_call_chain\u001b[49m\u001b[43m(\u001b[49m\u001b[38;5;28;43mself\u001b[39;49m\u001b[38;5;241;43m.\u001b[39;49m\u001b[43mhandle_open\u001b[49m\u001b[43m,\u001b[49m\u001b[43m \u001b[49m\u001b[43mprotocol\u001b[49m\u001b[43m,\u001b[49m\u001b[43m \u001b[49m\u001b[43mprotocol\u001b[49m\u001b[43m \u001b[49m\u001b[38;5;241;43m+\u001b[39;49m\n\u001b[1;32m    537\u001b[0m \u001b[43m                          \u001b[49m\u001b[38;5;124;43m'\u001b[39;49m\u001b[38;5;124;43m_open\u001b[39;49m\u001b[38;5;124;43m'\u001b[39;49m\u001b[43m,\u001b[49m\u001b[43m \u001b[49m\u001b[43mreq\u001b[49m\u001b[43m)\u001b[49m\n\u001b[1;32m    538\u001b[0m \u001b[38;5;28;01mif\u001b[39;00m result:\n",
      "File \u001b[0;32m~/.conda/envs/bluesky_mic/lib/python3.11/urllib/request.py:496\u001b[0m, in \u001b[0;36mOpenerDirector._call_chain\u001b[0;34m(self, chain, kind, meth_name, *args)\u001b[0m\n\u001b[1;32m    495\u001b[0m func \u001b[38;5;241m=\u001b[39m \u001b[38;5;28mgetattr\u001b[39m(handler, meth_name)\n\u001b[0;32m--> 496\u001b[0m result \u001b[38;5;241m=\u001b[39m \u001b[43mfunc\u001b[49m\u001b[43m(\u001b[49m\u001b[38;5;241;43m*\u001b[39;49m\u001b[43margs\u001b[49m\u001b[43m)\u001b[49m\n\u001b[1;32m    497\u001b[0m \u001b[38;5;28;01mif\u001b[39;00m result \u001b[38;5;129;01mis\u001b[39;00m \u001b[38;5;129;01mnot\u001b[39;00m \u001b[38;5;28;01mNone\u001b[39;00m:\n",
      "File \u001b[0;32m~/.conda/envs/bluesky_mic/lib/python3.11/site-packages/dm/common/client/dmHttpsHandler.py:17\u001b[0m, in \u001b[0;36mDmHttpsHandler.https_open\u001b[0;34m(self, req)\u001b[0m\n\u001b[1;32m     16\u001b[0m \u001b[38;5;28;01mdef\u001b[39;00m \u001b[38;5;21mhttps_open\u001b[39m(\u001b[38;5;28mself\u001b[39m, req):\n\u001b[0;32m---> 17\u001b[0m     \u001b[38;5;28;01mreturn\u001b[39;00m \u001b[38;5;28;43mself\u001b[39;49m\u001b[38;5;241;43m.\u001b[39;49m\u001b[43mdo_open\u001b[49m\u001b[43m(\u001b[49m\u001b[43mDmHttpsConnection\u001b[49m\u001b[43m,\u001b[49m\u001b[43mreq\u001b[49m\u001b[43m)\u001b[49m\n",
      "File \u001b[0;32m~/.conda/envs/bluesky_mic/lib/python3.11/urllib/request.py:1317\u001b[0m, in \u001b[0;36mAbstractHTTPHandler.do_open\u001b[0;34m(self, http_class, req, **http_conn_args)\u001b[0m\n\u001b[1;32m   1316\u001b[0m \u001b[38;5;66;03m# will parse host:port\u001b[39;00m\n\u001b[0;32m-> 1317\u001b[0m h \u001b[38;5;241m=\u001b[39m \u001b[43mhttp_class\u001b[49m\u001b[43m(\u001b[49m\u001b[43mhost\u001b[49m\u001b[43m,\u001b[49m\u001b[43m \u001b[49m\u001b[43mtimeout\u001b[49m\u001b[38;5;241;43m=\u001b[39;49m\u001b[43mreq\u001b[49m\u001b[38;5;241;43m.\u001b[39;49m\u001b[43mtimeout\u001b[49m\u001b[43m,\u001b[49m\u001b[43m \u001b[49m\u001b[38;5;241;43m*\u001b[39;49m\u001b[38;5;241;43m*\u001b[39;49m\u001b[43mhttp_conn_args\u001b[49m\u001b[43m)\u001b[49m\n\u001b[1;32m   1318\u001b[0m h\u001b[38;5;241m.\u001b[39mset_debuglevel(\u001b[38;5;28mself\u001b[39m\u001b[38;5;241m.\u001b[39m_debuglevel)\n",
      "File \u001b[0;32m~/.conda/envs/bluesky_mic/lib/python3.11/site-packages/dm/common/client/dmHttpsConnection.py:41\u001b[0m, in \u001b[0;36mDmHttpsConnection.__init__\u001b[0;34m(self, hostPort, timeout)\u001b[0m\n\u001b[1;32m     40\u001b[0m \u001b[38;5;28mself\u001b[39m\u001b[38;5;241m.\u001b[39msock \u001b[38;5;241m=\u001b[39m context\u001b[38;5;241m.\u001b[39mwrap_socket(sock)\n\u001b[0;32m---> 41\u001b[0m \u001b[38;5;28;43mself\u001b[39;49m\u001b[38;5;241;43m.\u001b[39;49m\u001b[43mconnect\u001b[49m\u001b[43m(\u001b[49m\u001b[43m)\u001b[49m\n",
      "File \u001b[0;32m~/.conda/envs/bluesky_mic/lib/python3.11/site-packages/dm/common/client/dmHttpsConnection.py:44\u001b[0m, in \u001b[0;36mDmHttpsConnection.connect\u001b[0;34m(self)\u001b[0m\n\u001b[1;32m     43\u001b[0m \u001b[38;5;28;01mdef\u001b[39;00m \u001b[38;5;21mconnect\u001b[39m(\u001b[38;5;28mself\u001b[39m):\n\u001b[0;32m---> 44\u001b[0m     \u001b[38;5;28;43mself\u001b[39;49m\u001b[38;5;241;43m.\u001b[39;49m\u001b[43msock\u001b[49m\u001b[38;5;241;43m.\u001b[39;49m\u001b[43mconnect\u001b[49m\u001b[43m(\u001b[49m\u001b[43m(\u001b[49m\u001b[38;5;28;43mself\u001b[39;49m\u001b[38;5;241;43m.\u001b[39;49m\u001b[43mhost\u001b[49m\u001b[43m,\u001b[49m\u001b[38;5;28;43mself\u001b[39;49m\u001b[38;5;241;43m.\u001b[39;49m\u001b[43mport\u001b[49m\u001b[43m)\u001b[49m\u001b[43m)\u001b[49m\n",
      "File \u001b[0;32m~/.conda/envs/bluesky_mic/lib/python3.11/ssl.py:1415\u001b[0m, in \u001b[0;36mSSLSocket.connect\u001b[0;34m(self, addr)\u001b[0m\n\u001b[1;32m   1413\u001b[0m \u001b[38;5;250m\u001b[39m\u001b[38;5;124;03m\"\"\"Connects to remote ADDR, and then wraps the connection in\u001b[39;00m\n\u001b[1;32m   1414\u001b[0m \u001b[38;5;124;03man SSL channel.\"\"\"\u001b[39;00m\n\u001b[0;32m-> 1415\u001b[0m \u001b[38;5;28;43mself\u001b[39;49m\u001b[38;5;241;43m.\u001b[39;49m\u001b[43m_real_connect\u001b[49m\u001b[43m(\u001b[49m\u001b[43maddr\u001b[49m\u001b[43m,\u001b[49m\u001b[43m \u001b[49m\u001b[38;5;28;43;01mFalse\u001b[39;49;00m\u001b[43m)\u001b[49m\n",
      "File \u001b[0;32m~/.conda/envs/bluesky_mic/lib/python3.11/ssl.py:1402\u001b[0m, in \u001b[0;36mSSLSocket._real_connect\u001b[0;34m(self, addr, connect_ex)\u001b[0m\n\u001b[1;32m   1401\u001b[0m     rc \u001b[38;5;241m=\u001b[39m \u001b[38;5;28;01mNone\u001b[39;00m\n\u001b[0;32m-> 1402\u001b[0m     \u001b[38;5;28;43msuper\u001b[39;49m\u001b[43m(\u001b[49m\u001b[43m)\u001b[49m\u001b[38;5;241;43m.\u001b[39;49m\u001b[43mconnect\u001b[49m\u001b[43m(\u001b[49m\u001b[43maddr\u001b[49m\u001b[43m)\u001b[49m\n\u001b[1;32m   1403\u001b[0m \u001b[38;5;28;01mif\u001b[39;00m \u001b[38;5;129;01mnot\u001b[39;00m rc:\n",
      "\u001b[0;31mConnectionRefusedError\u001b[0m: [Errno 111] Connection refused",
      "\nDuring handling of the above exception, another exception occurred:\n",
      "\u001b[0;31mDmException\u001b[0m                               Traceback (most recent call last)",
      "Cell \u001b[0;32mIn[8], line 11\u001b[0m\n\u001b[1;32m      8\u001b[0m api \u001b[38;5;241m=\u001b[39m dm_api_proc()\n\u001b[1;32m      9\u001b[0m api\u001b[38;5;241m.\u001b[39musername \u001b[38;5;241m=\u001b[39m \u001b[38;5;124m'\u001b[39m\u001b[38;5;124mplozano\u001b[39m\u001b[38;5;124m'\u001b[39m\n\u001b[0;32m---> 11\u001b[0m job \u001b[38;5;241m=\u001b[39m \u001b[43mapi\u001b[49m\u001b[38;5;241;43m.\u001b[39;49m\u001b[43mstartProcessingJob\u001b[49m\u001b[43m(\u001b[49m\u001b[43mapi\u001b[49m\u001b[38;5;241;43m.\u001b[39;49m\u001b[43musername\u001b[49m\u001b[43m,\u001b[49m\u001b[43m \u001b[49m\u001b[43mWORKFLOW\u001b[49m\u001b[43m,\u001b[49m\u001b[43m \u001b[49m\u001b[43margsDict\u001b[49m\u001b[43m)\u001b[49m\n\u001b[1;32m     12\u001b[0m \u001b[38;5;28mprint\u001b[39m(\u001b[38;5;124mf\u001b[39m\u001b[38;5;124m\"\u001b[39m\u001b[38;5;124mworkflow=\u001b[39m\u001b[38;5;132;01m{\u001b[39;00mWORKFLOW\u001b[38;5;132;01m!r}\u001b[39;00m\u001b[38;5;124m  id=\u001b[39m\u001b[38;5;132;01m{\u001b[39;00mjob[\u001b[38;5;124m'\u001b[39m\u001b[38;5;124mid\u001b[39m\u001b[38;5;124m'\u001b[39m]\u001b[38;5;132;01m!r}\u001b[39;00m\u001b[38;5;124m\"\u001b[39m)\n",
      "File \u001b[0;32m~/.conda/envs/bluesky_mic/lib/python3.11/site-packages/decorator.py:232\u001b[0m, in \u001b[0;36mdecorate.<locals>.fun\u001b[0;34m(*args, **kw)\u001b[0m\n\u001b[1;32m    230\u001b[0m \u001b[38;5;28;01mif\u001b[39;00m \u001b[38;5;129;01mnot\u001b[39;00m kwsyntax:\n\u001b[1;32m    231\u001b[0m     args, kw \u001b[38;5;241m=\u001b[39m fix(args, kw, sig)\n\u001b[0;32m--> 232\u001b[0m \u001b[38;5;28;01mreturn\u001b[39;00m \u001b[43mcaller\u001b[49m\u001b[43m(\u001b[49m\u001b[43mfunc\u001b[49m\u001b[43m,\u001b[49m\u001b[43m \u001b[49m\u001b[38;5;241;43m*\u001b[39;49m\u001b[43m(\u001b[49m\u001b[43mextras\u001b[49m\u001b[43m \u001b[49m\u001b[38;5;241;43m+\u001b[39;49m\u001b[43m \u001b[49m\u001b[43margs\u001b[49m\u001b[43m)\u001b[49m\u001b[43m,\u001b[49m\u001b[43m \u001b[49m\u001b[38;5;241;43m*\u001b[39;49m\u001b[38;5;241;43m*\u001b[39;49m\u001b[43mkw\u001b[49m\u001b[43m)\u001b[49m\n",
      "File \u001b[0;32m~/.conda/envs/bluesky_mic/lib/python3.11/site-packages/dm/common/api/dmApi.py:53\u001b[0m, in \u001b[0;36mDmApi.execute2.<locals>.internalCall.<locals>.wrappedCall\u001b[0;34m(func, *args, **kwargs)\u001b[0m\n\u001b[1;32m     51\u001b[0m \u001b[38;5;28;01mexcept\u001b[39;00m \u001b[38;5;167;01mException\u001b[39;00m \u001b[38;5;28;01mas\u001b[39;00m ex:\n\u001b[1;32m     52\u001b[0m     \u001b[38;5;28mcls\u001b[39m\u001b[38;5;241m.\u001b[39mgetLogger()\u001b[38;5;241m.\u001b[39mexception(\u001b[38;5;124m'\u001b[39m\u001b[38;5;132;01m%s\u001b[39;00m\u001b[38;5;124m'\u001b[39m \u001b[38;5;241m%\u001b[39m ex)\n\u001b[0;32m---> 53\u001b[0m     \u001b[38;5;28;01mraise\u001b[39;00m DmException(exception\u001b[38;5;241m=\u001b[39mex)\n",
      "\u001b[0;31mDmException\u001b[0m: [Errno 111] Connection refused"
     ]
    }
   ],
   "source": [
    "dm_workflow = DM_WorkflowConnector(name='smp1', labels=(\"dm\",))\n",
    "dm_setup_path = '/home/dm_id/etc/dm.setup.sh'\n",
    "\n",
    "WORKFLOW = \"ptycho-xrf\"\n",
    "argsDict = ptychoxrf_dm_args.copy()\n",
    "\n",
    "a = dm_setup(dm_setup_path)\n",
    "api = dm_api_proc()\n",
    "api.username = 'user19id'\n",
    "\n",
    "job = api.startProcessingJob(api.username, WORKFLOW, argsDict)\n",
    "print(f\"workflow={WORKFLOW!r}  id={job['id']!r}\")"
   ]
  },
  {
   "cell_type": "code",
   "execution_count": 4,
   "metadata": {},
   "outputs": [
    {
     "data": {
      "text/plain": [
       "str"
      ]
     },
     "execution_count": 4,
     "metadata": {},
     "output_type": "execute_result"
    }
   ],
   "source": [
    "type(a)"
   ]
  },
  {
   "cell_type": "code",
   "execution_count": 6,
   "metadata": {},
   "outputs": [],
   "source": [
    "api.username\n"
   ]
  },
  {
   "cell_type": "code",
   "execution_count": null,
   "metadata": {},
   "outputs": [],
   "source": []
  }
 ],
 "metadata": {
  "kernelspec": {
   "display_name": "bluesky_mic",
   "language": "python",
   "name": "python3"
  },
  "language_info": {
   "codemirror_mode": {
    "name": "ipython",
    "version": 3
   },
   "file_extension": ".py",
   "mimetype": "text/x-python",
   "name": "python",
   "nbconvert_exporter": "python",
   "pygments_lexer": "ipython3",
   "version": "3.11.10"
  }
 },
 "nbformat": 4,
 "nbformat_minor": 2
}
