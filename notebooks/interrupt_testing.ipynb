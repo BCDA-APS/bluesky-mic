{
 "cells": [
  {
   "cell_type": "code",
   "execution_count": 15,
   "id": "e6863f96-3b3f-4947-9ea6-4231ec15be64",
   "metadata": {},
   "outputs": [],
   "source": [
    "import time\n",
    "\n",
    "import bluesky\n",
    "import bluesky.plan_stubs as bps\n",
    "from bluesky_queueserver_api import BPlan\n",
    "from bluesky_queueserver_api.zmq import REManagerAPI\n",
    "\n",
    "RM = REManagerAPI()\n",
    "RE = bluesky.RunEngine()\n"
   ]
  },
  {
   "cell_type": "code",
   "execution_count": 22,
   "id": "6543aca7-9683-42ec-8af7-6904885820b6",
   "metadata": {},
   "outputs": [
    {
     "data": {
      "text/plain": [
       "{'success': True,\n",
       " 'msg': '',\n",
       " 'task_uid': 'e1d8b059-d282-48e9-b59b-18305650726c'}"
      ]
     },
     "execution_count": 22,
     "metadata": {},
     "output_type": "execute_result"
    }
   ],
   "source": [
    "time.sleep(3)\n",
    "# pause_script = \"def pause_plan():\\n    is_paused = True\\n     yield from bps.sleep(1)\\n \"\n",
    "# pause_script = \"def pause_plan():\\n\\t    is_paused = True\\n\"\n",
    "pause_script = \"global is_paused\\n is_paused = True\\n\"\n",
    "# resume_script = \"def resume_plan():\\n    is_paused = False\\n    yield from bps.sleep(1)\\n\"\n",
    "RM.script_upload(pause_script, run_in_background=True)\n"
   ]
  },
  {
   "cell_type": "code",
   "execution_count": 20,
   "id": "424fcd99-51ef-4725-b94c-fb56e9af28d9",
   "metadata": {},
   "outputs": [],
   "source": [
    "def test_pause():\n",
    "    global is_paused\n",
    "    is_paused = True\n",
    "    yield from bps.sleep(1)\n"
   ]
  },
  {
   "cell_type": "code",
   "execution_count": 21,
   "id": "2a3af929-3921-4675-9026-0982165fd289",
   "metadata": {},
   "outputs": [
    {
     "data": {
      "text/plain": [
       "{'success': True,\n",
       " 'msg': '',\n",
       " 'qsize': 3,\n",
       " 'item': {'item_type': 'plan',\n",
       "  'name': 'test_pause',\n",
       "  'user': 'Queue Server API User',\n",
       "  'user_group': 'primary',\n",
       "  'item_uid': 'e2f082cd-b40e-4e02-9108-c2ef7f0e31ee'}}"
      ]
     },
     "execution_count": 21,
     "metadata": {},
     "output_type": "execute_result"
    }
   ],
   "source": [
    "RM.item_execute(BPlan(\"test_pause\"))\n"
   ]
  },
  {
   "cell_type": "code",
   "execution_count": null,
   "id": "293c61c1-5744-4808-a0a1-d61474921a45",
   "metadata": {},
   "outputs": [],
   "source": []
  }
 ],
 "metadata": {
  "kernelspec": {
   "display_name": "Python 3 (ipykernel)",
   "language": "python",
   "name": "python3"
  },
  "language_info": {
   "codemirror_mode": {
    "name": "ipython",
    "version": 3
   },
   "file_extension": ".py",
   "mimetype": "text/x-python",
   "name": "python",
   "nbconvert_exporter": "python",
   "pygments_lexer": "ipython3",
   "version": "3.12.4"
  }
 },
 "nbformat": 4,
 "nbformat_minor": 5
}
