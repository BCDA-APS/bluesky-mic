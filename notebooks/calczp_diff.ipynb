{
 "cells": [
  {
   "cell_type": "code",
   "execution_count": 1,
   "metadata": {},
   "outputs": [],
   "source": [
    "import numpy as np"
   ]
  },
  {
   "cell_type": "code",
   "execution_count": 2,
   "metadata": {},
   "outputs": [],
   "source": [
    "def calc_focusing_shift(target_energy_ev, current_energy_ev, zp_diameter_um, \n",
    "\t\t\t\t\t\toutter_most_zone_width_nm):\n",
    "\t'''\n",
    "\tCalculate the sample shift when changing energy\n",
    "\t'''\n",
    "\tshift_z_mm = ((target_energy_ev - current_energy_ev)/1240) * outter_most_zone_width_nm * zp_diameter_um / 1e3\n",
    "\tprint(shift_z_mm)\n",
    "\treturn shift_z_mm"
   ]
  },
  {
   "cell_type": "code",
   "execution_count": 3,
   "metadata": {},
   "outputs": [
    {
     "name": "stdout",
     "output_type": "stream",
     "text": [
      "0.6967741935483871\n"
     ]
    }
   ],
   "source": [
    "target_energy_ev = 13560\n",
    "current_energy_ev = 13500\n",
    "zp_diameter_um = 180\n",
    "outter_most_zone_width_nm = 80\n",
    "\n",
    "shift_z_mm = calc_focusing_shift(target_energy_ev, current_energy_ev, zp_diameter_um, outter_most_zone_width_nm)"
   ]
  },
  {
   "cell_type": "code",
   "execution_count": null,
   "metadata": {},
   "outputs": [],
   "source": []
  }
 ],
 "metadata": {
  "kernelspec": {
   "display_name": "bluesky_mic",
   "language": "python",
   "name": "python3"
  },
  "language_info": {
   "codemirror_mode": {
    "name": "ipython",
    "version": 3
   },
   "file_extension": ".py",
   "mimetype": "text/x-python",
   "name": "python",
   "nbconvert_exporter": "python",
   "pygments_lexer": "ipython3",
   "version": "3.11.11"
  }
 },
 "nbformat": 4,
 "nbformat_minor": 2
}
