{
 "cells": [
  {
   "cell_type": "code",
   "execution_count": 2,
   "metadata": {},
   "outputs": [],
   "source": [
    "import h5py\n"
   ]
  },
  {
   "cell_type": "code",
   "execution_count": 19,
   "metadata": {},
   "outputs": [
    {
     "name": "stdout",
     "output_type": "stream",
     "text": [
      "<KeysViewHDF5 ['data']>\n"
     ]
    }
   ],
   "source": [
    "det_master_h5_path = \"/home/beams/STAFF19ID/bdp_isn_masterfile/data/19ide_bluesky_0009_master.h5\"\n",
    "\n",
    "# with h5py.File(det_master_h5_path, 'r') as f:\n",
    "#     print(f['detectors/PTYCHO'].keys())\n",
    "\n",
    "with h5py.File(det_master_h5_path, 'r') as f:\n",
    "    print(f['detectors/PTYCHO/19ide_bluesky_0009_000.h5/data'].keys())\n"
   ]
  },
  {
   "cell_type": "code",
   "execution_count": 14,
   "metadata": {},
   "outputs": [
    {
     "name": "stdout",
     "output_type": "stream",
     "text": [
      "<KeysViewHDF5 ['19ide_bluesky_0006_0.hdf5', '19ide_bluesky_0006_1.hdf5', '19ide_bluesky_0006_10.hdf5', '19ide_bluesky_0006_11.hdf5', '19ide_bluesky_0006_12.hdf5', '19ide_bluesky_0006_13.hdf5', '19ide_bluesky_0006_14.hdf5', '19ide_bluesky_0006_15.hdf5', '19ide_bluesky_0006_16.hdf5', '19ide_bluesky_0006_17.hdf5', '19ide_bluesky_0006_18.hdf5', '19ide_bluesky_0006_19.hdf5', '19ide_bluesky_0006_2.hdf5', '19ide_bluesky_0006_20.hdf5', '19ide_bluesky_0006_21.hdf5', '19ide_bluesky_0006_22.hdf5', '19ide_bluesky_0006_23.hdf5', '19ide_bluesky_0006_24.hdf5', '19ide_bluesky_0006_25.hdf5', '19ide_bluesky_0006_26.hdf5', '19ide_bluesky_0006_27.hdf5', '19ide_bluesky_0006_28.hdf5', '19ide_bluesky_0006_29.hdf5', '19ide_bluesky_0006_3.hdf5', '19ide_bluesky_0006_30.hdf5', '19ide_bluesky_0006_4.hdf5', '19ide_bluesky_0006_5.hdf5', '19ide_bluesky_0006_6.hdf5', '19ide_bluesky_0006_7.hdf5', '19ide_bluesky_0006_8.hdf5', '19ide_bluesky_0006_9.hdf5']>\n"
     ]
    }
   ],
   "source": [
    "det_master_h5_path = \"/home/beams/STAFF19ID/bdp_isn_masterfile/data/XRF_ME7/19ide_bluesky_0006.h5\"\n",
    "\n",
    "with h5py.File(det_master_h5_path, 'r') as f:\n",
    "    print(f['xrf_me7'].keys())"
   ]
  },
  {
   "cell_type": "code",
   "execution_count": null,
   "metadata": {},
   "outputs": [],
   "source": []
  }
 ],
 "metadata": {
  "kernelspec": {
   "display_name": "bluesky_mic",
   "language": "python",
   "name": "python3"
  },
  "language_info": {
   "codemirror_mode": {
    "name": "ipython",
    "version": 3
   },
   "file_extension": ".py",
   "mimetype": "text/x-python",
   "name": "python",
   "nbconvert_exporter": "python",
   "pygments_lexer": "ipython3",
   "version": "3.11.10"
  }
 },
 "nbformat": 4,
 "nbformat_minor": 2
}
