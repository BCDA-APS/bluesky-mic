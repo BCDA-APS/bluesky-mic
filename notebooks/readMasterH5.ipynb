{
 "cells": [
  {
   "cell_type": "code",
   "execution_count": 2,
   "metadata": {},
   "outputs": [],
   "source": [
    "import os\n",
    "import h5py\n"
   ]
  },
  {
   "cell_type": "code",
   "execution_count": 9,
   "metadata": {},
   "outputs": [
    {
     "name": "stdout",
     "output_type": "stream",
     "text": [
      "\n",
      "File attributes:\n",
      "<Attributes of HDF5 object at 140481766747856>\n",
      "['_MutableMapping__marker', '__abstractmethods__', '__bool__', '__class__', '__class_getitem__', '__contains__', '__delattr__', '__delitem__', '__dict__', '__dir__', '__doc__', '__enter__', '__eq__', '__exit__', '__format__', '__ge__', '__getattribute__', '__getitem__', '__getnewargs__', '__getstate__', '__gt__', '__hash__', '__init__', '__init_subclass__', '__iter__', '__le__', '__len__', '__lt__', '__module__', '__ne__', '__new__', '__nonzero__', '__reduce__', '__reduce_ex__', '__repr__', '__reversed__', '__setattr__', '__setitem__', '__sizeof__', '__slots__', '__str__', '__subclasshook__', '__weakref__', '_abc_impl', '_d', '_e', '_gcpl_crt_order', '_id', '_ipython_key_completions_', '_lapl', '_lcpl', '_libver', 'attrs', 'build_virtual_dataset', 'clear', 'close', 'copy', 'create_dataset', 'create_dataset_like', 'create_group', 'create_virtual_dataset', 'driver', 'file', 'filename', 'flush', 'get', 'id', 'items', 'keys', 'libver', 'meta_block_size', 'mode', 'move', 'name', 'parent', 'pop', 'popitem', 'ref', 'regionref', 'require_dataset', 'require_group', 'setdefault', 'swmr_mode', 'update', 'userblock_size', 'values', 'visit', 'visit_links', 'visititems', 'visititems_links']\n",
      "datetime: 2025-03-15 23:10:59.203066\n",
      "\n",
      "filename: /gdata/dm/19ID/2025-1/blueskydev/data/19ide_bluesky_0008_master.h5\n",
      "\n",
      "yaml_configuration_file: {'ACCELERATOR': {'Ring_current': {'NAME': 'Ring_current', 'PV': 'S-DCCT:CurrentM', 'UNITS_PV': 'mA'}, 'US_energy': {'NAME': 'US_energy', 'VALUE_PV': 'S19ID:USID:EnergySetC.VAL', 'UNITS_PV': 'keV'}, 'US_gap': {'NAME': 'US_gap', 'VALUE_PV': 'S19ID:USID:GapSetC.VAL', 'UNITS_PV': 'mm'}, 'US_revolver': {'NAME': 'US_revolver', 'VALUE_PV': 'S19ID:USID:RevolverSelectC.VAL'}, 'DS_energy': {'NAME': 'DS_energy', 'VALUE_PV': 'S19ID:DSID:EnergySetC.VAL', 'UNITS_PV': 'keV'}, 'DS_gap': {'NAME': 'DS_gap', 'VALUE_PV': 'S19ID:DSID:GapSetC.VAL', 'UNITS_PV': 'mm'}, 'DS_revolver': {'NAME': 'DS_revolver', 'VALUE_PV': 'S19ID:DSID:RevolverSelectC.VAL'}}, 'BEAMLINE': {'MR1_2_lateral': {'NAME': 'MR1_2_lateral', 'VALUE_PV': '19idMR:m3.VAL', 'RBV_PV': '19idMR:m3.RBV', 'UNITS_PV': '19idMR:m3.EGU'}, 'DCM_Bragg': {'NAME': 'DCM_Bragg', 'VALUE_PV': '19idDCM:m1.VAL', 'RBV_PV': '19idDCM:m1.RBV', 'UNITS_PV': '19idDCM:m1.EGU'}, 'DCM_Gap': {'NAME': 'DCM_Gap', 'VALUE_PV': '19idDCM:m2.VAL', 'RBV_PV': '19idDCM:m2.RBV', 'UNITS_PV': '19idDCM:m2.EGU'}, 'DCM_Energy': {'NAME': 'DCM_Energy', 'VALUE_PV': '19idDCM:SM3.VAL', 'RBV_PV': '19idDCM:m2.RBV', 'UNITS_PV': 'keV'}, 'C_BDA_size': {'NAME': 'C_BDA_size', 'VALUE_PV': '19idBDA:Slit1Vsize.VAL', 'RBV_PV': '19idBDA:Slit1Vsize.RBV', 'UNITS_PV': '19idBDA:Slit1Vsize.EGU'}, 'C_BDA_center': {'NAME': 'C_BDA_center', 'VALUE_PV': '19idBDA:Slit1Vcenter.VAL', 'RBV_PV': '19idBDA:Slit1Vcenter.RBV', 'UNITS_PV': '19idBDA:Slit1Vcenter.EGU'}, 'D_BDA_size': {'NAME': 'D_BDA_size', 'VALUE_PV': '19idBDA:Slit1Hsize.VAL', 'RBV_PV': '19idBDA:Slit1Hsize.RBV', 'UNITS_PV': '19idBDA:Slit1Hsize.EGU'}, 'D_BDA_center': {'NAME': 'D_BDA_center', 'VALUE_PV': '19idBDA:Slit1Hcenter.VAL', 'RBV_PV': '19idBDA:Slit1Hcenter.RBV', 'UNITS_PV': '19idBDA:Slit1Hcenter.EGU'}}, 'INSTRUMENT': {'Sam_X': {'NAME': 'Sam_X', 'VALUE_PV': '19idAERO:m1.VAL', 'RBV_PV': '19idAERO:m1.RBV', 'UNITS_PV': '19idAERO:m1.EGU'}, 'Sam_Z': {'NAME': 'Sam_Z', 'VALUE_PV': '19idAERO:m2.VAL', 'RBV_PV': '19idAERO:m2.RBV', 'UNITS_PV': '19idAERO:m2.EGU'}, 'Sam_rot': {'NAME': 'Sam_rot', 'VALUE_PV': '19idAERO:m5.VAL', 'RBV_PV': '19idAERO:m5.RBV', 'UNITS_PV': '19idAERO:m5.EGU'}, 'Fine_X': {'NAME': 'Fine_X', 'VALUE_PV': '19idAERO:m6.VAL', 'RBV_PV': '19idAERO:m6.RBV', 'UNITS_PV': '19idAERO:m6.EGU'}, 'Fine_Z': {'NAME': 'Fine_Z', 'VALUE_PV': '19idAERO:m7.VAL', 'RBV_PV': '19idAERO:m7.RBV', 'UNITS_PV': '19idAERO:m7.EGU'}, 'Piezo_Y1': {'NAME': 'Piezo_Y1', 'VALUE_PV': '19idAERO:m8.VAL', 'RBV_PV': '19idAERO:m8.RBV', 'UNITS_PV': '19idAERO:m8.EGU'}, 'Piezo_Y2': {'NAME': 'Piezo_Y2', 'VALUE_PV': '19idAERO:m9.VAL', 'RBV_PV': '19idAERO:m9.RBV', 'UNITS_PV': '19idAERO:m9.EGU'}, 'Piezo_Y3': {'NAME': 'Piezo_Y3', 'VALUE_PV': '19idAERO:m10.VAL', 'RBV_PV': '19idAERO:m10.RBV', 'UNITS_PV': '19idAERO:m10.EGU'}}, 'ROBOT': {'Radius': {'NAME': 'Radius', 'VALUE_PV': '19IDRobot:Radius.VAL', 'RBV_PV': '19IDRobot:Radius.RBV', 'UNITS_PV': '19IDRobot:Radius.EGU'}, 'Pitch': {'NAME': 'Pitch', 'VALUE_PV': '19IDRobot:Pitch.VAL', 'RBV_PV': '19IDRobot:Pitch.RBV', 'UNITS_PV': '19IDRobot:Pitch.EGU'}, 'Yaw': {'NAME': 'Yaw', 'VALUE_PV': '19IDRobot:Yaw.VAL', 'RBV_PV': '19IDRobot:Yaw.RBV', 'UNITS_PV': '19IDRobot:Yaw.EGU'}}, 'PTYCHO': {'Ptycho_X': {'NAME': 'Ptycho_X', 'VALUE_PV': '19idACS2:m1.VAL', 'RBV_PV': '19idACS2:m1.RBV', 'UNITS_PV': '19idACS2:m1.EGU'}, 'Ptycho_Y': {'NAME': 'Ptycho_Y', 'VALUE_PV': '19idACS2:m2.VAL', 'RBV_PV': '19idACS2:m2.RBV', 'UNITS_PV': '19idACS2:m2.EGU'}, 'Ptycho_Z': {'NAME': 'Ptycho_Z', 'VALUE_PV': '19idACS2:m3.VAL', 'RBV_PV': '19idACS2:m3.RBV', 'UNITS_PV': '19idACS2:m3.EGU'}}}\n",
      "\n"
     ]
    }
   ],
   "source": [
    "det_master_h5_path = \"/home/beams/STAFF19ID/bdp_isn_masterfile/data/19ide_bluesky_0008_master.h5\"\n",
    "\n",
    "# with h5py.File(det_master_h5_path, 'r') as f:\n",
    "#     print(f['detectors/PTYCHO'].keys())\n",
    "    \n",
    "with h5py.File(det_master_h5_path, 'r') as f:\n",
    "    print(\"\\nFile attributes:\")\n",
    "    print(f.attrs)\n",
    "    print(dir(f))\n",
    "    for attr_name, attr_value in f.attrs.items():\n",
    "        print(f\"{attr_name}: {attr_value}\\n\")\n"
   ]
  },
  {
   "cell_type": "code",
   "execution_count": 14,
   "metadata": {},
   "outputs": [
    {
     "name": "stdout",
     "output_type": "stream",
     "text": [
      "<KeysViewHDF5 ['19ide_bluesky_0006_0.hdf5', '19ide_bluesky_0006_1.hdf5', '19ide_bluesky_0006_10.hdf5', '19ide_bluesky_0006_11.hdf5', '19ide_bluesky_0006_12.hdf5', '19ide_bluesky_0006_13.hdf5', '19ide_bluesky_0006_14.hdf5', '19ide_bluesky_0006_15.hdf5', '19ide_bluesky_0006_16.hdf5', '19ide_bluesky_0006_17.hdf5', '19ide_bluesky_0006_18.hdf5', '19ide_bluesky_0006_19.hdf5', '19ide_bluesky_0006_2.hdf5', '19ide_bluesky_0006_20.hdf5', '19ide_bluesky_0006_21.hdf5', '19ide_bluesky_0006_22.hdf5', '19ide_bluesky_0006_23.hdf5', '19ide_bluesky_0006_24.hdf5', '19ide_bluesky_0006_25.hdf5', '19ide_bluesky_0006_26.hdf5', '19ide_bluesky_0006_27.hdf5', '19ide_bluesky_0006_28.hdf5', '19ide_bluesky_0006_29.hdf5', '19ide_bluesky_0006_3.hdf5', '19ide_bluesky_0006_30.hdf5', '19ide_bluesky_0006_4.hdf5', '19ide_bluesky_0006_5.hdf5', '19ide_bluesky_0006_6.hdf5', '19ide_bluesky_0006_7.hdf5', '19ide_bluesky_0006_8.hdf5', '19ide_bluesky_0006_9.hdf5']>\n"
     ]
    }
   ],
   "source": [
    "det_master_h5_path = \"/home/beams/STAFF19ID/bdp_isn_masterfile/data/XRF_ME7/19ide_bluesky_0006.h5\"\n",
    "\n",
    "with h5py.File(det_master_h5_path, 'r') as f:\n",
    "    print(f['xrf_me7'].keys())"
   ]
  },
  {
   "cell_type": "code",
   "execution_count": null,
   "metadata": {},
   "outputs": [],
   "source": []
  }
 ],
 "metadata": {
  "kernelspec": {
   "display_name": "bluesky_mic",
   "language": "python",
   "name": "python3"
  },
  "language_info": {
   "codemirror_mode": {
    "name": "ipython",
    "version": 3
   },
   "file_extension": ".py",
   "mimetype": "text/x-python",
   "name": "python",
   "nbconvert_exporter": "python",
   "pygments_lexer": "ipython3",
   "version": "3.11.10"
  }
 },
 "nbformat": 4,
 "nbformat_minor": 2
}
