{
 "cells": [
  {
   "cell_type": "code",
   "execution_count": 36,
   "metadata": {},
   "outputs": [],
   "source": [
    "import os\n",
    "import pandas as pd"
   ]
  },
  {
   "cell_type": "code",
   "execution_count": 51,
   "metadata": {},
   "outputs": [],
   "source": [
    "def extract_qserver_log(qs_log_path, xrf_path, search_line):\n",
    "    log_fnames = [f for f in os.listdir(qs_log_path) if 'logging.log' in f]\n",
    "    \n",
    "    search_on = False\n",
    "    next_line = 0\n",
    "    seen = 0\n",
    "    scan_name = []\n",
    "    sample_name = []\n",
    "    user_comment = []\n",
    "\n",
    "    for log_fname in log_fnames:\n",
    "        log_path = os.path.join(qs_log_path, log_fname)\n",
    "        print(f\"processing file: {log_path}\")\n",
    "        with open(log_path, 'r') as f:\n",
    "            lines = f.readlines()\n",
    "            for line in lines:\n",
    "                if xrf_path in line:\n",
    "                    search_on = True\n",
    "\n",
    "                elif search_on:\n",
    "                    if search_line in line:\n",
    "                        seen += 1\n",
    "                        if seen == 1:\n",
    "                            scan_name.append(line.split(' ')[5])\n",
    "                            next_line = 1\n",
    "\n",
    "                    elif next_line:\n",
    "                        a = eval(line.split(\"Scan parameters: \")[1])\n",
    "                        sample_name.append(a['samplename'])\n",
    "                        user_comment.append(a['user_comments'])\n",
    "                        next_line -= 1\n",
    "                        if next_line == 0:\n",
    "                            search_on = False\n",
    "                            seen = 0\n",
    "    return scan_name, sample_name, user"
   ]
  },
  {
   "cell_type": "code",
   "execution_count": 69,
   "metadata": {},
   "outputs": [
    {
     "name": "stdout",
     "output_type": "stream",
     "text": [
      "processing file: /home/beams/USER2IDD/bluesky-mic/qs/.logs/logging.log.8\n",
      "processing file: /home/beams/USER2IDD/bluesky-mic/qs/.logs/logging.log.6\n",
      "processing file: /home/beams/USER2IDD/bluesky-mic/qs/.logs/logging.log.7\n",
      "processing file: /home/beams/USER2IDD/bluesky-mic/qs/.logs/logging.log.1\n",
      "processing file: /home/beams/USER2IDD/bluesky-mic/qs/.logs/logging.log\n",
      "processing file: /home/beams/USER2IDD/bluesky-mic/qs/.logs/logging.log.3\n",
      "processing file: /home/beams/USER2IDD/bluesky-mic/qs/.logs/logging.log.2\n",
      "processing file: /home/beams/USER2IDD/bluesky-mic/qs/.logs/logging.log.4\n",
      "processing file: /home/beams/USER2IDD/bluesky-mic/qs/.logs/logging.log.5\n",
      "processing file: /home/beams/USER2IDD/bluesky-mic/qs/.logs/logging.log.9\n",
      "processing file: /home/beams8/USER2IDD/bluesky-mic/.logs/logging.log.8\n",
      "processing file: /home/beams8/USER2IDD/bluesky-mic/.logs/logging.log.6\n",
      "processing file: /home/beams8/USER2IDD/bluesky-mic/.logs/logging.log.7\n",
      "processing file: /home/beams8/USER2IDD/bluesky-mic/.logs/logging.log.1\n",
      "processing file: /home/beams8/USER2IDD/bluesky-mic/.logs/logging.log\n",
      "processing file: /home/beams8/USER2IDD/bluesky-mic/.logs/logging.log.3\n",
      "processing file: /home/beams8/USER2IDD/bluesky-mic/.logs/logging.log.2\n",
      "processing file: /home/beams8/USER2IDD/bluesky-mic/.logs/logging.log.4\n",
      "processing file: /home/beams8/USER2IDD/bluesky-mic/.logs/logging.log.5\n",
      "processing file: /home/beams8/USER2IDD/bluesky-mic/.logs/logging.log.9\n"
     ]
    }
   ],
   "source": [
    "xrf_path = 'File path is set to W:2idd/2025-1/Paunesku/flyXRF/'\n",
    "qs_log_paths = ['/home/beams/USER2IDD/bluesky-mic/qs/.logs', '/home/beams8/USER2IDD/bluesky-mic/.logs']\n",
    "search_line = '--------------------------------'\n",
    "scan_name = []\n",
    "sample_name = []\n",
    "user_comment = []\n",
    "# qs_log_path2 = '/home/beams8/USER2IDD/bluesky-mic/.logs'\n",
    "# log_fnames = [f for f in os.listdir(qs_log_path) if 'logging.log' in f]\n",
    "\n",
    "for qs_log_path in qs_log_paths:\n",
    "    scanname, samplename, usercomment = extract_qserver_log(qs_log_path, xrf_path, search_line)\n",
    "    scan_name += scanname\n",
    "    sample_name += samplename\n",
    "    user_comment += usercomment\n"
   ]
  },
  {
   "cell_type": "code",
   "execution_count": 70,
   "metadata": {},
   "outputs": [],
   "source": [
    "df = pd.DataFrame({k: eval(k) for k in ['scan_name', 'sample_name', 'user_comment']})"
   ]
  },
  {
   "cell_type": "code",
   "execution_count": 72,
   "metadata": {},
   "outputs": [],
   "source": [
    "df = df.sort_values('scan_name').reset_index(drop=True)"
   ]
  },
  {
   "cell_type": "code",
   "execution_count": 74,
   "metadata": {},
   "outputs": [],
   "source": [
    "df.to_csv('qserver_log.csv', index=False)"
   ]
  },
  {
   "cell_type": "code",
   "execution_count": null,
   "metadata": {},
   "outputs": [],
   "source": []
  }
 ],
 "metadata": {
  "kernelspec": {
   "display_name": "bluesky_mic",
   "language": "python",
   "name": "python3"
  },
  "language_info": {
   "codemirror_mode": {
    "name": "ipython",
    "version": 3
   },
   "file_extension": ".py",
   "mimetype": "text/x-python",
   "name": "python",
   "nbconvert_exporter": "python",
   "pygments_lexer": "ipython3",
   "version": "3.11.11"
  }
 },
 "nbformat": 4,
 "nbformat_minor": 2
}
