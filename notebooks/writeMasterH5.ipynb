{
 "cells": [
  {
   "cell_type": "code",
   "execution_count": null,
   "metadata": {},
   "outputs": [],
   "source": [
    "import os\n",
    "import h5py\n",
    "from writeMasterH5 import write_master_h5"
   ]
  },
  {
   "cell_type": "code",
   "execution_count": null,
   "metadata": {},
   "outputs": [],
   "source": [
    "basedir = \"/mnt/micdata1/save_dev\"\n",
    "sample_name = \"test_sam\"\n",
    "master_path = os.path.join(os.path.join(basedir, sample_name), f\"{sample_name}_master_2.h5\")"
   ]
  },
  {
   "cell_type": "code",
   "execution_count": null,
   "metadata": {},
   "outputs": [],
   "source": [
    "write_master_h5(master_filename=\"master_2.h5\", basedir=basedir, sample_name=sample_name)"
   ]
  },
  {
   "cell_type": "code",
   "execution_count": null,
   "metadata": {},
   "outputs": [],
   "source": [
    "mpath = \"/mnt/micdata1/save_dev/test_sam/test_sam_master_2.h5\"\n",
    "with h5py.File(mpath, 'r') as f:\n",
    "    keys = f.keys()\n",
    "    # print(f\"{keys=}\")\n",
    "    for k in keys:\n",
    "        print(f\"{k}: {f[k].keys()}\")\n",
    "        k1 = f[k].keys()\n",
    "        for k_ in k1:\n",
    "            try:\n",
    "                print(f\"{k}-{k_}: {f[k][k_].keys()}\")\n",
    "                k2 = f[k][k_].keys()\n",
    "                for k__ in k2:\n",
    "                    try:\n",
    "                        print(f\"{k}-{k_}-{k__}: {f[k][k_][k__][:]}\")\n",
    "                    except:\n",
    "                        print(f\"{k}-{k_}-{k__}: {f[k][k_][k__].keys()}\")\n",
    "            except:\n",
    "                print(f\"{k}-{k_}: {f[k][k_][()]}\")"
   ]
  },
  {
   "cell_type": "code",
   "execution_count": null,
   "metadata": {},
   "outputs": [],
   "source": []
  }
 ],
 "metadata": {
  "kernelspec": {
   "display_name": "timelapse",
   "language": "python",
   "name": "python3"
  },
  "language_info": {
   "codemirror_mode": {
    "name": "ipython",
    "version": 3
   },
   "file_extension": ".py",
   "mimetype": "text/x-python",
   "name": "python",
   "nbconvert_exporter": "python",
   "pygments_lexer": "ipython3",
   "version": "3.11.9"
  }
 },
 "nbformat": 4,
 "nbformat_minor": 2
}
