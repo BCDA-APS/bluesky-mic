{
 "cells": [
  {
   "cell_type": "code",
   "execution_count": 6,
   "metadata": {},
   "outputs": [],
   "source": [
    "import bluesky\n",
    "from bluesky_queueserver_api import BItem\n",
    "from bluesky_queueserver_api.zmq import REManagerAPI\n",
    "\n",
    "# Create RE manager API. API communication via zmq\n",
    "# API calls are listed here: https://blueskyproject.io/bluesky-queueserver-api/api-reference.html#synchronous-communication-with-0mq-server\n",
    "RM = REManagerAPI()\n",
    "RE = RE = bluesky.RunEngine()"
   ]
  },
  {
   "cell_type": "code",
   "execution_count": 2,
   "metadata": {},
   "outputs": [
    {
     "data": {
      "text/plain": [
       "dict_keys(['redefine_motor_position', 'test_plan', 'profile_move_isn', 'scan_record_isn'])"
      ]
     },
     "execution_count": 2,
     "metadata": {},
     "output_type": "execute_result"
    }
   ],
   "source": [
    "plans = RM.plans_existing()\n",
    "\n",
    "plans[\"plans_existing\"][\"profile_move_isn\"][\"parameters\"][0][\"default\"]\n",
    "plans[\"plans_existing\"].keys()"
   ]
  },
  {
   "cell_type": "code",
   "execution_count": 9,
   "metadata": {},
   "outputs": [
    {
     "data": {
      "text/plain": [
       "['declare_stream',\n",
       " 'create',\n",
       " 'save',\n",
       " 'drop',\n",
       " 'read',\n",
       " 'locate',\n",
       " 'monitor',\n",
       " 'unmonitor',\n",
       " 'null',\n",
       " 'RE_class',\n",
       " 'stop',\n",
       " 'set',\n",
       " 'trigger',\n",
       " 'sleep',\n",
       " 'wait',\n",
       " 'checkpoint',\n",
       " 'clear_checkpoint',\n",
       " 'rewindable',\n",
       " 'pause',\n",
       " '_resume_from_suspender',\n",
       " '_start_suspender',\n",
       " 'prepare',\n",
       " 'collect',\n",
       " 'kickoff',\n",
       " 'complete',\n",
       " 'configure',\n",
       " 'stage',\n",
       " 'unstage',\n",
       " 'subscribe',\n",
       " 'unsubscribe',\n",
       " 'open_run',\n",
       " 'close_run',\n",
       " 'wait_for',\n",
       " 'input',\n",
       " 'install_suspender',\n",
       " 'remove_suspender']"
      ]
     },
     "execution_count": 9,
     "metadata": {},
     "output_type": "execute_result"
    }
   ],
   "source": [
    "RE.commands"
   ]
  },
  {
   "cell_type": "code",
   "execution_count": 7,
   "metadata": {},
   "outputs": [
    {
     "data": {
      "text/plain": [
       "{'item_type': 'plan', 'name': 'scan_record_isn', 'kwargs': {'scan_type': 'fly', 'trajectory': 'lissajous', 'loop1': '2idsft:m1', 'loop2': '2idsft:m2', 'sample_name': 'sam2', 'pi_directory': '/', 'comments': 'dev', 'devices': ['xspress3', 'tetramm', 'interferometers'], 'l1_center': '0', 'l1_size': '0.1', 'l1_width': '1', 'l2_center': '0', 'l2_size': '0.1', 'l2_width': '1', 'dwell_time': '10', 'reset_counter': 'False'}, 'user': 'Queue Server API User', 'user_group': 'primary', 'item_uid': '8c771940-d2e4-46fa-81cd-854f1f39e743'}"
      ]
     },
     "execution_count": 7,
     "metadata": {},
     "output_type": "execute_result"
    }
   ],
   "source": [
    "response = RM.item_get(pos=\"back\")\n",
    "item = BItem(response[\"item\"])\n",
    "# item.kwargs[\"num\"] = 50\n",
    "# RM.item_update(item)\n",
    "item"
   ]
  },
  {
   "cell_type": "code",
   "execution_count": null,
   "metadata": {},
   "outputs": [],
   "source": [
    "status = RM.send_request(method=\"queue_get\")\n",
    "status"
   ]
  },
  {
   "cell_type": "code",
   "execution_count": null,
   "metadata": {},
   "outputs": [],
   "source": [
    "status = RM.send_request(method=\"queue_clear\")\n",
    "status"
   ]
  },
  {
   "cell_type": "code",
   "execution_count": null,
   "metadata": {},
   "outputs": [],
   "source": [
    "RM.item_add({\"item_type\": \"plan\", \"name\": \"sleep\", \"kwargs\": {\"time\": 10}})"
   ]
  },
  {
   "cell_type": "code",
   "execution_count": null,
   "metadata": {},
   "outputs": [],
   "source": [
    "RM.item_add({\"item_type\": \"plan\", \"name\": \"sleep\", \"kwargs\": {\"time\": 40}})"
   ]
  },
  {
   "cell_type": "code",
   "execution_count": null,
   "metadata": {},
   "outputs": [],
   "source": [
    "RM.item_remove(pos=0)"
   ]
  },
  {
   "cell_type": "code",
   "execution_count": null,
   "metadata": {},
   "outputs": [],
   "source": [
    "RM.queue_start()"
   ]
  },
  {
   "cell_type": "code",
   "execution_count": null,
   "metadata": {},
   "outputs": [],
   "source": [
    "status = RM.send_request(method=\"status\")\n",
    "status"
   ]
  },
  {
   "cell_type": "code",
   "execution_count": null,
   "metadata": {},
   "outputs": [],
   "source": [
    "RM.close()"
   ]
  },
  {
   "cell_type": "code",
   "execution_count": null,
   "metadata": {},
   "outputs": [],
   "source": []
  }
 ],
 "metadata": {
  "kernelspec": {
   "display_name": "Python 3 (ipykernel)",
   "language": "python",
   "name": "python3"
  },
  "language_info": {
   "codemirror_mode": {
    "name": "ipython",
    "version": 3
   },
   "file_extension": ".py",
   "mimetype": "text/x-python",
   "name": "python",
   "nbconvert_exporter": "python",
   "pygments_lexer": "ipython3",
   "version": "3.12.4"
  }
 },
 "nbformat": 4,
 "nbformat_minor": 4
}
