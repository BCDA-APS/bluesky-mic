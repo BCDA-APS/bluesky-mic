{
 "cells": [
  {
   "cell_type": "code",
   "execution_count": 1,
   "metadata": {},
   "outputs": [],
   "source": [
    "import bluesky\n",
    "from bluesky_queueserver_api.zmq import REManagerAPI\n",
    "\n",
    "# Create RE manager API. API communication via zmq\n",
    "# API calls are listed here: https://blueskyproject.io/bluesky-queueserver-api/api-reference.html#synchronous-communication-with-0mq-server\n",
    "RM = REManagerAPI()\n",
    "RE = RE = bluesky.RunEngine() "
   ]
  },
  {
   "cell_type": "code",
   "execution_count": 5,
   "metadata": {},
   "outputs": [
    {
     "data": {
      "text/plain": [
       "dict_keys(['profile_move_isn', 'redefine_motor_position', 'scan_record_isn', 'test_plan'])"
      ]
     },
     "execution_count": 5,
     "metadata": {},
     "output_type": "execute_result"
    }
   ],
   "source": [
    "plans = RM.plans_existing()\n",
    "\n",
    "plans[\"plans_existing\"][\"profile_move_isn\"][\"parameters\"][0][\"default\"]\n",
    "plans[\"plans_existing\"].keys()\n",
    "\n"
   ]
  },
  {
   "cell_type": "code",
   "execution_count": 9,
   "metadata": {},
   "outputs": [
    {
     "data": {
      "text/plain": [
       "['declare_stream',\n",
       " 'create',\n",
       " 'save',\n",
       " 'drop',\n",
       " 'read',\n",
       " 'locate',\n",
       " 'monitor',\n",
       " 'unmonitor',\n",
       " 'null',\n",
       " 'RE_class',\n",
       " 'stop',\n",
       " 'set',\n",
       " 'trigger',\n",
       " 'sleep',\n",
       " 'wait',\n",
       " 'checkpoint',\n",
       " 'clear_checkpoint',\n",
       " 'rewindable',\n",
       " 'pause',\n",
       " '_resume_from_suspender',\n",
       " '_start_suspender',\n",
       " 'prepare',\n",
       " 'collect',\n",
       " 'kickoff',\n",
       " 'complete',\n",
       " 'configure',\n",
       " 'stage',\n",
       " 'unstage',\n",
       " 'subscribe',\n",
       " 'unsubscribe',\n",
       " 'open_run',\n",
       " 'close_run',\n",
       " 'wait_for',\n",
       " 'input',\n",
       " 'install_suspender',\n",
       " 'remove_suspender']"
      ]
     },
     "execution_count": 9,
     "metadata": {},
     "output_type": "execute_result"
    }
   ],
   "source": [
    "RE.commands\n"
   ]
  },
  {
   "cell_type": "code",
   "execution_count": null,
   "metadata": {},
   "outputs": [],
   "source": [
    "status = RM.send_request(method=\"queue_get\")\n",
    "status"
   ]
  },
  {
   "cell_type": "code",
   "execution_count": null,
   "metadata": {},
   "outputs": [],
   "source": [
    "status = RM.send_request(method=\"queue_clear\")\n",
    "status"
   ]
  },
  {
   "cell_type": "code",
   "execution_count": null,
   "metadata": {},
   "outputs": [],
   "source": [
    "RM.item_add({\"item_type\": \"plan\", \"name\": \"sleep\", \"kwargs\": {\"time\":10}})"
   ]
  },
  {
   "cell_type": "code",
   "execution_count": null,
   "metadata": {},
   "outputs": [],
   "source": [
    "RM.item_add({\"item_type\": \"plan\", \"name\": \"sleep\", \"kwargs\": {\"time\":40}})"
   ]
  },
  {
   "cell_type": "code",
   "execution_count": null,
   "metadata": {},
   "outputs": [],
   "source": [
    "RM.item_remove(pos=0)"
   ]
  },
  {
   "cell_type": "code",
   "execution_count": null,
   "metadata": {},
   "outputs": [],
   "source": [
    "RM.queue_start()"
   ]
  },
  {
   "cell_type": "code",
   "execution_count": null,
   "metadata": {},
   "outputs": [],
   "source": [
    "status = RM.send_request(method=\"status\")\n",
    "status"
   ]
  },
  {
   "cell_type": "code",
   "execution_count": null,
   "metadata": {},
   "outputs": [],
   "source": [
    "RM.close()"
   ]
  },
  {
   "cell_type": "code",
   "execution_count": null,
   "metadata": {},
   "outputs": [],
   "source": []
  }
 ],
 "metadata": {
  "kernelspec": {
   "display_name": "Python 3 (ipykernel)",
   "language": "python",
   "name": "python3"
  },
  "language_info": {
   "codemirror_mode": {
    "name": "ipython",
    "version": 3
   },
   "file_extension": ".py",
   "mimetype": "text/x-python",
   "name": "python",
   "nbconvert_exporter": "python",
   "pygments_lexer": "ipython3",
   "version": "3.12.5"
  }
 },
 "nbformat": 4,
 "nbformat_minor": 4
}
