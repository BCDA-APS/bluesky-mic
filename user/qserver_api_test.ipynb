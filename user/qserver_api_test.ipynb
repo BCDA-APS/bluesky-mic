{
 "cells": [
  {
   "cell_type": "code",
   "execution_count": 1,
   "metadata": {},
   "outputs": [],
   "source": [
    "from bluesky_queueserver_api.zmq import REManagerAPI\n",
    "\n",
    "# Create RE manager API. API communication via zmq\n",
    "# API calls are listed here: https://blueskyproject.io/bluesky-queueserver-api/api-reference.html#synchronous-communication-with-0mq-server\n",
    "RM = REManagerAPI()"
   ]
  },
  {
   "cell_type": "code",
   "execution_count": 2,
   "metadata": {},
   "outputs": [
    {
     "data": {
      "text/plain": [
       "{'msg': 'RE Manager v0.0.19',\n",
       " 'items_in_queue': 3,\n",
       " 'items_in_history': 9,\n",
       " 'running_item_uid': None,\n",
       " 'manager_state': 'idle',\n",
       " 'queue_stop_pending': False,\n",
       " 'queue_autostart_enabled': False,\n",
       " 'worker_environment_exists': False,\n",
       " 'worker_environment_state': 'closed',\n",
       " 'worker_background_tasks': 0,\n",
       " 're_state': None,\n",
       " 'ip_kernel_state': None,\n",
       " 'ip_kernel_captured': None,\n",
       " 'pause_pending': False,\n",
       " 'run_list_uid': '71595f8c-cc08-4b97-9ff6-69fe313d3981',\n",
       " 'plan_queue_uid': '64538cb9-467f-4986-95d7-732673a4a9f7',\n",
       " 'plan_history_uid': 'fd215759-47e8-4556-b652-5c6f26e8e261',\n",
       " 'devices_existing_uid': '94d65872-b7b4-46c0-bdb5-bcabb61d75b8',\n",
       " 'plans_existing_uid': 'be00bdde-2bda-4fa6-80e5-c3afa0acfa34',\n",
       " 'devices_allowed_uid': '90fbf090-e60f-47c7-a314-1baaee7659cc',\n",
       " 'plans_allowed_uid': '646ff3e1-b94f-41f1-a48c-073a83b1c9ae',\n",
       " 'plan_queue_mode': {'loop': False, 'ignore_failures': False},\n",
       " 'task_results_uid': '0b369bb8-cb8c-4d91-9a12-389a2de376db',\n",
       " 'lock_info_uid': '3b889cb4-41cd-473d-b2c7-c4d57b3936f3',\n",
       " 'lock': {'environment': False, 'queue': False}}"
      ]
     },
     "execution_count": 2,
     "metadata": {},
     "output_type": "execute_result"
    }
   ],
   "source": [
    "status = RM.send_request(method=\"status\")\n",
    "status"
   ]
  },
  {
   "cell_type": "code",
   "execution_count": 3,
   "metadata": {},
   "outputs": [
    {
     "data": {
      "text/plain": [
       "{'success': True,\n",
       " 'msg': '',\n",
       " 'items': [],\n",
       " 'running_item': {},\n",
       " 'plan_queue_uid': '84cbef2e-19cf-4c92-ad03-08edfea414b8'}"
      ]
     },
     "execution_count": 3,
     "metadata": {},
     "output_type": "execute_result"
    }
   ],
   "source": [
    "status = RM.send_request(method=\"queue_get\")\n",
    "status"
   ]
  },
  {
   "cell_type": "code",
   "execution_count": 4,
   "metadata": {},
   "outputs": [
    {
     "data": {
      "text/plain": [
       "{'success': True, 'msg': ''}"
      ]
     },
     "execution_count": 4,
     "metadata": {},
     "output_type": "execute_result"
    }
   ],
   "source": [
    "status = RM.send_request(method=\"queue_clear\")\n",
    "status"
   ]
  },
  {
   "cell_type": "code",
   "execution_count": 5,
   "metadata": {},
   "outputs": [
    {
     "data": {
      "text/plain": [
       "{'success': True,\n",
       " 'msg': '',\n",
       " 'qsize': 1,\n",
       " 'item': {'item_type': 'plan',\n",
       "  'name': 'sleep',\n",
       "  'kwargs': {'time': 10},\n",
       "  'user': 'Queue Server API User',\n",
       "  'user_group': 'primary',\n",
       "  'item_uid': '654940bd-1c02-41e5-b5aa-7bfafba7ccce'}}"
      ]
     },
     "execution_count": 5,
     "metadata": {},
     "output_type": "execute_result"
    }
   ],
   "source": [
    "RM.item_add({\"item_type\": \"plan\", \"name\": \"sleep\", \"kwargs\": {\"time\":10}})"
   ]
  },
  {
   "cell_type": "code",
   "execution_count": 35,
   "metadata": {},
   "outputs": [
    {
     "data": {
      "text/plain": [
       "{'success': True,\n",
       " 'msg': '',\n",
       " 'qsize': 2,\n",
       " 'item': {'item_type': 'plan',\n",
       "  'name': 'sleep',\n",
       "  'kwargs': {'time': 40},\n",
       "  'user': 'Queue Server API User',\n",
       "  'user_group': 'primary',\n",
       "  'item_uid': '752774d5-a462-4f8e-8a1f-12afbaa2a71e'}}"
      ]
     },
     "execution_count": 35,
     "metadata": {},
     "output_type": "execute_result"
    }
   ],
   "source": [
    "RM.item_add({\"item_type\": \"plan\", \"name\": \"sleep\", \"kwargs\": {\"time\":40}})"
   ]
  },
  {
   "cell_type": "code",
   "execution_count": 36,
   "metadata": {},
   "outputs": [
    {
     "data": {
      "text/plain": [
       "{'success': True,\n",
       " 'msg': '',\n",
       " 'item': {'item_type': 'plan',\n",
       "  'name': 'sleep',\n",
       "  'kwargs': {'time': 10},\n",
       "  'user': 'Queue Server API User',\n",
       "  'user_group': 'primary',\n",
       "  'item_uid': 'd3683010-d5b2-4f0e-8414-0352d2a94adf'},\n",
       " 'qsize': 1}"
      ]
     },
     "execution_count": 36,
     "metadata": {},
     "output_type": "execute_result"
    }
   ],
   "source": [
    "RM.item_remove(pos=0)"
   ]
  },
  {
   "cell_type": "code",
   "execution_count": 37,
   "metadata": {},
   "outputs": [
    {
     "data": {
      "text/plain": [
       "{'success': True, 'msg': ''}"
      ]
     },
     "execution_count": 37,
     "metadata": {},
     "output_type": "execute_result"
    }
   ],
   "source": [
    "RM.queue_start()"
   ]
  },
  {
   "cell_type": "code",
   "execution_count": 38,
   "metadata": {},
   "outputs": [
    {
     "data": {
      "text/plain": [
       "{'msg': 'RE Manager v0.0.19',\n",
       " 'items_in_queue': 0,\n",
       " 'items_in_history': 10,\n",
       " 'running_item_uid': '752774d5-a462-4f8e-8a1f-12afbaa2a71e',\n",
       " 'manager_state': 'executing_queue',\n",
       " 'queue_stop_pending': False,\n",
       " 'queue_autostart_enabled': False,\n",
       " 'worker_environment_exists': True,\n",
       " 'worker_environment_state': 'executing_plan',\n",
       " 'worker_background_tasks': 0,\n",
       " 're_state': 'running',\n",
       " 'ip_kernel_state': 'disabled',\n",
       " 'ip_kernel_captured': True,\n",
       " 'pause_pending': False,\n",
       " 'run_list_uid': '5b852aa2-79fb-4f2a-bd8a-f32db644ba0c',\n",
       " 'plan_queue_uid': 'c5ed28f7-69bd-425d-99b5-7cbb57e9dabd',\n",
       " 'plan_history_uid': '539decff-77c5-485f-8a57-7007264a7756',\n",
       " 'devices_existing_uid': '5c1f4cba-7303-4e8b-97cc-12a8a64c746c',\n",
       " 'plans_existing_uid': 'baf737d8-ff76-4f45-8c52-eb18a6d66eb2',\n",
       " 'devices_allowed_uid': '12b3dbc4-ba33-4ce4-82a4-7cf6675606fb',\n",
       " 'plans_allowed_uid': 'cc67b7ef-55ae-408d-b177-d86f97627960',\n",
       " 'plan_queue_mode': {'loop': False, 'ignore_failures': False},\n",
       " 'task_results_uid': '69997a45-da02-47c2-988e-f897729e3e78',\n",
       " 'lock_info_uid': '9ecad5c2-1b05-49cb-876d-0d91b1552630',\n",
       " 'lock': {'environment': False, 'queue': False}}"
      ]
     },
     "execution_count": 38,
     "metadata": {},
     "output_type": "execute_result"
    }
   ],
   "source": [
    "status = RM.send_request(method=\"status\")\n",
    "status"
   ]
  },
  {
   "cell_type": "code",
   "execution_count": 39,
   "metadata": {},
   "outputs": [],
   "source": [
    "RM.close()"
   ]
  },
  {
   "cell_type": "code",
   "execution_count": null,
   "metadata": {},
   "outputs": [],
   "source": []
  }
 ],
 "metadata": {
  "kernelspec": {
   "display_name": "Python 3 (ipykernel)",
   "language": "python",
   "name": "python3"
  },
  "language_info": {
   "codemirror_mode": {
    "name": "ipython",
    "version": 3
   },
   "file_extension": ".py",
   "mimetype": "text/x-python",
   "name": "python",
   "nbconvert_exporter": "python",
   "pygments_lexer": "ipython3",
   "version": "3.11.8"
  }
 },
 "nbformat": 4,
 "nbformat_minor": 4
}
