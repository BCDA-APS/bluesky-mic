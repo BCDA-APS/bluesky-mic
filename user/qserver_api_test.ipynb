{
 "cells": [
  {
   "cell_type": "code",
   "execution_count": 1,
   "metadata": {},
   "outputs": [],
   "source": [
    "from bluesky_queueserver_api.zmq import REManagerAPI\n",
    "\n",
    "# Create RE manager API. API communication via zmq\n",
    "# API calls are listed here: https://blueskyproject.io/bluesky-queueserver-api/api-reference.html#synchronous-communication-with-0mq-server\n",
    "RM = REManagerAPI()"
   ]
  },
  {
   "cell_type": "code",
   "execution_count": 38,
   "metadata": {},
   "outputs": [
    {
     "data": {
      "text/plain": [
       "\"'2idsft:'\""
      ]
     },
     "execution_count": 38,
     "metadata": {},
     "output_type": "execute_result"
    }
   ],
   "source": [
    "plans = RM.plans_existing()\n",
    "\n",
    "plans[\"plans_existing\"][\"profile_move_isn\"][\"parameters\"][0][\"default\"]\n",
    "\n"
   ]
  },
  {
   "cell_type": "code",
   "execution_count": 3,
   "metadata": {},
   "outputs": [
    {
     "data": {
      "text/plain": [
       "{'success': True,\n",
       " 'msg': '',\n",
       " 'items': [{'item_type': 'plan',\n",
       "   'name': 'sleep',\n",
       "   'kwargs': {'time': 10},\n",
       "   'user': 'Queue Server API User',\n",
       "   'user_group': 'primary',\n",
       "   'item_uid': 'c9e597d6-1120-45dd-a1d9-89ee6b0f574f'}],\n",
       " 'running_item': {},\n",
       " 'plan_queue_uid': '10a1d2ac-4447-46d1-8aa1-92a0032f013c'}"
      ]
     },
     "execution_count": 3,
     "metadata": {},
     "output_type": "execute_result"
    }
   ],
   "source": [
    "status = RM.send_request(method=\"queue_get\")\n",
    "status"
   ]
  },
  {
   "cell_type": "code",
   "execution_count": 4,
   "metadata": {},
   "outputs": [
    {
     "data": {
      "text/plain": [
       "{'success': True, 'msg': ''}"
      ]
     },
     "execution_count": 4,
     "metadata": {},
     "output_type": "execute_result"
    }
   ],
   "source": [
    "status = RM.send_request(method=\"queue_clear\")\n",
    "status"
   ]
  },
  {
   "cell_type": "code",
   "execution_count": 5,
   "metadata": {},
   "outputs": [
    {
     "data": {
      "text/plain": [
       "{'success': True,\n",
       " 'msg': '',\n",
       " 'qsize': 1,\n",
       " 'item': {'item_type': 'plan',\n",
       "  'name': 'sleep',\n",
       "  'kwargs': {'time': 10},\n",
       "  'user': 'Queue Server API User',\n",
       "  'user_group': 'primary',\n",
       "  'item_uid': 'fd61e567-5ace-404f-96a5-d15a120be5ea'}}"
      ]
     },
     "execution_count": 5,
     "metadata": {},
     "output_type": "execute_result"
    }
   ],
   "source": [
    "RM.item_add({\"item_type\": \"plan\", \"name\": \"sleep\", \"kwargs\": {\"time\":10}})"
   ]
  },
  {
   "cell_type": "code",
   "execution_count": 6,
   "metadata": {},
   "outputs": [
    {
     "data": {
      "text/plain": [
       "{'success': True,\n",
       " 'msg': '',\n",
       " 'qsize': 2,\n",
       " 'item': {'item_type': 'plan',\n",
       "  'name': 'sleep',\n",
       "  'kwargs': {'time': 40},\n",
       "  'user': 'Queue Server API User',\n",
       "  'user_group': 'primary',\n",
       "  'item_uid': 'd44a15d7-2c0b-4f84-a021-4816a3c791dd'}}"
      ]
     },
     "execution_count": 6,
     "metadata": {},
     "output_type": "execute_result"
    }
   ],
   "source": [
    "RM.item_add({\"item_type\": \"plan\", \"name\": \"sleep\", \"kwargs\": {\"time\":40}})"
   ]
  },
  {
   "cell_type": "code",
   "execution_count": 36,
   "metadata": {},
   "outputs": [
    {
     "data": {
      "text/plain": [
       "{'success': True,\n",
       " 'msg': '',\n",
       " 'item': {'item_type': 'plan',\n",
       "  'name': 'sleep',\n",
       "  'kwargs': {'time': 10},\n",
       "  'user': 'Queue Server API User',\n",
       "  'user_group': 'primary',\n",
       "  'item_uid': 'd3683010-d5b2-4f0e-8414-0352d2a94adf'},\n",
       " 'qsize': 1}"
      ]
     },
     "execution_count": 36,
     "metadata": {},
     "output_type": "execute_result"
    }
   ],
   "source": [
    "RM.item_remove(pos=0)"
   ]
  },
  {
   "cell_type": "code",
   "execution_count": 37,
   "metadata": {},
   "outputs": [
    {
     "data": {
      "text/plain": [
       "{'success': True, 'msg': ''}"
      ]
     },
     "execution_count": 37,
     "metadata": {},
     "output_type": "execute_result"
    }
   ],
   "source": [
    "RM.queue_start()"
   ]
  },
  {
   "cell_type": "code",
   "execution_count": 38,
   "metadata": {},
   "outputs": [
    {
     "data": {
      "text/plain": [
       "{'msg': 'RE Manager v0.0.19',\n",
       " 'items_in_queue': 0,\n",
       " 'items_in_history': 10,\n",
       " 'running_item_uid': '752774d5-a462-4f8e-8a1f-12afbaa2a71e',\n",
       " 'manager_state': 'executing_queue',\n",
       " 'queue_stop_pending': False,\n",
       " 'queue_autostart_enabled': False,\n",
       " 'worker_environment_exists': True,\n",
       " 'worker_environment_state': 'executing_plan',\n",
       " 'worker_background_tasks': 0,\n",
       " 're_state': 'running',\n",
       " 'ip_kernel_state': 'disabled',\n",
       " 'ip_kernel_captured': True,\n",
       " 'pause_pending': False,\n",
       " 'run_list_uid': '5b852aa2-79fb-4f2a-bd8a-f32db644ba0c',\n",
       " 'plan_queue_uid': 'c5ed28f7-69bd-425d-99b5-7cbb57e9dabd',\n",
       " 'plan_history_uid': '539decff-77c5-485f-8a57-7007264a7756',\n",
       " 'devices_existing_uid': '5c1f4cba-7303-4e8b-97cc-12a8a64c746c',\n",
       " 'plans_existing_uid': 'baf737d8-ff76-4f45-8c52-eb18a6d66eb2',\n",
       " 'devices_allowed_uid': '12b3dbc4-ba33-4ce4-82a4-7cf6675606fb',\n",
       " 'plans_allowed_uid': 'cc67b7ef-55ae-408d-b177-d86f97627960',\n",
       " 'plan_queue_mode': {'loop': False, 'ignore_failures': False},\n",
       " 'task_results_uid': '69997a45-da02-47c2-988e-f897729e3e78',\n",
       " 'lock_info_uid': '9ecad5c2-1b05-49cb-876d-0d91b1552630',\n",
       " 'lock': {'environment': False, 'queue': False}}"
      ]
     },
     "execution_count": 38,
     "metadata": {},
     "output_type": "execute_result"
    }
   ],
   "source": [
    "status = RM.send_request(method=\"status\")\n",
    "status"
   ]
  },
  {
   "cell_type": "code",
   "execution_count": 39,
   "metadata": {},
   "outputs": [],
   "source": [
    "RM.close()"
   ]
  },
  {
   "cell_type": "code",
   "execution_count": null,
   "metadata": {},
   "outputs": [],
   "source": []
  }
 ],
 "metadata": {
  "kernelspec": {
   "display_name": "Python 3 (ipykernel)",
   "language": "python",
   "name": "python3"
  },
  "language_info": {
   "codemirror_mode": {
    "name": "ipython",
    "version": 3
   },
   "file_extension": ".py",
   "mimetype": "text/x-python",
   "name": "python",
   "nbconvert_exporter": "python",
   "pygments_lexer": "ipython3",
   "version": "3.11.9"
  }
 },
 "nbformat": 4,
 "nbformat_minor": 4
}
