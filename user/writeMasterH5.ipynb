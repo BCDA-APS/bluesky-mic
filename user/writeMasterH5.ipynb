{
 "cells": [
  {
   "cell_type": "code",
   "execution_count": 1,
   "metadata": {},
   "outputs": [],
   "source": [
    "import os\n",
    "import h5py\n",
    "from writeMasterH5 import write_master_h5"
   ]
  },
  {
   "cell_type": "code",
   "execution_count": 2,
   "metadata": {},
   "outputs": [],
   "source": [
    "basedir = \"/mnt/micdata1/save_dev\"\n",
    "sample_name = \"test_sam\"\n",
    "master_path = os.path.join(os.path.join(basedir, sample_name), f\"{sample_name}_master_2.h5\")"
   ]
  },
  {
   "cell_type": "code",
   "execution_count": 5,
   "metadata": {},
   "outputs": [
    {
     "name": "stdout",
     "output_type": "stream",
     "text": [
      "Master file (/mnt/micdata1/save_dev/test_sam/test_sam_master_2.h5) has been created successfully\n"
     ]
    }
   ],
   "source": [
    "write_master_h5(master_filename=\"master_2.h5\", basedir=basedir, sample_name=sample_name)"
   ]
  },
  {
   "cell_type": "code",
   "execution_count": 9,
   "metadata": {},
   "outputs": [
    {
     "name": "stdout",
     "output_type": "stream",
     "text": [
      "positions: <KeysViewHDF5 ['positions.h5']>\n",
      "positions-positions.h5: <KeysViewHDF5 ['Counter', 'Encoder1', 'Encoder2', 'Word1', 'Word3', 'Word4', 'Word5', 'Word8']>\n",
      "positions-positions.h5-Counter: [91029324 91029325 91029326 ...        0        0        0]\n",
      "positions-positions.h5-Encoder1: [2147483609         69 2147483629 ...          0          0          0]\n",
      "positions-positions.h5-Encoder2: [       112 2147483632         89 ...          0          0          0]\n",
      "positions-positions.h5-Word1: [60179 60179 60179 ...     0     0     0]\n",
      "positions-positions.h5-Word3: [0 0 0 ... 0 0 0]\n",
      "positions-positions.h5-Word4: [0 0 0 ... 0 0 0]\n",
      "positions-positions.h5-Word5: [0 0 0 ... 0 0 0]\n",
      "positions-positions.h5-Word8: [0 0 0 ... 0 0 0]\n",
      "tetramm: <KeysViewHDF5 ['test_sam_00002.h5']>\n",
      "tetramm-test_sam_00002.h5: b'/mnt/micdata1/save_dev/test_sam/tetramm/test_sam_00002.h5'\n",
      "xspress3: <KeysViewHDF5 ['test_sam_00000.h5', 'test_sam_00001.h5', 'test_sam_00002.h5']>\n",
      "xspress3-test_sam_00000.h5: <KeysViewHDF5 ['data', 'instrument']>\n",
      "xspress3-test_sam_00000.h5-data: <KeysViewHDF5 ['data']>\n",
      "xspress3-test_sam_00000.h5-instrument: <KeysViewHDF5 ['NDAttributes', 'detector', 'performance']>\n",
      "xspress3-test_sam_00001.h5: <KeysViewHDF5 ['data', 'instrument']>\n",
      "xspress3-test_sam_00001.h5-data: <KeysViewHDF5 ['data']>\n",
      "xspress3-test_sam_00001.h5-instrument: <KeysViewHDF5 ['NDAttributes', 'detector', 'performance']>\n",
      "xspress3-test_sam_00002.h5: <KeysViewHDF5 ['data', 'instrument']>\n",
      "xspress3-test_sam_00002.h5-data: <KeysViewHDF5 ['data']>\n",
      "xspress3-test_sam_00002.h5-instrument: <KeysViewHDF5 ['NDAttributes', 'detector', 'performance']>\n"
     ]
    }
   ],
   "source": [
    "mpath = \"/mnt/micdata1/save_dev/test_sam/test_sam_master_2.h5\"\n",
    "with h5py.File(mpath, 'r') as f:\n",
    "    keys = f.keys()\n",
    "    # print(f\"{keys=}\")\n",
    "    for k in keys:\n",
    "        print(f\"{k}: {f[k].keys()}\")\n",
    "        k1 = f[k].keys()\n",
    "        for k_ in k1:\n",
    "            try:\n",
    "                print(f\"{k}-{k_}: {f[k][k_].keys()}\")\n",
    "                k2 = f[k][k_].keys()\n",
    "                for k__ in k2:\n",
    "                    try:\n",
    "                        print(f\"{k}-{k_}-{k__}: {f[k][k_][k__][:]}\")\n",
    "                    except:\n",
    "                        print(f\"{k}-{k_}-{k__}: {f[k][k_][k__].keys()}\")\n",
    "            except:\n",
    "                print(f\"{k}-{k_}: {f[k][k_][()]}\")"
   ]
  },
  {
   "cell_type": "code",
   "execution_count": null,
   "metadata": {},
   "outputs": [],
   "source": []
  }
 ],
 "metadata": {
  "kernelspec": {
   "display_name": "timelapse",
   "language": "python",
   "name": "python3"
  },
  "language_info": {
   "codemirror_mode": {
    "name": "ipython",
    "version": 3
   },
   "file_extension": ".py",
   "mimetype": "text/x-python",
   "name": "python",
   "nbconvert_exporter": "python",
   "pygments_lexer": "ipython3",
   "version": "3.11.9"
  }
 },
 "nbformat": 4,
 "nbformat_minor": 2
}
