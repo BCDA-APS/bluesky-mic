{
 "cells": [
  {
   "cell_type": "markdown",
   "metadata": {},
   "source": [
    "# "
   ]
  },
  {
   "cell_type": "code",
   "execution_count": 15,
   "metadata": {},
   "outputs": [
    {
     "name": "stdout",
     "output_type": "stream",
     "text": [
      "/home/beams/STAFF19ID/bluesky/instrument/_iconfig.py\n"
     ]
    }
   ],
   "source": [
    "import bluesky\n",
    "import bluesky.plan_stubs as bps\n",
    "from apstools.synApps import SscanRecord, SaveData\n",
    "from ophyd import Device, EpicsSignal, EpicsSignalRO, Component, EpicsMotor\n",
    "from apstools.plans import run_blocking_function\n",
    "from ophyd.status import Status\n",
    "import numpy as np\n",
    "from epics import caput, caget\n",
    "import logging\n",
    "import time\n",
    "import h5py\n",
    "import os\n",
    "import sys\n",
    "import subprocess\n",
    "import pathlib\n",
    "os.environ.pop('QT_QPA_PLATFORM', None)\n",
    "os.environ.pop('QT_QPA_PLATFORM_PLUGIN_PATH', None)\n",
    "sys.path.append(\"/home/beams/STAFF19ID/bluesky/\")\n",
    "# sys.path.append(str(pathlib.Path(__file__).absolute().parent))\n",
    "from instrument.devices.positionerstream_device import PositionerStream\n",
    "from instrument.devices.profile_move_device import ProfileMove\n",
    "from instrument.devices.softgluezynq_device import SoftGlueZynq\n",
    "from instrument.devices.tetramm_device import TetraMM\n",
    "from instrument.devices.xspress3_device import Xspress3\n",
    "from instrument.utils.trajectories import *"
   ]
  },
  {
   "cell_type": "code",
   "execution_count": 16,
   "metadata": {},
   "outputs": [],
   "source": [
    "def mkdir(directory):\n",
    "    if not os.path.exists(directory):\n",
    "        try:\n",
    "            os.makedirs(directory)\n",
    "            print(f\"Created directory: {directory}\")\n",
    "        except OSError as e:\n",
    "            print(f\"Failed to create directory: {directory} - {e}\")\n",
    "    else:\n",
    "        print(f\"Directory already exists: {directory}\")"
   ]
  },
  {
   "cell_type": "code",
   "execution_count": 17,
   "metadata": {},
   "outputs": [],
   "source": [
    "def mksubdirs(save_path, subdirs=[]):\n",
    "    for folder in subdirs:\n",
    "        path = f\"{save_path}{folder}\"\n",
    "        mkdir(path)"
   ]
  },
  {
   "cell_type": "code",
   "execution_count": 18,
   "metadata": {},
   "outputs": [],
   "source": [
    "def pvget(pv):\n",
    "    # TODO: refactor to use pvapy package - https://epics.anl.gov/extensions/pvaPy/production/index.html\n",
    "    try:\n",
    "        cmd = f'pvget {pv}'\n",
    "        result = subprocess.getstatusoutput(cmd)\n",
    "    except subprocess.CalledProcessError as e:\n",
    "        result = e\n"
   ]
  },
  {
   "cell_type": "code",
   "execution_count": 19,
   "metadata": {},
   "outputs": [],
   "source": [
    "def pvput(pv, value):\n",
    "    # TODO: refactor to use pvapy package - https://epics.anl.gov/extensions/pvaPy/production/index.html\n",
    "    try:\n",
    "        cmd = f'pvput {pv} {value}'\n",
    "        result = subprocess.getstatusoutput(cmd)\n",
    "    except subprocess.CalledProcessError as e:\n",
    "        result = e"
   ]
  },
  {
   "cell_type": "code",
   "execution_count": 26,
   "metadata": {},
   "outputs": [],
   "source": [
    "def create_master_file(basedir, sample_name, groups = [\"xspress3\", \"eiger\", \"mda\", \"tetramm\", \"positions\"]):\n",
    "    with h5py.File(f\"{basedir}/{sample_name}_master.h5\", \"w\") as f:\n",
    "        for group in groups:\n",
    "            f.create_group(group)\n",
    "            files = os.listdir(f\"{basedir}/{group}\")\n",
    "            if group == \"tetramm\":\n",
    "                files = [file for file in files if file.split(\".\")[-1]==\"nc\"]\n",
    "                string_data = [s.encode('utf-8') for s in files]\n",
    "                dset = f[group].create_dataset(\"fnames\", data=string_data)\n",
    "                # print(string_data)\n",
    "            elif group == \"mda\":\n",
    "                files = [file for file in files if file.split(\".\")[-1]==\"mda\"]\n",
    "                string_data = [s.encode('utf-8') for s in files]\n",
    "                dset = f[group].create_dataset(\"fnames\", data=string_data)\n",
    "                # print(string_data)\n",
    "            elif group == \"xspress3\": \n",
    "                files = [file for file in files if file.split(\".\")[-1]==\"h5\"]\n",
    "                for file in files:\n",
    "                    print(f\"./{group}/{file}\")\n",
    "                    f[f\"/{group}/{file}\"] = h5py.ExternalLink(f\"/{group}/{file}\", \"/entry\")\n",
    "            elif group == \"positions\": \n",
    "                files = [file for file in files if file.split(\".\")[-1]==\"h5\"]\n",
    "                for file in files:\n",
    "                    print(f\"./{group}/{file}\")\n",
    "                    f[f\"/{group}/{file}\"] = h5py.ExternalLink(f\"/{group}/{file}\", \"/stream\")"
   ]
  },
  {
   "cell_type": "code",
   "execution_count": 31,
   "metadata": {},
   "outputs": [
    {
     "ename": "SyntaxError",
     "evalue": "unterminated string literal (detected at line 12) (3866726772.py, line 12)",
     "output_type": "error",
     "traceback": [
      "\u001b[0;31m---------------------------------------------------------------------------\u001b[0m",
      "\u001b[0;31mSyntaxError\u001b[0m                               Traceback (most recent call last)",
      "File \u001b[0;32m~/.conda/envs/bluesky_2024_2/lib/python3.11/site-packages/IPython/core/compilerop.py:86\u001b[0m, in \u001b[0;36mCachingCompiler.ast_parse\u001b[0;34m(self, source, filename, symbol)\u001b[0m\n\u001b[1;32m     81\u001b[0m \u001b[38;5;28;01mdef\u001b[39;00m \u001b[38;5;21mast_parse\u001b[39m(\u001b[38;5;28mself\u001b[39m, source, filename\u001b[38;5;241m=\u001b[39m\u001b[38;5;124m'\u001b[39m\u001b[38;5;124m<unknown>\u001b[39m\u001b[38;5;124m'\u001b[39m, symbol\u001b[38;5;241m=\u001b[39m\u001b[38;5;124m'\u001b[39m\u001b[38;5;124mexec\u001b[39m\u001b[38;5;124m'\u001b[39m):\n\u001b[1;32m     82\u001b[0m \u001b[38;5;250m    \u001b[39m\u001b[38;5;124;03m\"\"\"Parse code to an AST with the current compiler flags active.\u001b[39;00m\n\u001b[1;32m     83\u001b[0m \n\u001b[1;32m     84\u001b[0m \u001b[38;5;124;03m    Arguments are exactly the same as ast.parse (in the standard library),\u001b[39;00m\n\u001b[1;32m     85\u001b[0m \u001b[38;5;124;03m    and are passed to the built-in compile function.\"\"\"\u001b[39;00m\n\u001b[0;32m---> 86\u001b[0m     \u001b[38;5;28;01mreturn\u001b[39;00m \u001b[38;5;28mcompile\u001b[39m(source, filename, symbol, \u001b[38;5;28mself\u001b[39m\u001b[38;5;241m.\u001b[39mflags \u001b[38;5;241m|\u001b[39m PyCF_ONLY_AST, \u001b[38;5;241m1\u001b[39m)\n",
      "\u001b[0;31mSyntaxError\u001b[0m: unterminated string literal (detected at line 12) (3866726772.py, line 12)"
     ]
    }
   ],
   "source": [
    "%run -i run_scan_plan.py"
   ]
  },
  {
   "cell_type": "markdown",
   "metadata": {},
   "source": [
    "## !!!! Instability notes\n",
    "\n",
    "- if Profile move gets too many points (more than MAX_ARR_Something.. ) the ioc crashes,\n",
    "  and the tetraMM will need to be power cycled\n",
    "\n",
    "- Consecutive capture/stop acquire/stop commands seem to cause xspress3 ioc to crash.. need some recovery method. I think it\n",
    "  is from triggering \"erase\" twice in a row; set erase on start to no.\n",
    "\n",
    "- xspress3 buffer offloading still painfully slow.. for demo keep aq rate to less than 100Hz\n",
    "\n",
    "- stop capture sometimes stops working on both xspress3 and tetramm: this was due to micdata file storage instability."
   ]
  },
  {
   "cell_type": "code",
   "execution_count": null,
   "metadata": {},
   "outputs": [],
   "source": [
    "RE = bluesky.RunEngine()\n",
    "RE(run_scan(scan_type=\"fly\", trajectory=\"snake\", loop1=\"2idsft:m1\", loop2=\"2idsft:m2\", dwell_time=\"10\", \n",
    "             devices={\"flyXRF\":\"XSP3_1Chan:\", \"tetramm:\":\"2idsft:TetrAMM1\", \"profilemove\":\"2idsft:pm1\", \"softglue\": \"2idMZ1:\", \"positions\":\"posvr:\"},\n",
    "             sample_name=\"sample_name\", pi_directory = \"/mnt/micdata1/save_dev/\", comments=\"\",\n",
    "             l1_center=0, l1_size=0.01, l1_width=0.5, l2_center=0, l2_size=0.01, l2_width=0.5,\n",
    "             ):"
   ]
  }
 ],
 "metadata": {
  "kernelspec": {
   "display_name": "Python 3 (ipykernel)",
   "language": "python",
   "name": "python3"
  },
  "language_info": {
   "codemirror_mode": {
    "name": "ipython",
    "version": 3
   },
   "file_extension": ".py",
   "mimetype": "text/x-python",
   "name": "python",
   "nbconvert_exporter": "python",
   "pygments_lexer": "ipython3",
   "version": "3.11.9"
  }
 },
 "nbformat": 4,
 "nbformat_minor": 4
}
