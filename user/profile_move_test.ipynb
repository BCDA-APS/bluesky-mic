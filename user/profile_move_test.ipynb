{
 "cells": [
  {
   "cell_type": "code",
   "execution_count": 13,
   "metadata": {},
   "outputs": [],
   "source": [
    "import bluesky\n",
    "import bluesky.plan_stubs as bps\n",
    "from apstools.synApps import SscanRecord\n",
    "from ophyd import EpicsMotor, EpicsSignal\n",
    "from ophyd import Device, EpicsSignal, EpicsSignalRO\n",
    "from ophyd import Component as Cpt\n",
    "import time\n",
    "from apstools.plans import run_blocking_function\n",
    "from ophyd.status import Status\n",
    "import numpy as np\n",
    "from epics import caput"
   ]
  },
  {
   "cell_type": "code",
   "execution_count": 41,
   "metadata": {},
   "outputs": [
    {
     "name": "stdout",
     "output_type": "stream",
     "text": [
      "exit in setup_scan function\n"
     ]
    }
   ],
   "source": [
    "class ProfileMove:\n",
    "    #setup profile move device\n",
    "    def __init__(self, ioc, profilemove_name):\n",
    "    #     self.abort = Cpt(EpicsSignal,f'{ioc}{profilemove_name}Abort')\n",
    "    #     self.num_points = Cpt(EpicsSignal,f'{ioc}{profilemove_name}NumPoints')\n",
    "    #     self.timer_mode = Cpt(EpicsSignal,f'{ioc}{profilemove_name}TimeMode')\n",
    "    #     self.accel = Cpt(EpicsSignal,f'{ioc}{profilemove_name}Acceleration')\n",
    "    #     self.num_pulses = Cpt(EpicsSignal,f'{ioc}{profilemove_name}NumPulses')\n",
    "    #     self.m1_arr = Cpt(EpicsSignal,f'{ioc}{profilemove_name}M1Positions')\n",
    "    #     self.m1_proc = Cpt(EpicsSignal,f'{ioc}{profilemove_name}M1Positions.PROC')\n",
    "    #     self.m1_use = Cpt(EpicsSignal,f'{ioc}{profilemove_name}M1UseAxis')\n",
    "    #     self.m2_arr = Cpt(EpicsSignal,f'{ioc}{profilemove_name}M2Positions')\n",
    "    #     self.m2_proc = Cpt(EpicsSignal,f'{ioc}{profilemove_name}M2Positions.PROC')\n",
    "    #     self.m2_use = Cpt(EpicsSignal,f'{ioc}{profilemove_name}M2UseAxis')\n",
    "    #     self.m3_arr = Cpt(EpicsSignal,f'{ioc}{profilemove_name}M3Positions')\n",
    "    #     self.m3_proc = Cpt(EpicsSignal,f'{ioc}{profilemove_name}M3Positions.PROC')\n",
    "    #     self.m3_use = Cpt(EpicsSignal,f'{ioc}{profilemove_name}M3UseAxis')\n",
    "    #     self.m4_arr = Cpt(EpicsSignal,f'{ioc}{profilemove_name}M4Positions')\n",
    "    #     self.m4_proc = Cpt(EpicsSignal,f'{ioc}{profilemove_name}M4Positions.PROC')\n",
    "    #     self.m4_use = Cpt(EpicsSignal,f'{ioc}{profilemove_name}M4UseAxis')\n",
    "    #     self.m5_arr = Cpt(EpicsSignal,f'{ioc}{profilemove_name}M5Positions')\n",
    "    #     self.m5_proc = Cpt(EpicsSignal,f'{ioc}{profilemove_name}M5Positions.PROC')\n",
    "    #     self.m5_use = Cpt(EpicsSignal,f'{ioc}{profilemove_name}M5UseAxis')\n",
    "    #     self.m6_arr = Cpt(EpicsSignal,f'{ioc}{profilemove_name}M6Positions')\n",
    "    #     self.m6_proc = Cpt(EpicsSignal,f'{ioc}{profilemove_name}M6Positions.PROC')\n",
    "    #     self.m6_use = Cpt(EpicsSignal,f'{ioc}{profilemove_name}M6UseAxis')\n",
    "    #     self.times = Cpt(EpicsSignal,f'{ioc}{profilemove_name}Times')\n",
    "    #     self.fixed_time = Cpt(EpicsSignal,f'{ioc}{profilemove_name}FixedTime')\n",
    "    #     self.build = Cpt(EpicsSignal,f'{ioc}{profilemove_name}Build')\n",
    "    #     self.exsc = Cpt(EpicsSignal, f'{ioc}{profilemove_name}Execute')\n",
    "    #     self.readback = Cpt(EpicsSignal,f'{ioc}{profilemove_name}Readback')\n",
    "    #     self.exsc_state = Cpt(EpicsSignal,f'{ioc}{profilemove_name}ExecuteState')\n",
    "    #     self.move_mode = Cpt(EpicsSignal,f'{ioc}{profilemove_name}MoveMode')\n",
    "    #     def __init__(self, ioc, profilemove_name):\n",
    "        self.abort = EpicsSignal(f'{ioc}{profilemove_name}Abort')\n",
    "        self.num_points = EpicsSignal(f'{ioc}{profilemove_name}NumPoints')\n",
    "        self.timer_mode = EpicsSignal(f'{ioc}{profilemove_name}TimeMode')\n",
    "        self.accel = EpicsSignal(f'{ioc}{profilemove_name}Acceleration')\n",
    "        self.num_pulses = EpicsSignal(f'{ioc}{profilemove_name}NumPulses')\n",
    "        self.m1_arr = EpicsSignal(f'{ioc}{profilemove_name}M1Positions')\n",
    "        self.m1_proc = EpicsSignal(f'{ioc}{profilemove_name}M1Positions.PROC')\n",
    "        self.m1_use = EpicsSignal(f'{ioc}{profilemove_name}M1UseAxis')\n",
    "        self.m2_arr = EpicsSignal(f'{ioc}{profilemove_name}M2Positions')\n",
    "        self.m2_proc = EpicsSignal(f'{ioc}{profilemove_name}M2Positions.PROC')\n",
    "        self.m2_use = EpicsSignal(f'{ioc}{profilemove_name}M2UseAxis')\n",
    "        self.m3_arr = EpicsSignal(f'{ioc}{profilemove_name}M3Positions')\n",
    "        self.m3_proc = EpicsSignal(f'{ioc}{profilemove_name}M3Positions.PROC')\n",
    "        self.m3_use = EpicsSignal(f'{ioc}{profilemove_name}M3UseAxis')\n",
    "        self.m4_arr = EpicsSignal(f'{ioc}{profilemove_name}M4Positions')\n",
    "        self.m4_proc = EpicsSignal(f'{ioc}{profilemove_name}M4Positions.PROC')\n",
    "        self.m4_use = EpicsSignal(f'{ioc}{profilemove_name}M4UseAxis')\n",
    "        self.m5_arr = EpicsSignal(f'{ioc}{profilemove_name}M5Positions')\n",
    "        self.m5_proc = EpicsSignal(f'{ioc}{profilemove_name}M5Positions.PROC')\n",
    "        self.m5_use = EpicsSignal(f'{ioc}{profilemove_name}M5UseAxis')\n",
    "        self.m6_arr = EpicsSignal(f'{ioc}{profilemove_name}M6Positions')\n",
    "        self.m6_proc = EpicsSignal(f'{ioc}{profilemove_name}M6Positions.PROC')\n",
    "        self.m6_use = EpicsSignal(f'{ioc}{profilemove_name}M6UseAxis')\n",
    "        self.times = EpicsSignal(f'{ioc}{profilemove_name}Times')\n",
    "        self.fixed_time = EpicsSignal(f'{ioc}{profilemove_name}FixedTime')\n",
    "        self.build = EpicsSignal(f'{ioc}{profilemove_name}Build')\n",
    "        self.exsc = EpicsSignal(f'{ioc}{profilemove_name}Execute', kind=\"omitted\")\n",
    "        self.readback = EpicsSignal(f'{ioc}{profilemove_name}Readback')\n",
    "        self.exsc_state = EpicsSignal(f'{ioc}{profilemove_name}ExecuteState')\n",
    "        self.move_mode = EpicsSignal(f'{ioc}{profilemove_name}MoveMode')\n",
    "        \n",
    "    # def set(self, value, **kwargs):\n",
    "    #     \"\"\"interface to use bps.mv()\"\"\"\n",
    "    #     if value != 1:\n",
    "    #         return\n",
    "\n",
    "    #     working_status = DeviceStatus(self)\n",
    "    #     started = False\n",
    "\n",
    "    #     def exsc_cb(value, timestamp, **kwargs):\n",
    "    #         value = int(value)\n",
    "    #         if started and value == 0:\n",
    "    #             working_status._finished()\n",
    "        \n",
    "    #     self.exsc.subscribe(exsc_cb)\n",
    "    #     self.exsc.set(1)\n",
    "    #     started = True\n",
    "    #     return working_status\n",
    "    \n",
    "    def wait_for_connection(self):\n",
    "        time.sleep(3)\n",
    "        #TODO: this needs to be re-implemented for profile move, not sure how it's done for SscanRecord\n",
    "\n",
    "    \n",
    "    print(\"exit in setup_scan function\")"
   ]
  },
  {
   "cell_type": "code",
   "execution_count": 14,
   "metadata": {},
   "outputs": [
    {
     "data": {
      "text/plain": [
       "'2idsft:pm1:M1Positions'"
      ]
     },
     "execution_count": 14,
     "metadata": {},
     "output_type": "execute_result"
    }
   ],
   "source": [
    "pm1.m1_arr.pvname"
   ]
  },
  {
   "cell_type": "code",
   "execution_count": 33,
   "metadata": {},
   "outputs": [],
   "source": [
    "def setup_profile_move(pm1, xarr, yarr, dwell_time):\n",
    "    print(\"in setup_profile_move function\")\n",
    "    pm1.wait_for_connection()\n",
    "    # yield from run_blocking_function(pm1.abort) # TODO: re-implement reset function for profile move\n",
    "    yield from bps.sleep(0.2)  # arbitrary wait for EPICS to finish the reset.\n",
    "    yield from bps.mv(\n",
    "        pm1.m1_use, 1,\n",
    "        pm1.m2_use, 1)\n",
    "    \n",
    "    # m1_arr and m2_arr assignment\n",
    "    caput(pm1.m1_arr.pvname, xarr)\n",
    "    caput(pm1.m2_arr.pvname, yarr)\n",
    "\n",
    "    yield from bps.mv(\n",
    "        pm1.m1_arr, xarr, \n",
    "        pm1.m2_arr, yarr, \n",
    "        pm1.num_points, len(xarr), \n",
    "        pm1.timer_mode, 0, \n",
    "        pm1.accel, 0, \n",
    "        pm1.fixed_time, dwell_time,\n",
    "    ) \n",
    "\n",
    "    yield from bps.trigger(pm1.m1_proc)\n",
    "    yield from bps.trigger(pm1.m2_proc)\n",
    "    yield from bps.trigger(pm1.build)\n",
    "\n",
    "    caput(pm1.build.pvname, 1)\n",
    "\n",
    "        \n",
    "    print(\"exit in setup_scan function\")\n"
   ]
  },
  {
   "cell_type": "code",
   "execution_count": 47,
   "metadata": {},
   "outputs": [],
   "source": [
    "def profile_move_isn(pm1, m1_start = -0.5, m1_finish = 0.5, \n",
    "                     m2_start = -0.2 ,m2_finish = 0.2, dwell_time = 0.1,\n",
    "                     xpts = 10, ypts = 10):\n",
    "    \n",
    "    \"\"\"Simple bluesky plan for demonstrating 2D raster scan.\"\"\"\n",
    "    param_labels = ['profilemove_name', 'ioc', 'm1_start', 'm1_finish', 'm2_start', 'm2_finish', 'dwell_time']\n",
    "\n",
    "    for l in param_labels:\n",
    "        print(f\"plan starts with {l}={eval(l)}\")\n",
    "\n",
    "    \"\"\"Set up profile move\"\"\"\n",
    "    print(\"in profile_move function\")\n",
    "    m1_arr = np.linspace(m1_start, m1_finish, xpts)\n",
    "    m2_arr = np.linspace(m2_start, m2_finish, ypts)\n",
    "    xx, yy = np.meshgrid(m1_arr, m2_arr)\n",
    "    xarr = xx.flatten()\n",
    "    yarr= yy.flatten()\n",
    "    yield from setup_profile_move(pm1, xarr, yarr, dwell_time=dwell_time)\n",
    "\n",
    "    \"\"\"Start executing scan\"\"\"\n",
    "    st = Status()\n",
    "    print(\"Done setting up scan record, about to start scan\")\n",
    "\n",
    "    def watch_execute_scan(old_value, value, **kwargs):\n",
    "        # Watch for scan1.EXSC to change from 1 to 0 (when the scan ends).\n",
    "        if old_value == (1 or 2 or 3)  and value == 0:\n",
    "            # mark as finished (successfully).\n",
    "            st.set_finished()\n",
    "\n",
    "            # Remove the subscription.\n",
    "            pm1.exsc.clear_sub(watch_execute_scan)\n",
    "\n",
    "    # yield from bps.mv(pm1.exec, 1)\n",
    "    caput(pm1.exsc.pvname, 1)\n",
    "    pm1.exsc.subscribe(watch_execute_scan)\n",
    "    yield from run_blocking_function(st.wait)\n",
    "\n",
    "    print(\"end of plan\\n\")"
   ]
  },
  {
   "cell_type": "code",
   "execution_count": 48,
   "metadata": {
    "scrolled": true
   },
   "outputs": [
    {
     "name": "stdout",
     "output_type": "stream",
     "text": [
      "plan starts with profilemove_name=pm1:\n",
      "plan starts with ioc=2idsft:\n",
      "plan starts with m1_start=-0.5"
     ]
    },
    {
     "name": "stdout",
     "output_type": "stream",
     "text": [
      "\n",
      "plan starts with m1_finish=0.5\n",
      "plan starts with m2_start=-0.2\n",
      "plan starts with m2_finish=0.2\n",
      "plan starts with dwell_time=0.1\n",
      "in profile_move function\n",
      "in setup_profile_move function\n",
      "exit in setup_scan function\n",
      "Done setting up scan record, about to start scan\n"
     ]
    },
    {
     "name": "stderr",
     "output_type": "stream",
     "text": [
      "Subscription value callback exception (EpicsSignal(read_pv='2idsft:pm1:Execute', name='2idsft:pm1:Execute', value=0, timestamp=1715806267.337291, auto_monitor=True, string=False, write_pv='2idsft:pm1:Execute', limits=False, put_complete=False))\n",
      "Traceback (most recent call last):\n",
      "  File \"/home/beams/USER2IDD/.conda/envs/bluesky_2024_1/lib/python3.11/site-packages/ophyd/ophydobj.py\", line 492, in inner\n",
      "    cb(*args, **kwargs)\n",
      "  File \"/tmp/ipykernel_1421926/2041993607.py\", line 28, in watch_execute_scan\n",
      "    st.set_finished()\n",
      "  File \"/home/beams/USER2IDD/.conda/envs/bluesky_2024_1/lib/python3.11/site-packages/ophyd/status.py\", line 338, in set_finished\n",
      "    raise InvalidState(\n",
      "ophyd.utils.errors.InvalidState: Either set_finished() or set_exception() has already been called on Status(obj=None, done=True, success=True)\n"
     ]
    },
    {
     "name": "stdout",
     "output_type": "stream",
     "text": [
      "end of plan\n",
      "\n"
     ]
    },
    {
     "data": {
      "text/plain": [
       "()"
      ]
     },
     "execution_count": 48,
     "metadata": {},
     "output_type": "execute_result"
    }
   ],
   "source": [
    "RE = bluesky.RunEngine()\n",
    "ioc = \"2idsft:\"\n",
    "profilemove_name = \"pm1:\"\n",
    "pm1 = ProfileMove(ioc=ioc, profilemove_name=profilemove_name)\n",
    "\n",
    "RE(profile_move_isn(pm1, m1_start = -0.5, m1_finish = 0.5, m2_start = -0.2 ,\n",
    "                    m2_finish = 0.2, dwell_time = 0.1, xpts = 12, ypts=12))\n",
    "# RE(setup_profile_move(pm1=pm1, profilemove_name=profilemove_name, ioc=ioc, m1_name=m1_name, m2_name=m2_name,\n",
    "#                 m1_start=m1_start, m1_finish=m1_finish, m2_start=m2_start, \n",
    "#                 m2_finish=m2_finish, npts=npts, dwell_time=dwell_time))"
   ]
  },
  {
   "cell_type": "code",
   "execution_count": 36,
   "metadata": {},
   "outputs": [
    {
     "data": {
      "text/plain": [
       "1"
      ]
     },
     "execution_count": 36,
     "metadata": {},
     "output_type": "execute_result"
    }
   ],
   "source": [
    "caput(pm1.build.pvname, 1)"
   ]
  },
  {
   "cell_type": "code",
   "execution_count": 25,
   "metadata": {},
   "outputs": [
    {
     "data": {
      "text/plain": [
       "(100,)"
      ]
     },
     "execution_count": 25,
     "metadata": {},
     "output_type": "execute_result"
    }
   ],
   "source": [
    "a = np.linspace(-0.5, 0.5, 10)\n",
    "xx, yy = np.meshgrid(a,a)\n",
    "xx.ravel().shape"
   ]
  },
  {
   "cell_type": "code",
   "execution_count": 35,
   "metadata": {},
   "outputs": [],
   "source": [
    "RE = bluesky.RunEngine()"
   ]
  },
  {
   "cell_type": "code",
   "execution_count": 33,
   "metadata": {},
   "outputs": [
    {
     "name": "stdout",
     "output_type": "stream",
     "text": [
      "plan starts with profilemove_name=pm1:\n",
      "plan starts with ioc=2idsft:\n",
      "plan starts with m1_start=-0.5\n",
      "plan starts with m1_finish=0.5\n",
      "plan starts with m2_start=-0.2\n",
      "plan starts with m2_finish=0.2\n",
      "plan starts with dwell_time=0.1\n",
      "in profile_move function\n",
      "in setup_profile_move function\n"
     ]
    },
    {
     "name": "stderr",
     "output_type": "stream",
     "text": [
      "Run aborted\n",
      "Traceback (most recent call last):\n",
      "  File \"/home/beams/USER2IDD/.conda/envs/bluesky_2024_1/lib/python3.11/site-packages/bluesky/run_engine.py\", line 1547, in _run\n",
      "    msg = self._plan_stack[-1].send(resp)\n",
      "          ^^^^^^^^^^^^^^^^^^^^^^^^^^^^^^^\n",
      "  File \"/tmp/ipykernel_759502/851514238.py\", line 16, in profile_move_isn\n",
      "    yield from setup_profile_move(pm1, xarr, yarr, dwell_time=dwell_time)\n",
      "  File \"/tmp/ipykernel_759502/3607996967.py\", line 6, in setup_profile_move\n",
      "    yield from bps.mv(\n",
      "  File \"/home/beams/USER2IDD/.conda/envs/bluesky_2024_1/lib/python3.11/site-packages/bluesky/plan_stubs.py\", line 279, in mv\n",
      "    (step,) = merge_cycler(cyl)\n",
      "              ^^^^^^^^^^^^^^^^^\n",
      "  File \"/home/beams/USER2IDD/.conda/envs/bluesky_2024_1/lib/python3.11/site-packages/bluesky/utils/__init__.py\", line 1517, in merge_cycler\n",
      "    io, co, gb = merge_axis(cyc.keys)\n",
      "                 ^^^^^^^^^^^^^^^^^^^^\n",
      "  File \"/home/beams/USER2IDD/.conda/envs/bluesky_2024_1/lib/python3.11/site-packages/bluesky/utils/__init__.py\", line 1461, in merge_axis\n",
      "    parent = o.parent\n",
      "             ^^^^^^^^\n",
      "AttributeError: 'Component' object has no attribute 'parent'\n"
     ]
    },
    {
     "ename": "AttributeError",
     "evalue": "'Component' object has no attribute 'parent'",
     "output_type": "error",
     "traceback": [
      "\u001b[0;31m---------------------------------------------------------------------------\u001b[0m",
      "\u001b[0;31mAttributeError\u001b[0m                            Traceback (most recent call last)",
      "Cell \u001b[0;32mIn[33], line 1\u001b[0m\n\u001b[0;32m----> 1\u001b[0m \u001b[43mRE\u001b[49m\u001b[43m(\u001b[49m\u001b[43mprofile_move_isn\u001b[49m\u001b[43m(\u001b[49m\u001b[43mpm1\u001b[49m\u001b[43m)\u001b[49m\u001b[43m)\u001b[49m\n",
      "File \u001b[0;32m~/.conda/envs/bluesky_2024_1/lib/python3.11/site-packages/bluesky/run_engine.py:918\u001b[0m, in \u001b[0;36mRunEngine.__call__\u001b[0;34m(self, *args, **metadata_kw)\u001b[0m\n\u001b[1;32m    914\u001b[0m         \u001b[38;5;28mself\u001b[39m\u001b[38;5;241m.\u001b[39m_blocking_event\u001b[38;5;241m.\u001b[39mset()\n\u001b[1;32m    916\u001b[0m     \u001b[38;5;28mself\u001b[39m\u001b[38;5;241m.\u001b[39m_task_fut\u001b[38;5;241m.\u001b[39madd_done_callback(set_blocking_event)\n\u001b[0;32m--> 918\u001b[0m plan_return \u001b[38;5;241m=\u001b[39m \u001b[38;5;28;43mself\u001b[39;49m\u001b[38;5;241;43m.\u001b[39;49m\u001b[43m_resume_task\u001b[49m\u001b[43m(\u001b[49m\u001b[43minit_func\u001b[49m\u001b[38;5;241;43m=\u001b[39;49m\u001b[43m_build_task\u001b[49m\u001b[43m)\u001b[49m\n\u001b[1;32m    920\u001b[0m \u001b[38;5;28;01mif\u001b[39;00m \u001b[38;5;28mself\u001b[39m\u001b[38;5;241m.\u001b[39m_interrupted:\n\u001b[1;32m    921\u001b[0m     \u001b[38;5;28;01mraise\u001b[39;00m RunEngineInterrupted(\u001b[38;5;28mself\u001b[39m\u001b[38;5;241m.\u001b[39mpause_msg) \u001b[38;5;28;01mfrom\u001b[39;00m \u001b[38;5;28;01mNone\u001b[39;00m\n",
      "File \u001b[0;32m~/.conda/envs/bluesky_2024_1/lib/python3.11/site-packages/bluesky/run_engine.py:1057\u001b[0m, in \u001b[0;36mRunEngine._resume_task\u001b[0;34m(self, init_func)\u001b[0m\n\u001b[1;32m   1053\u001b[0m \u001b[38;5;66;03m# if the main task exception is not None, re-raise\u001b[39;00m\n\u001b[1;32m   1054\u001b[0m \u001b[38;5;66;03m# it (unless it is a canceled error)\u001b[39;00m\n\u001b[1;32m   1055\u001b[0m \u001b[38;5;28;01mif\u001b[39;00m (exc \u001b[38;5;129;01mis\u001b[39;00m \u001b[38;5;129;01mnot\u001b[39;00m \u001b[38;5;28;01mNone\u001b[39;00m\n\u001b[1;32m   1056\u001b[0m         \u001b[38;5;129;01mand\u001b[39;00m \u001b[38;5;129;01mnot\u001b[39;00m \u001b[38;5;28misinstance\u001b[39m(exc, _RunEnginePanic)):\n\u001b[0;32m-> 1057\u001b[0m     \u001b[38;5;28;01mraise\u001b[39;00m exc\n\u001b[1;32m   1058\u001b[0m \u001b[38;5;66;03m# Only try to get a result if there wasn't an error,\u001b[39;00m\n\u001b[1;32m   1059\u001b[0m \u001b[38;5;66;03m# (other than a cancelled error)\u001b[39;00m\n\u001b[1;32m   1060\u001b[0m \u001b[38;5;28;01mif\u001b[39;00m exc \u001b[38;5;129;01mis\u001b[39;00m \u001b[38;5;28;01mNone\u001b[39;00m:\n",
      "File \u001b[0;32m~/.conda/envs/bluesky_2024_1/lib/python3.11/site-packages/bluesky/run_engine.py:1687\u001b[0m, in \u001b[0;36mRunEngine._run\u001b[0;34m(self)\u001b[0m\n\u001b[1;32m   1685\u001b[0m     exit_reason \u001b[38;5;241m=\u001b[39m \u001b[38;5;28mstr\u001b[39m(err)\n\u001b[1;32m   1686\u001b[0m     \u001b[38;5;28mself\u001b[39m\u001b[38;5;241m.\u001b[39mlog\u001b[38;5;241m.\u001b[39mexception(\u001b[38;5;124m\"\u001b[39m\u001b[38;5;124mRun aborted\u001b[39m\u001b[38;5;124m\"\u001b[39m)\n\u001b[0;32m-> 1687\u001b[0m     \u001b[38;5;28;01mraise\u001b[39;00m err\n\u001b[1;32m   1688\u001b[0m \u001b[38;5;28;01mfinally\u001b[39;00m:\n\u001b[1;32m   1689\u001b[0m     \u001b[38;5;28;01mif\u001b[39;00m \u001b[38;5;129;01mnot\u001b[39;00m exit_reason:\n",
      "File \u001b[0;32m~/.conda/envs/bluesky_2024_1/lib/python3.11/site-packages/bluesky/run_engine.py:1547\u001b[0m, in \u001b[0;36mRunEngine._run\u001b[0;34m(self)\u001b[0m\n\u001b[1;32m   1544\u001b[0m \u001b[38;5;66;03m# The normal case of clean operation\u001b[39;00m\n\u001b[1;32m   1545\u001b[0m \u001b[38;5;28;01melse\u001b[39;00m:\n\u001b[1;32m   1546\u001b[0m     \u001b[38;5;28;01mtry\u001b[39;00m:\n\u001b[0;32m-> 1547\u001b[0m         msg \u001b[38;5;241m=\u001b[39m \u001b[38;5;28mself\u001b[39m\u001b[38;5;241m.\u001b[39m_plan_stack[\u001b[38;5;241m-\u001b[39m\u001b[38;5;241m1\u001b[39m]\u001b[38;5;241m.\u001b[39msend(resp)\n\u001b[1;32m   1548\u001b[0m     \u001b[38;5;66;03m# We have exhausted the top generator\u001b[39;00m\n\u001b[1;32m   1549\u001b[0m     \u001b[38;5;28;01mexcept\u001b[39;00m \u001b[38;5;167;01mStopIteration\u001b[39;00m:\n\u001b[1;32m   1550\u001b[0m         \u001b[38;5;66;03m# pop the dead generator go back to the top\u001b[39;00m\n",
      "Cell \u001b[0;32mIn[30], line 16\u001b[0m, in \u001b[0;36mprofile_move_isn\u001b[0;34m(pm1, m1_start, m1_finish, m2_start, m2_finish, dwell_time)\u001b[0m\n\u001b[1;32m     14\u001b[0m xarr \u001b[38;5;241m=\u001b[39m xx\u001b[38;5;241m.\u001b[39mflatten()\n\u001b[1;32m     15\u001b[0m yarr\u001b[38;5;241m=\u001b[39m yy\u001b[38;5;241m.\u001b[39mflatten()\n\u001b[0;32m---> 16\u001b[0m \u001b[38;5;28;01myield from\u001b[39;00m setup_profile_move(pm1, xarr, yarr, dwell_time\u001b[38;5;241m=\u001b[39mdwell_time)\n",
      "Cell \u001b[0;32mIn[29], line 6\u001b[0m, in \u001b[0;36msetup_profile_move\u001b[0;34m(pm1, xarr, yarr, dwell_time)\u001b[0m\n\u001b[1;32m      4\u001b[0m \u001b[38;5;28;01myield from\u001b[39;00m run_blocking_function(pm1\u001b[38;5;241m.\u001b[39mabort)\n\u001b[1;32m      5\u001b[0m \u001b[38;5;28;01myield from\u001b[39;00m bps\u001b[38;5;241m.\u001b[39msleep(\u001b[38;5;241m0.2\u001b[39m)  \u001b[38;5;66;03m# arbitrary wait for EPICS to finish the reset.\u001b[39;00m\n\u001b[0;32m----> 6\u001b[0m \u001b[38;5;28;01myield from\u001b[39;00m bps\u001b[38;5;241m.\u001b[39mmv(\n\u001b[1;32m      7\u001b[0m     pm1\u001b[38;5;241m.\u001b[39mm1_use, \u001b[38;5;241m1\u001b[39m,\n\u001b[1;32m      8\u001b[0m     pm1\u001b[38;5;241m.\u001b[39mm2_use, \u001b[38;5;241m1\u001b[39m,\n\u001b[1;32m      9\u001b[0m     pm1\u001b[38;5;241m.\u001b[39mm1_arr, xarr, \n\u001b[1;32m     10\u001b[0m     pm1\u001b[38;5;241m.\u001b[39mm2_arr, yarr, \n\u001b[1;32m     11\u001b[0m     pm1\u001b[38;5;241m.\u001b[39mnum_points, \u001b[38;5;28mlen\u001b[39m(xarr)\u001b[38;5;241m*\u001b[39m\u001b[38;5;28mlen\u001b[39m(yarr), \n\u001b[1;32m     12\u001b[0m     pm1\u001b[38;5;241m.\u001b[39mtimer_mode, \u001b[38;5;241m0\u001b[39m, \n\u001b[1;32m     13\u001b[0m     pm1\u001b[38;5;241m.\u001b[39maccel, \u001b[38;5;241m0\u001b[39m, \n\u001b[1;32m     14\u001b[0m     pm1\u001b[38;5;241m.\u001b[39mfixed_time, dwell_time, \n\u001b[1;32m     15\u001b[0m     pm1\u001b[38;5;241m.\u001b[39mm1_proc, \u001b[38;5;241m1\u001b[39m, \n\u001b[1;32m     16\u001b[0m     pm1\u001b[38;5;241m.\u001b[39mm2_proc, \u001b[38;5;241m1\u001b[39m, \n\u001b[1;32m     17\u001b[0m     pm1\u001b[38;5;241m.\u001b[39mbuild, \u001b[38;5;241m1\u001b[39m\n\u001b[1;32m     18\u001b[0m     )\n\u001b[1;32m     19\u001b[0m \u001b[38;5;28mprint\u001b[39m(\u001b[38;5;124m\"\u001b[39m\u001b[38;5;124mexit in setup_scan function\u001b[39m\u001b[38;5;124m\"\u001b[39m)\n",
      "File \u001b[0;32m~/.conda/envs/bluesky_2024_1/lib/python3.11/site-packages/bluesky/plan_stubs.py:279\u001b[0m, in \u001b[0;36mmv\u001b[0;34m(group, *args, **kwargs)\u001b[0m\n\u001b[1;32m    276\u001b[0m status_objects \u001b[38;5;241m=\u001b[39m []\n\u001b[1;32m    278\u001b[0m cyl \u001b[38;5;241m=\u001b[39m reduce(operator\u001b[38;5;241m.\u001b[39madd, [cycler(obj, [val]) \u001b[38;5;28;01mfor\u001b[39;00m obj, val \u001b[38;5;129;01min\u001b[39;00m partition(\u001b[38;5;241m2\u001b[39m, args)])\n\u001b[0;32m--> 279\u001b[0m (step,) \u001b[38;5;241m=\u001b[39m \u001b[43mmerge_cycler\u001b[49m\u001b[43m(\u001b[49m\u001b[43mcyl\u001b[49m\u001b[43m)\u001b[49m\n\u001b[1;32m    280\u001b[0m \u001b[38;5;28;01mfor\u001b[39;00m obj, val \u001b[38;5;129;01min\u001b[39;00m step\u001b[38;5;241m.\u001b[39mitems():\n\u001b[1;32m    281\u001b[0m     ret \u001b[38;5;241m=\u001b[39m \u001b[38;5;28;01myield\u001b[39;00m Msg(\u001b[38;5;124m'\u001b[39m\u001b[38;5;124mset\u001b[39m\u001b[38;5;124m'\u001b[39m, obj, val, group\u001b[38;5;241m=\u001b[39mgroup, \u001b[38;5;241m*\u001b[39m\u001b[38;5;241m*\u001b[39mkwargs)\n",
      "File \u001b[0;32m~/.conda/envs/bluesky_2024_1/lib/python3.11/site-packages/bluesky/utils/__init__.py:1517\u001b[0m, in \u001b[0;36mmerge_cycler\u001b[0;34m(cyc)\u001b[0m\n\u001b[1;32m   1513\u001b[0m     parent \u001b[38;5;241m=\u001b[39m obj\u001b[38;5;241m.\u001b[39mparent\n\u001b[1;32m   1514\u001b[0m     \u001b[38;5;28;01mreturn\u001b[39;00m \u001b[38;5;28mnext\u001b[39m(\u001b[38;5;28miter\u001b[39m([nm \u001b[38;5;28;01mfor\u001b[39;00m nm \u001b[38;5;129;01min\u001b[39;00m parent\u001b[38;5;241m.\u001b[39mcomponent_names\n\u001b[1;32m   1515\u001b[0m                       \u001b[38;5;28;01mif\u001b[39;00m \u001b[38;5;28mgetattr\u001b[39m(parent, nm) \u001b[38;5;129;01mis\u001b[39;00m obj]))\n\u001b[0;32m-> 1517\u001b[0m io, co, gb \u001b[38;5;241m=\u001b[39m \u001b[43mmerge_axis\u001b[49m\u001b[43m(\u001b[49m\u001b[43mcyc\u001b[49m\u001b[38;5;241;43m.\u001b[39;49m\u001b[43mkeys\u001b[49m\u001b[43m)\u001b[49m\n\u001b[1;32m   1519\u001b[0m \u001b[38;5;66;03m# only simple non-coupled objects, declare victory and bail!\u001b[39;00m\n\u001b[1;32m   1520\u001b[0m \u001b[38;5;28;01mif\u001b[39;00m \u001b[38;5;28mlen\u001b[39m(co) \u001b[38;5;241m==\u001b[39m \u001b[38;5;28mlen\u001b[39m(gb) \u001b[38;5;241m==\u001b[39m \u001b[38;5;241m0\u001b[39m:\n",
      "File \u001b[0;32m~/.conda/envs/bluesky_2024_1/lib/python3.11/site-packages/bluesky/utils/__init__.py:1461\u001b[0m, in \u001b[0;36mmerge_axis\u001b[0;34m(objs)\u001b[0m\n\u001b[1;32m   1459\u001b[0m complex_objs \u001b[38;5;241m=\u001b[39m \u001b[38;5;28mset\u001b[39m()\n\u001b[1;32m   1460\u001b[0m \u001b[38;5;28;01mfor\u001b[39;00m o \u001b[38;5;129;01min\u001b[39;00m objs:\n\u001b[0;32m-> 1461\u001b[0m     parent \u001b[38;5;241m=\u001b[39m \u001b[43mo\u001b[49m\u001b[38;5;241;43m.\u001b[39;49m\u001b[43mparent\u001b[49m\n\u001b[1;32m   1462\u001b[0m     \u001b[38;5;28;01mif\u001b[39;00m \u001b[38;5;28mhasattr\u001b[39m(o, \u001b[38;5;124m'\u001b[39m\u001b[38;5;124mRealPosition\u001b[39m\u001b[38;5;124m'\u001b[39m):\n\u001b[1;32m   1463\u001b[0m         complex_objs\u001b[38;5;241m.\u001b[39madd(o)\n",
      "\u001b[0;31mAttributeError\u001b[0m: 'Component' object has no attribute 'parent'"
     ]
    }
   ],
   "source": [
    "RE(profile_move_isn(pm1))"
   ]
  },
  {
   "cell_type": "code",
   "execution_count": 64,
   "metadata": {},
   "outputs": [],
   "source": [
    "pm1_bld = EpicsSignal(\"2idsft:pm1:Build\", name='build')"
   ]
  },
  {
   "cell_type": "code",
   "execution_count": 71,
   "metadata": {},
   "outputs": [],
   "source": [
    "pm1.build.put(1)"
   ]
  },
  {
   "cell_type": "code",
   "execution_count": 70,
   "metadata": {},
   "outputs": [
    {
     "name": "stderr",
     "output_type": "stream",
     "text": [
      "Run aborted\n",
      "ophyd.utils.errors.UnknownStatusFailure: The status Status(obj=EpicsSignal(read_pv='2idsft:pm1:Build', name='2idsft:pm1:Build', value=0, timestamp=1715369192.604428, auto_monitor=True, string=False, write_pv='2idsft:pm1:Build', limits=False, put_complete=False), done=False, success=False) has failed. To obtain more specific, helpful errors in the future, update the Device to use set_exception(...) instead of _finished(success=False).\n",
      "\n",
      "The above exception was the direct cause of the following exception:\n",
      "\n",
      "Traceback (most recent call last):\n",
      "  File \"/home/beams/USER2IDD/.conda/envs/bluesky_2024_1/lib/python3.11/site-packages/bluesky/run_engine.py\", line 1522, in _run\n",
      "    msg = self._plan_stack[-1].throw(stashed_exception or resp)\n",
      "          ^^^^^^^^^^^^^^^^^^^^^^^^^^^^^^^^^^^^^^^^^^^^^^^^^^^^^\n",
      "  File \"/home/beams/USER2IDD/.conda/envs/bluesky_2024_1/lib/python3.11/site-packages/bluesky/plan_stubs.py\", line 283, in mv\n",
      "    yield Msg('wait', None, group=group)\n",
      "  File \"/home/beams/USER2IDD/.conda/envs/bluesky_2024_1/lib/python3.11/site-packages/bluesky/run_engine.py\", line 2284, in _status_object_completed\n",
      "    raise FailedStatus(ret) from exc\n",
      "bluesky.utils.FailedStatus: Status(obj=EpicsSignal(read_pv='2idsft:pm1:Build', name='2idsft:pm1:Build', value=0, timestamp=1715369192.604428, auto_monitor=True, string=False, write_pv='2idsft:pm1:Build', limits=False, put_complete=False), done=True, success=False)\n"
     ]
    },
    {
     "ename": "FailedStatus",
     "evalue": "Status(obj=EpicsSignal(read_pv='2idsft:pm1:Build', name='2idsft:pm1:Build', value=0, timestamp=1715369192.604428, auto_monitor=True, string=False, write_pv='2idsft:pm1:Build', limits=False, put_complete=False), done=True, success=False)",
     "output_type": "error",
     "traceback": [
      "\u001b[0;31m---------------------------------------------------------------------------\u001b[0m",
      "\u001b[0;31mUnknownStatusFailure\u001b[0m                      Traceback (most recent call last)",
      "\u001b[0;31mUnknownStatusFailure\u001b[0m: The status Status(obj=EpicsSignal(read_pv='2idsft:pm1:Build', name='2idsft:pm1:Build', value=0, timestamp=1715369192.604428, auto_monitor=True, string=False, write_pv='2idsft:pm1:Build', limits=False, put_complete=False), done=False, success=False) has failed. To obtain more specific, helpful errors in the future, update the Device to use set_exception(...) instead of _finished(success=False).",
      "\nThe above exception was the direct cause of the following exception:\n",
      "\u001b[0;31mFailedStatus\u001b[0m                              Traceback (most recent call last)",
      "Cell \u001b[0;32mIn[70], line 1\u001b[0m\n\u001b[0;32m----> 1\u001b[0m \u001b[43mRE\u001b[49m\u001b[43m(\u001b[49m\u001b[43mbps\u001b[49m\u001b[38;5;241;43m.\u001b[39;49m\u001b[43mmv\u001b[49m\u001b[43m(\u001b[49m\u001b[43mpm1\u001b[49m\u001b[38;5;241;43m.\u001b[39;49m\u001b[43mbuild\u001b[49m\u001b[43m,\u001b[49m\u001b[43m \u001b[49m\u001b[38;5;241;43m1\u001b[39;49m\u001b[43m)\u001b[49m\u001b[43m)\u001b[49m\n",
      "File \u001b[0;32m~/.conda/envs/bluesky_2024_1/lib/python3.11/site-packages/bluesky/run_engine.py:918\u001b[0m, in \u001b[0;36mRunEngine.__call__\u001b[0;34m(self, *args, **metadata_kw)\u001b[0m\n\u001b[1;32m    914\u001b[0m         \u001b[38;5;28mself\u001b[39m\u001b[38;5;241m.\u001b[39m_blocking_event\u001b[38;5;241m.\u001b[39mset()\n\u001b[1;32m    916\u001b[0m     \u001b[38;5;28mself\u001b[39m\u001b[38;5;241m.\u001b[39m_task_fut\u001b[38;5;241m.\u001b[39madd_done_callback(set_blocking_event)\n\u001b[0;32m--> 918\u001b[0m plan_return \u001b[38;5;241m=\u001b[39m \u001b[38;5;28;43mself\u001b[39;49m\u001b[38;5;241;43m.\u001b[39;49m\u001b[43m_resume_task\u001b[49m\u001b[43m(\u001b[49m\u001b[43minit_func\u001b[49m\u001b[38;5;241;43m=\u001b[39;49m\u001b[43m_build_task\u001b[49m\u001b[43m)\u001b[49m\n\u001b[1;32m    920\u001b[0m \u001b[38;5;28;01mif\u001b[39;00m \u001b[38;5;28mself\u001b[39m\u001b[38;5;241m.\u001b[39m_interrupted:\n\u001b[1;32m    921\u001b[0m     \u001b[38;5;28;01mraise\u001b[39;00m RunEngineInterrupted(\u001b[38;5;28mself\u001b[39m\u001b[38;5;241m.\u001b[39mpause_msg) \u001b[38;5;28;01mfrom\u001b[39;00m \u001b[38;5;28;01mNone\u001b[39;00m\n",
      "File \u001b[0;32m~/.conda/envs/bluesky_2024_1/lib/python3.11/site-packages/bluesky/run_engine.py:1057\u001b[0m, in \u001b[0;36mRunEngine._resume_task\u001b[0;34m(self, init_func)\u001b[0m\n\u001b[1;32m   1053\u001b[0m \u001b[38;5;66;03m# if the main task exception is not None, re-raise\u001b[39;00m\n\u001b[1;32m   1054\u001b[0m \u001b[38;5;66;03m# it (unless it is a canceled error)\u001b[39;00m\n\u001b[1;32m   1055\u001b[0m \u001b[38;5;28;01mif\u001b[39;00m (exc \u001b[38;5;129;01mis\u001b[39;00m \u001b[38;5;129;01mnot\u001b[39;00m \u001b[38;5;28;01mNone\u001b[39;00m\n\u001b[1;32m   1056\u001b[0m         \u001b[38;5;129;01mand\u001b[39;00m \u001b[38;5;129;01mnot\u001b[39;00m \u001b[38;5;28misinstance\u001b[39m(exc, _RunEnginePanic)):\n\u001b[0;32m-> 1057\u001b[0m     \u001b[38;5;28;01mraise\u001b[39;00m exc\n\u001b[1;32m   1058\u001b[0m \u001b[38;5;66;03m# Only try to get a result if there wasn't an error,\u001b[39;00m\n\u001b[1;32m   1059\u001b[0m \u001b[38;5;66;03m# (other than a cancelled error)\u001b[39;00m\n\u001b[1;32m   1060\u001b[0m \u001b[38;5;28;01mif\u001b[39;00m exc \u001b[38;5;129;01mis\u001b[39;00m \u001b[38;5;28;01mNone\u001b[39;00m:\n",
      "File \u001b[0;32m~/.conda/envs/bluesky_2024_1/lib/python3.11/site-packages/bluesky/run_engine.py:1687\u001b[0m, in \u001b[0;36mRunEngine._run\u001b[0;34m(self)\u001b[0m\n\u001b[1;32m   1685\u001b[0m     exit_reason \u001b[38;5;241m=\u001b[39m \u001b[38;5;28mstr\u001b[39m(err)\n\u001b[1;32m   1686\u001b[0m     \u001b[38;5;28mself\u001b[39m\u001b[38;5;241m.\u001b[39mlog\u001b[38;5;241m.\u001b[39mexception(\u001b[38;5;124m\"\u001b[39m\u001b[38;5;124mRun aborted\u001b[39m\u001b[38;5;124m\"\u001b[39m)\n\u001b[0;32m-> 1687\u001b[0m     \u001b[38;5;28;01mraise\u001b[39;00m err\n\u001b[1;32m   1688\u001b[0m \u001b[38;5;28;01mfinally\u001b[39;00m:\n\u001b[1;32m   1689\u001b[0m     \u001b[38;5;28;01mif\u001b[39;00m \u001b[38;5;129;01mnot\u001b[39;00m exit_reason:\n",
      "File \u001b[0;32m~/.conda/envs/bluesky_2024_1/lib/python3.11/site-packages/bluesky/run_engine.py:1522\u001b[0m, in \u001b[0;36mRunEngine._run\u001b[0;34m(self)\u001b[0m\n\u001b[1;32m   1519\u001b[0m \u001b[38;5;28;01mif\u001b[39;00m (stashed_exception \u001b[38;5;129;01mis\u001b[39;00m \u001b[38;5;129;01mnot\u001b[39;00m \u001b[38;5;28;01mNone\u001b[39;00m \u001b[38;5;129;01mor\u001b[39;00m \u001b[38;5;28misinstance\u001b[39m(resp, \u001b[38;5;167;01mException\u001b[39;00m)):\n\u001b[1;32m   1520\u001b[0m     \u001b[38;5;66;03m# throw the exception at the current plan\u001b[39;00m\n\u001b[1;32m   1521\u001b[0m     \u001b[38;5;28;01mtry\u001b[39;00m:\n\u001b[0;32m-> 1522\u001b[0m         msg \u001b[38;5;241m=\u001b[39m \u001b[38;5;28mself\u001b[39m\u001b[38;5;241m.\u001b[39m_plan_stack[\u001b[38;5;241m-\u001b[39m\u001b[38;5;241m1\u001b[39m]\u001b[38;5;241m.\u001b[39mthrow(stashed_exception \u001b[38;5;129;01mor\u001b[39;00m resp)\n\u001b[1;32m   1523\u001b[0m     \u001b[38;5;28;01mexcept\u001b[39;00m \u001b[38;5;167;01mException\u001b[39;00m \u001b[38;5;28;01mas\u001b[39;00m e:\n\u001b[1;32m   1524\u001b[0m         \u001b[38;5;66;03m# The current plan did not handle it,\u001b[39;00m\n\u001b[1;32m   1525\u001b[0m         \u001b[38;5;66;03m# maybe the next plan (if any) would like\u001b[39;00m\n\u001b[1;32m   1526\u001b[0m         \u001b[38;5;66;03m# to try\u001b[39;00m\n\u001b[1;32m   1527\u001b[0m         \u001b[38;5;28mself\u001b[39m\u001b[38;5;241m.\u001b[39m_plan_stack\u001b[38;5;241m.\u001b[39mpop()\n",
      "File \u001b[0;32m~/.conda/envs/bluesky_2024_1/lib/python3.11/site-packages/bluesky/plan_stubs.py:283\u001b[0m, in \u001b[0;36mmv\u001b[0;34m(group, *args, **kwargs)\u001b[0m\n\u001b[1;32m    281\u001b[0m     ret \u001b[38;5;241m=\u001b[39m \u001b[38;5;28;01myield\u001b[39;00m Msg(\u001b[38;5;124m'\u001b[39m\u001b[38;5;124mset\u001b[39m\u001b[38;5;124m'\u001b[39m, obj, val, group\u001b[38;5;241m=\u001b[39mgroup, \u001b[38;5;241m*\u001b[39m\u001b[38;5;241m*\u001b[39mkwargs)\n\u001b[1;32m    282\u001b[0m     status_objects\u001b[38;5;241m.\u001b[39mappend(ret)\n\u001b[0;32m--> 283\u001b[0m \u001b[38;5;28;01myield\u001b[39;00m Msg(\u001b[38;5;124m'\u001b[39m\u001b[38;5;124mwait\u001b[39m\u001b[38;5;124m'\u001b[39m, \u001b[38;5;28;01mNone\u001b[39;00m, group\u001b[38;5;241m=\u001b[39mgroup)\n\u001b[1;32m    284\u001b[0m \u001b[38;5;28;01mreturn\u001b[39;00m \u001b[38;5;28mtuple\u001b[39m(status_objects)\n",
      "File \u001b[0;32m~/.conda/envs/bluesky_2024_1/lib/python3.11/site-packages/bluesky/run_engine.py:2284\u001b[0m, in \u001b[0;36mRunEngine._status_object_completed\u001b[0;34m(self, ret, p_event, pardon_failures)\u001b[0m\n\u001b[1;32m   2282\u001b[0m \u001b[38;5;28;01mtry\u001b[39;00m:\n\u001b[1;32m   2283\u001b[0m     exc \u001b[38;5;241m=\u001b[39m ret\u001b[38;5;241m.\u001b[39mexception(timeout\u001b[38;5;241m=\u001b[39m\u001b[38;5;241m0\u001b[39m)\n\u001b[0;32m-> 2284\u001b[0m     \u001b[38;5;28;01mraise\u001b[39;00m FailedStatus(ret) \u001b[38;5;28;01mfrom\u001b[39;00m \u001b[38;5;21;01mexc\u001b[39;00m\n\u001b[1;32m   2285\u001b[0m \u001b[38;5;28;01mexcept\u001b[39;00m \u001b[38;5;167;01mException\u001b[39;00m \u001b[38;5;28;01mas\u001b[39;00m e:\n\u001b[1;32m   2286\u001b[0m     \u001b[38;5;28mself\u001b[39m\u001b[38;5;241m.\u001b[39m_exception \u001b[38;5;241m=\u001b[39m e\n",
      "\u001b[0;31mFailedStatus\u001b[0m: Status(obj=EpicsSignal(read_pv='2idsft:pm1:Build', name='2idsft:pm1:Build', value=0, timestamp=1715369192.604428, auto_monitor=True, string=False, write_pv='2idsft:pm1:Build', limits=False, put_complete=False), done=True, success=False)"
     ]
    }
   ],
   "source": [
    "RE(bps.mv(pm1.build, 1))"
   ]
  },
  {
   "cell_type": "code",
   "execution_count": 34,
   "metadata": {},
   "outputs": [],
   "source": [
    "pm1_pts_pv.put(100)"
   ]
  },
  {
   "cell_type": "code",
   "execution_count": 41,
   "metadata": {},
   "outputs": [
    {
     "name": "stderr",
     "output_type": "stream",
     "text": [
      "Exception in thread Thread-23 (internal):\n",
      "Traceback (most recent call last):\n",
      "  File \"/home/beams/USER2IDD/.conda/envs/bluesky_2024_1/lib/python3.11/threading.py\", line 1045, in _bootstrap_inner\n",
      "    self.run()\n",
      "  File \"/home/beams/USER2IDD/.conda/envs/bluesky_2024_1/lib/python3.11/site-packages/ipykernel/ipkernel.py\", line 761, in run_closure\n",
      "    _threading_Thread_run(self)\n",
      "  File \"/home/beams/USER2IDD/.conda/envs/bluesky_2024_1/lib/python3.11/threading.py\", line 982, in run\n",
      "    self._target(*self._args, **self._kwargs)\n",
      "  File \"/home/beams/USER2IDD/.conda/envs/bluesky_2024_1/lib/python3.11/site-packages/apstools/plans/run_blocking_function_plan.py\", line 67, in internal\n",
      "    result = function(*args, **kwargs)\n",
      "             ^^^^^^^^^^^^^^^^^^^^^^^^^\n",
      "TypeError: 'EpicsSignal' object is not callable\n",
      "Exception in thread Thread-24 (internal):\n",
      "Traceback (most recent call last):\n",
      "  File \"/home/beams/USER2IDD/.conda/envs/bluesky_2024_1/lib/python3.11/threading.py\", line 1045, in _bootstrap_inner\n",
      "    self.run()\n",
      "  File \"/home/beams/USER2IDD/.conda/envs/bluesky_2024_1/lib/python3.11/site-packages/ipykernel/ipkernel.py\", line 761, in run_closure\n",
      "    _threading_Thread_run(self)\n",
      "  File \"/home/beams/USER2IDD/.conda/envs/bluesky_2024_1/lib/python3.11/threading.py\", line 982, in run\n",
      "    self._target(*self._args, **self._kwargs)\n",
      "  File \"/home/beams/USER2IDD/.conda/envs/bluesky_2024_1/lib/python3.11/site-packages/apstools/plans/run_blocking_function_plan.py\", line 67, in internal\n",
      "    result = function(*args, **kwargs)\n",
      "             ^^^^^^^^^^^^^^^^^^^^^^^^^\n",
      "TypeError: 'EpicsSignal' object is not callable\n",
      "2idsft:pm1:M2Positions: _set_and_wait(value=[0. 0. 0. ... 1. 1. 1.], timeout=3, atol=0.0001, rtol=None, kwargs={})\n",
      "Traceback (most recent call last):\n",
      "  File \"/home/beams/USER2IDD/.conda/envs/bluesky_2024_1/lib/python3.11/site-packages/ophyd/signal.py\", line 331, in set_thread\n",
      "    self._set_and_wait(value, timeout, **kwargs)\n",
      "  File \"/home/beams/USER2IDD/.conda/envs/bluesky_2024_1/lib/python3.11/site-packages/ophyd/signal.py\", line 302, in _set_and_wait\n",
      "    return _set_and_wait(\n",
      "           ^^^^^^^^^^^^^^\n",
      "  File \"/home/beams/USER2IDD/.conda/envs/bluesky_2024_1/lib/python3.11/site-packages/ophyd/utils/epics_pvs.py\", line 240, in _set_and_wait\n",
      "    _wait_for_value(\n",
      "  File \"/home/beams/USER2IDD/.conda/envs/bluesky_2024_1/lib/python3.11/site-packages/ophyd/utils/epics_pvs.py\", line 295, in _wait_for_value\n",
      "    while (val is not None and current_value is None) or not _compare_maybe_enum(\n",
      "                                                             ^^^^^^^^^^^^^^^^^^^^\n",
      "  File \"/home/beams/USER2IDD/.conda/envs/bluesky_2024_1/lib/python3.11/site-packages/ophyd/utils/epics_pvs.py\", line 341, in _compare_maybe_enum\n",
      "    return np.allclose(\n",
      "           ^^^^^^^^^^^^\n",
      "  File \"/home/beams/USER2IDD/.conda/envs/bluesky_2024_1/lib/python3.11/site-packages/numpy/core/numeric.py\", line 2241, in allclose\n",
      "    res = all(isclose(a, b, rtol=rtol, atol=atol, equal_nan=equal_nan))\n",
      "              ^^^^^^^^^^^^^^^^^^^^^^^^^^^^^^^^^^^^^^^^^^^^^^^^^^^^^^^^\n",
      "  File \"/home/beams/USER2IDD/.conda/envs/bluesky_2024_1/lib/python3.11/site-packages/numpy/core/numeric.py\", line 2351, in isclose\n",
      "    return within_tol(x, y, atol, rtol)\n",
      "           ^^^^^^^^^^^^^^^^^^^^^^^^^^^^\n",
      "  File \"/home/beams/USER2IDD/.conda/envs/bluesky_2024_1/lib/python3.11/site-packages/numpy/core/numeric.py\", line 2332, in within_tol\n",
      "    return less_equal(abs(x-y), atol + rtol * abs(y))\n",
      "                          ~^~\n",
      "ValueError: operands could not be broadcast together with shapes (10000,) (2000,) \n",
      "2idsft:pm1:M1Positions: _set_and_wait(value=[0.         0.01010101 0.02020202 ... 0.97979798 0.98989899 1.        ], timeout=3, atol=0.0001, rtol=None, kwargs={})\n",
      "Traceback (most recent call last):\n",
      "  File \"/home/beams/USER2IDD/.conda/envs/bluesky_2024_1/lib/python3.11/site-packages/ophyd/signal.py\", line 331, in set_thread\n",
      "    self._set_and_wait(value, timeout, **kwargs)\n",
      "  File \"/home/beams/USER2IDD/.conda/envs/bluesky_2024_1/lib/python3.11/site-packages/ophyd/signal.py\", line 302, in _set_and_wait\n",
      "    return _set_and_wait(\n",
      "           ^^^^^^^^^^^^^^\n",
      "  File \"/home/beams/USER2IDD/.conda/envs/bluesky_2024_1/lib/python3.11/site-packages/ophyd/utils/epics_pvs.py\", line 240, in _set_and_wait\n",
      "    _wait_for_value(\n",
      "  File \"/home/beams/USER2IDD/.conda/envs/bluesky_2024_1/lib/python3.11/site-packages/ophyd/utils/epics_pvs.py\", line 295, in _wait_for_value\n",
      "    while (val is not None and current_value is None) or not _compare_maybe_enum(\n",
      "                                                             ^^^^^^^^^^^^^^^^^^^^\n",
      "  File \"/home/beams/USER2IDD/.conda/envs/bluesky_2024_1/lib/python3.11/site-packages/ophyd/utils/epics_pvs.py\", line 341, in _compare_maybe_enum\n",
      "    return np.allclose(\n",
      "           ^^^^^^^^^^^^\n",
      "  File \"/home/beams/USER2IDD/.conda/envs/bluesky_2024_1/lib/python3.11/site-packages/numpy/core/numeric.py\", line 2241, in allclose\n",
      "    res = all(isclose(a, b, rtol=rtol, atol=atol, equal_nan=equal_nan))\n",
      "              ^^^^^^^^^^^^^^^^^^^^^^^^^^^^^^^^^^^^^^^^^^^^^^^^^^^^^^^^\n",
      "  File \"/home/beams/USER2IDD/.conda/envs/bluesky_2024_1/lib/python3.11/site-packages/numpy/core/numeric.py\", line 2351, in isclose\n",
      "    return within_tol(x, y, atol, rtol)\n",
      "           ^^^^^^^^^^^^^^^^^^^^^^^^^^^^\n",
      "  File \"/home/beams/USER2IDD/.conda/envs/bluesky_2024_1/lib/python3.11/site-packages/numpy/core/numeric.py\", line 2332, in within_tol\n",
      "    return less_equal(abs(x-y), atol + rtol * abs(y))\n",
      "                          ~^~\n",
      "ValueError: operands could not be broadcast together with shapes (10000,) (2000,) \n",
      "2idsft:pm1:Build: _set_and_wait(value=1, timeout=3, atol=None, rtol=None, kwargs={})\n",
      "Exception in thread Thread-45 (internal):\n",
      "Traceback (most recent call last):\n",
      "  File \"/home/beams/USER2IDD/.conda/envs/bluesky_2024_1/lib/python3.11/threading.py\", line 1045, in _bootstrap_inner\n",
      "    self.run()\n",
      "  File \"/home/beams/USER2IDD/.conda/envs/bluesky_2024_1/lib/python3.11/site-packages/ipykernel/ipkernel.py\", line 761, in run_closure\n",
      "    _threading_Thread_run(self)\n",
      "  File \"/home/beams/USER2IDD/.conda/envs/bluesky_2024_1/lib/python3.11/threading.py\", line 982, in run\n",
      "    self._target(*self._args, **self._kwargs)\n",
      "  File \"/home/beams/USER2IDD/.conda/envs/bluesky_2024_1/lib/python3.11/site-packages/apstools/plans/run_blocking_function_plan.py\", line 67, in internal\n",
      "    result = function(*args, **kwargs)\n",
      "             ^^^^^^^^^^^^^^^^^^^^^^^^^\n",
      "TypeError: 'EpicsSignal' object is not callable\n",
      "2idsft:pm1:M1Positions: _set_and_wait(value=[0.         0.01010101 0.02020202 ... 0.97979798 0.98989899 1.        ], timeout=3, atol=0.0001, rtol=None, kwargs={})\n",
      "Traceback (most recent call last):\n",
      "  File \"/home/beams/USER2IDD/.conda/envs/bluesky_2024_1/lib/python3.11/site-packages/ophyd/signal.py\", line 331, in set_thread\n",
      "    self._set_and_wait(value, timeout, **kwargs)\n",
      "  File \"/home/beams/USER2IDD/.conda/envs/bluesky_2024_1/lib/python3.11/site-packages/ophyd/signal.py\", line 302, in _set_and_wait\n",
      "    return _set_and_wait(\n",
      "           ^^^^^^^^^^^^^^\n",
      "  File \"/home/beams/USER2IDD/.conda/envs/bluesky_2024_1/lib/python3.11/site-packages/ophyd/utils/epics_pvs.py\", line 240, in _set_and_wait\n",
      "    _wait_for_value(\n",
      "  File \"/home/beams/USER2IDD/.conda/envs/bluesky_2024_1/lib/python3.11/site-packages/ophyd/utils/epics_pvs.py\", line 295, in _wait_for_value\n",
      "    while (val is not None and current_value is None) or not _compare_maybe_enum(\n",
      "                                                             ^^^^^^^^^^^^^^^^^^^^\n",
      "  File \"/home/beams/USER2IDD/.conda/envs/bluesky_2024_1/lib/python3.11/site-packages/ophyd/utils/epics_pvs.py\", line 341, in _compare_maybe_enum\n",
      "    return np.allclose(\n",
      "           ^^^^^^^^^^^^\n",
      "  File \"/home/beams/USER2IDD/.conda/envs/bluesky_2024_1/lib/python3.11/site-packages/numpy/core/numeric.py\", line 2241, in allclose\n",
      "    res = all(isclose(a, b, rtol=rtol, atol=atol, equal_nan=equal_nan))\n",
      "              ^^^^^^^^^^^^^^^^^^^^^^^^^^^^^^^^^^^^^^^^^^^^^^^^^^^^^^^^\n",
      "  File \"/home/beams/USER2IDD/.conda/envs/bluesky_2024_1/lib/python3.11/site-packages/numpy/core/numeric.py\", line 2351, in isclose\n",
      "    return within_tol(x, y, atol, rtol)\n",
      "           ^^^^^^^^^^^^^^^^^^^^^^^^^^^^\n",
      "  File \"/home/beams/USER2IDD/.conda/envs/bluesky_2024_1/lib/python3.11/site-packages/numpy/core/numeric.py\", line 2332, in within_tol\n",
      "    return less_equal(abs(x-y), atol + rtol * abs(y))\n",
      "                          ~^~\n",
      "ValueError: operands could not be broadcast together with shapes (10000,) (2000,) \n",
      "2idsft:pm1:M2Positions: _set_and_wait(value=[0. 0. 0. ... 1. 1. 1.], timeout=3, atol=0.0001, rtol=None, kwargs={})\n",
      "Traceback (most recent call last):\n",
      "  File \"/home/beams/USER2IDD/.conda/envs/bluesky_2024_1/lib/python3.11/site-packages/ophyd/signal.py\", line 331, in set_thread\n",
      "    self._set_and_wait(value, timeout, **kwargs)\n",
      "  File \"/home/beams/USER2IDD/.conda/envs/bluesky_2024_1/lib/python3.11/site-packages/ophyd/signal.py\", line 302, in _set_and_wait\n",
      "    return _set_and_wait(\n",
      "           ^^^^^^^^^^^^^^\n",
      "  File \"/home/beams/USER2IDD/.conda/envs/bluesky_2024_1/lib/python3.11/site-packages/ophyd/utils/epics_pvs.py\", line 240, in _set_and_wait\n",
      "    _wait_for_value(\n",
      "  File \"/home/beams/USER2IDD/.conda/envs/bluesky_2024_1/lib/python3.11/site-packages/ophyd/utils/epics_pvs.py\", line 295, in _wait_for_value\n",
      "    while (val is not None and current_value is None) or not _compare_maybe_enum(\n",
      "                                                             ^^^^^^^^^^^^^^^^^^^^\n",
      "  File \"/home/beams/USER2IDD/.conda/envs/bluesky_2024_1/lib/python3.11/site-packages/ophyd/utils/epics_pvs.py\", line 341, in _compare_maybe_enum\n",
      "    return np.allclose(\n",
      "           ^^^^^^^^^^^^\n",
      "  File \"/home/beams/USER2IDD/.conda/envs/bluesky_2024_1/lib/python3.11/site-packages/numpy/core/numeric.py\", line 2241, in allclose\n",
      "    res = all(isclose(a, b, rtol=rtol, atol=atol, equal_nan=equal_nan))\n",
      "              ^^^^^^^^^^^^^^^^^^^^^^^^^^^^^^^^^^^^^^^^^^^^^^^^^^^^^^^^\n",
      "  File \"/home/beams/USER2IDD/.conda/envs/bluesky_2024_1/lib/python3.11/site-packages/numpy/core/numeric.py\", line 2351, in isclose\n",
      "    return within_tol(x, y, atol, rtol)\n",
      "           ^^^^^^^^^^^^^^^^^^^^^^^^^^^^\n",
      "  File \"/home/beams/USER2IDD/.conda/envs/bluesky_2024_1/lib/python3.11/site-packages/numpy/core/numeric.py\", line 2332, in within_tol\n",
      "    return less_equal(abs(x-y), atol + rtol * abs(y))\n",
      "                          ~^~\n",
      "ValueError: operands could not be broadcast together with shapes (10000,) (2000,) \n",
      "Exception in thread Thread-60 (internal):\n",
      "Traceback (most recent call last):\n",
      "  File \"/home/beams/USER2IDD/.conda/envs/bluesky_2024_1/lib/python3.11/threading.py\", line 1045, in _bootstrap_inner\n",
      "    self.run()\n",
      "  File \"/home/beams/USER2IDD/.conda/envs/bluesky_2024_1/lib/python3.11/site-packages/ipykernel/ipkernel.py\", line 761, in run_closure\n",
      "    _threading_Thread_run(self)\n",
      "  File \"/home/beams/USER2IDD/.conda/envs/bluesky_2024_1/lib/python3.11/threading.py\", line 982, in run\n",
      "    self._target(*self._args, **self._kwargs)\n",
      "  File \"/home/beams/USER2IDD/.conda/envs/bluesky_2024_1/lib/python3.11/site-packages/apstools/plans/run_blocking_function_plan.py\", line 67, in internal\n",
      "    result = function(*args, **kwargs)\n",
      "             ^^^^^^^^^^^^^^^^^^^^^^^^^\n",
      "TypeError: 'EpicsSignal' object is not callable\n",
      "2idsft:pm1:M2Positions: _set_and_wait(value=[0.         0.         0.         0.         0.         0.\n",
      " 0.         0.         0.         0.         0.11111111 0.11111111\n",
      " 0.11111111 0.11111111 0.11111111 0.11111111 0.11111111 0.11111111\n",
      " 0.11111111 0.11111111 0.22222222 0.22222222 0.22222222 0.22222222\n",
      " 0.22222222 0.22222222 0.22222222 0.22222222 0.22222222 0.22222222\n",
      " 0.33333333 0.33333333 0.33333333 0.33333333 0.33333333 0.33333333\n",
      " 0.33333333 0.33333333 0.33333333 0.33333333 0.44444444 0.44444444\n",
      " 0.44444444 0.44444444 0.44444444 0.44444444 0.44444444 0.44444444\n",
      " 0.44444444 0.44444444 0.55555556 0.55555556 0.55555556 0.55555556\n",
      " 0.55555556 0.55555556 0.55555556 0.55555556 0.55555556 0.55555556\n",
      " 0.66666667 0.66666667 0.66666667 0.66666667 0.66666667 0.66666667\n",
      " 0.66666667 0.66666667 0.66666667 0.66666667 0.77777778 0.77777778\n",
      " 0.77777778 0.77777778 0.77777778 0.77777778 0.77777778 0.77777778\n",
      " 0.77777778 0.77777778 0.88888889 0.88888889 0.88888889 0.88888889\n",
      " 0.88888889 0.88888889 0.88888889 0.88888889 0.88888889 0.88888889\n",
      " 1.         1.         1.         1.         1.         1.\n",
      " 1.         1.         1.         1.        ], timeout=3, atol=0.0001, rtol=None, kwargs={})\n",
      "Traceback (most recent call last):\n",
      "  File \"/home/beams/USER2IDD/.conda/envs/bluesky_2024_1/lib/python3.11/site-packages/ophyd/signal.py\", line 331, in set_thread\n",
      "    self._set_and_wait(value, timeout, **kwargs)\n",
      "  File \"/home/beams/USER2IDD/.conda/envs/bluesky_2024_1/lib/python3.11/site-packages/ophyd/signal.py\", line 302, in _set_and_wait\n",
      "    return _set_and_wait(\n",
      "           ^^^^^^^^^^^^^^\n",
      "  File \"/home/beams/USER2IDD/.conda/envs/bluesky_2024_1/lib/python3.11/site-packages/ophyd/utils/epics_pvs.py\", line 240, in _set_and_wait\n",
      "    _wait_for_value(\n",
      "  File \"/home/beams/USER2IDD/.conda/envs/bluesky_2024_1/lib/python3.11/site-packages/ophyd/utils/epics_pvs.py\", line 295, in _wait_for_value\n",
      "    while (val is not None and current_value is None) or not _compare_maybe_enum(\n",
      "                                                             ^^^^^^^^^^^^^^^^^^^^\n",
      "  File \"/home/beams/USER2IDD/.conda/envs/bluesky_2024_1/lib/python3.11/site-packages/ophyd/utils/epics_pvs.py\", line 341, in _compare_maybe_enum\n",
      "    return np.allclose(\n",
      "           ^^^^^^^^^^^^\n",
      "  File \"/home/beams/USER2IDD/.conda/envs/bluesky_2024_1/lib/python3.11/site-packages/numpy/core/numeric.py\", line 2241, in allclose\n",
      "    res = all(isclose(a, b, rtol=rtol, atol=atol, equal_nan=equal_nan))\n",
      "              ^^^^^^^^^^^^^^^^^^^^^^^^^^^^^^^^^^^^^^^^^^^^^^^^^^^^^^^^\n",
      "  File \"/home/beams/USER2IDD/.conda/envs/bluesky_2024_1/lib/python3.11/site-packages/numpy/core/numeric.py\", line 2351, in isclose\n",
      "    return within_tol(x, y, atol, rtol)\n",
      "           ^^^^^^^^^^^^^^^^^^^^^^^^^^^^\n",
      "  File \"/home/beams/USER2IDD/.conda/envs/bluesky_2024_1/lib/python3.11/site-packages/numpy/core/numeric.py\", line 2332, in within_tol\n",
      "    return less_equal(abs(x-y), atol + rtol * abs(y))\n",
      "                          ~^~\n",
      "ValueError: operands could not be broadcast together with shapes (100,) (2000,) \n",
      "Exception in thread Thread-79 (internal):\n",
      "Traceback (most recent call last):\n",
      "  File \"/home/beams/USER2IDD/.conda/envs/bluesky_2024_1/lib/python3.11/threading.py\", line 1045, in _bootstrap_inner\n",
      "    self.run()\n",
      "  File \"/home/beams/USER2IDD/.conda/envs/bluesky_2024_1/lib/python3.11/site-packages/ipykernel/ipkernel.py\", line 761, in run_closure\n",
      "    _threading_Thread_run(self)\n",
      "  File \"/home/beams/USER2IDD/.conda/envs/bluesky_2024_1/lib/python3.11/threading.py\", line 982, in run\n",
      "    self._target(*self._args, **self._kwargs)\n",
      "  File \"/home/beams/USER2IDD/.conda/envs/bluesky_2024_1/lib/python3.11/site-packages/apstools/plans/run_blocking_function_plan.py\", line 67, in internal\n",
      "    result = function(*args, **kwargs)\n",
      "             ^^^^^^^^^^^^^^^^^^^^^^^^^\n",
      "TypeError: 'EpicsSignal' object is not callable\n",
      "2idsft:pm1:M1Positions: _set_and_wait(value=[0.         0.05263158 0.10526316 0.15789474 0.21052632 0.26315789\n",
      " 0.31578947 0.36842105 0.42105263 0.47368421 0.52631579 0.57894737\n",
      " 0.63157895 0.68421053 0.73684211 0.78947368 0.84210526 0.89473684\n",
      " 0.94736842 1.         0.         0.05263158 0.10526316 0.15789474\n",
      " 0.21052632 0.26315789 0.31578947 0.36842105 0.42105263 0.47368421\n",
      " 0.52631579 0.57894737 0.63157895 0.68421053 0.73684211 0.78947368\n",
      " 0.84210526 0.89473684 0.94736842 1.         0.         0.05263158\n",
      " 0.10526316 0.15789474 0.21052632 0.26315789 0.31578947 0.36842105\n",
      " 0.42105263 0.47368421 0.52631579 0.57894737 0.63157895 0.68421053\n",
      " 0.73684211 0.78947368 0.84210526 0.89473684 0.94736842 1.\n",
      " 0.         0.05263158 0.10526316 0.15789474 0.21052632 0.26315789\n",
      " 0.31578947 0.36842105 0.42105263 0.47368421 0.52631579 0.57894737\n",
      " 0.63157895 0.68421053 0.73684211 0.78947368 0.84210526 0.89473684\n",
      " 0.94736842 1.         0.         0.05263158 0.10526316 0.15789474\n",
      " 0.21052632 0.26315789 0.31578947 0.36842105 0.42105263 0.47368421\n",
      " 0.52631579 0.57894737 0.63157895 0.68421053 0.73684211 0.78947368\n",
      " 0.84210526 0.89473684 0.94736842 1.         0.         0.05263158\n",
      " 0.10526316 0.15789474 0.21052632 0.26315789 0.31578947 0.36842105\n",
      " 0.42105263 0.47368421 0.52631579 0.57894737 0.63157895 0.68421053\n",
      " 0.73684211 0.78947368 0.84210526 0.89473684 0.94736842 1.\n",
      " 0.         0.05263158 0.10526316 0.15789474 0.21052632 0.26315789\n",
      " 0.31578947 0.36842105 0.42105263 0.47368421 0.52631579 0.57894737\n",
      " 0.63157895 0.68421053 0.73684211 0.78947368 0.84210526 0.89473684\n",
      " 0.94736842 1.         0.         0.05263158 0.10526316 0.15789474\n",
      " 0.21052632 0.26315789 0.31578947 0.36842105 0.42105263 0.47368421\n",
      " 0.52631579 0.57894737 0.63157895 0.68421053 0.73684211 0.78947368\n",
      " 0.84210526 0.89473684 0.94736842 1.         0.         0.05263158\n",
      " 0.10526316 0.15789474 0.21052632 0.26315789 0.31578947 0.36842105\n",
      " 0.42105263 0.47368421 0.52631579 0.57894737 0.63157895 0.68421053\n",
      " 0.73684211 0.78947368 0.84210526 0.89473684 0.94736842 1.\n",
      " 0.         0.05263158 0.10526316 0.15789474 0.21052632 0.26315789\n",
      " 0.31578947 0.36842105 0.42105263 0.47368421 0.52631579 0.57894737\n",
      " 0.63157895 0.68421053 0.73684211 0.78947368 0.84210526 0.89473684\n",
      " 0.94736842 1.         0.         0.05263158 0.10526316 0.15789474\n",
      " 0.21052632 0.26315789 0.31578947 0.36842105 0.42105263 0.47368421\n",
      " 0.52631579 0.57894737 0.63157895 0.68421053 0.73684211 0.78947368\n",
      " 0.84210526 0.89473684 0.94736842 1.         0.         0.05263158\n",
      " 0.10526316 0.15789474 0.21052632 0.26315789 0.31578947 0.36842105\n",
      " 0.42105263 0.47368421 0.52631579 0.57894737 0.63157895 0.68421053\n",
      " 0.73684211 0.78947368 0.84210526 0.89473684 0.94736842 1.\n",
      " 0.         0.05263158 0.10526316 0.15789474 0.21052632 0.26315789\n",
      " 0.31578947 0.36842105 0.42105263 0.47368421 0.52631579 0.57894737\n",
      " 0.63157895 0.68421053 0.73684211 0.78947368 0.84210526 0.89473684\n",
      " 0.94736842 1.         0.         0.05263158 0.10526316 0.15789474\n",
      " 0.21052632 0.26315789 0.31578947 0.36842105 0.42105263 0.47368421\n",
      " 0.52631579 0.57894737 0.63157895 0.68421053 0.73684211 0.78947368\n",
      " 0.84210526 0.89473684 0.94736842 1.         0.         0.05263158\n",
      " 0.10526316 0.15789474 0.21052632 0.26315789 0.31578947 0.36842105\n",
      " 0.42105263 0.47368421 0.52631579 0.57894737 0.63157895 0.68421053\n",
      " 0.73684211 0.78947368 0.84210526 0.89473684 0.94736842 1.\n",
      " 0.         0.05263158 0.10526316 0.15789474 0.21052632 0.26315789\n",
      " 0.31578947 0.36842105 0.42105263 0.47368421 0.52631579 0.57894737\n",
      " 0.63157895 0.68421053 0.73684211 0.78947368 0.84210526 0.89473684\n",
      " 0.94736842 1.         0.         0.05263158 0.10526316 0.15789474\n",
      " 0.21052632 0.26315789 0.31578947 0.36842105 0.42105263 0.47368421\n",
      " 0.52631579 0.57894737 0.63157895 0.68421053 0.73684211 0.78947368\n",
      " 0.84210526 0.89473684 0.94736842 1.         0.         0.05263158\n",
      " 0.10526316 0.15789474 0.21052632 0.26315789 0.31578947 0.36842105\n",
      " 0.42105263 0.47368421 0.52631579 0.57894737 0.63157895 0.68421053\n",
      " 0.73684211 0.78947368 0.84210526 0.89473684 0.94736842 1.\n",
      " 0.         0.05263158 0.10526316 0.15789474 0.21052632 0.26315789\n",
      " 0.31578947 0.36842105 0.42105263 0.47368421 0.52631579 0.57894737\n",
      " 0.63157895 0.68421053 0.73684211 0.78947368 0.84210526 0.89473684\n",
      " 0.94736842 1.         0.         0.05263158 0.10526316 0.15789474\n",
      " 0.21052632 0.26315789 0.31578947 0.36842105 0.42105263 0.47368421\n",
      " 0.52631579 0.57894737 0.63157895 0.68421053 0.73684211 0.78947368\n",
      " 0.84210526 0.89473684 0.94736842 1.        ], timeout=3, atol=0.0001, rtol=None, kwargs={})\n",
      "Traceback (most recent call last):\n",
      "  File \"/home/beams/USER2IDD/.conda/envs/bluesky_2024_1/lib/python3.11/site-packages/ophyd/signal.py\", line 331, in set_thread\n",
      "    self._set_and_wait(value, timeout, **kwargs)\n",
      "  File \"/home/beams/USER2IDD/.conda/envs/bluesky_2024_1/lib/python3.11/site-packages/ophyd/signal.py\", line 302, in _set_and_wait\n",
      "    return _set_and_wait(\n",
      "           ^^^^^^^^^^^^^^\n",
      "  File \"/home/beams/USER2IDD/.conda/envs/bluesky_2024_1/lib/python3.11/site-packages/ophyd/utils/epics_pvs.py\", line 240, in _set_and_wait\n",
      "    _wait_for_value(\n",
      "  File \"/home/beams/USER2IDD/.conda/envs/bluesky_2024_1/lib/python3.11/site-packages/ophyd/utils/epics_pvs.py\", line 295, in _wait_for_value\n",
      "    while (val is not None and current_value is None) or not _compare_maybe_enum(\n",
      "                                                             ^^^^^^^^^^^^^^^^^^^^\n",
      "  File \"/home/beams/USER2IDD/.conda/envs/bluesky_2024_1/lib/python3.11/site-packages/ophyd/utils/epics_pvs.py\", line 341, in _compare_maybe_enum\n",
      "    return np.allclose(\n",
      "           ^^^^^^^^^^^^\n",
      "  File \"/home/beams/USER2IDD/.conda/envs/bluesky_2024_1/lib/python3.11/site-packages/numpy/core/numeric.py\", line 2241, in allclose\n",
      "    res = all(isclose(a, b, rtol=rtol, atol=atol, equal_nan=equal_nan))\n",
      "              ^^^^^^^^^^^^^^^^^^^^^^^^^^^^^^^^^^^^^^^^^^^^^^^^^^^^^^^^\n",
      "  File \"/home/beams/USER2IDD/.conda/envs/bluesky_2024_1/lib/python3.11/site-packages/numpy/core/numeric.py\", line 2351, in isclose\n",
      "    return within_tol(x, y, atol, rtol)\n",
      "           ^^^^^^^^^^^^^^^^^^^^^^^^^^^^\n",
      "  File \"/home/beams/USER2IDD/.conda/envs/bluesky_2024_1/lib/python3.11/site-packages/numpy/core/numeric.py\", line 2332, in within_tol\n",
      "    return less_equal(abs(x-y), atol + rtol * abs(y))\n",
      "                          ~^~\n",
      "ValueError: operands could not be broadcast together with shapes (400,) (100,) \n",
      "2idsft:pm1:M2Positions: _set_and_wait(value=[0.         0.         0.         0.         0.         0.\n",
      " 0.         0.         0.         0.         0.         0.\n",
      " 0.         0.         0.         0.         0.         0.\n",
      " 0.         0.         0.05263158 0.05263158 0.05263158 0.05263158\n",
      " 0.05263158 0.05263158 0.05263158 0.05263158 0.05263158 0.05263158\n",
      " 0.05263158 0.05263158 0.05263158 0.05263158 0.05263158 0.05263158\n",
      " 0.05263158 0.05263158 0.05263158 0.05263158 0.10526316 0.10526316\n",
      " 0.10526316 0.10526316 0.10526316 0.10526316 0.10526316 0.10526316\n",
      " 0.10526316 0.10526316 0.10526316 0.10526316 0.10526316 0.10526316\n",
      " 0.10526316 0.10526316 0.10526316 0.10526316 0.10526316 0.10526316\n",
      " 0.15789474 0.15789474 0.15789474 0.15789474 0.15789474 0.15789474\n",
      " 0.15789474 0.15789474 0.15789474 0.15789474 0.15789474 0.15789474\n",
      " 0.15789474 0.15789474 0.15789474 0.15789474 0.15789474 0.15789474\n",
      " 0.15789474 0.15789474 0.21052632 0.21052632 0.21052632 0.21052632\n",
      " 0.21052632 0.21052632 0.21052632 0.21052632 0.21052632 0.21052632\n",
      " 0.21052632 0.21052632 0.21052632 0.21052632 0.21052632 0.21052632\n",
      " 0.21052632 0.21052632 0.21052632 0.21052632 0.26315789 0.26315789\n",
      " 0.26315789 0.26315789 0.26315789 0.26315789 0.26315789 0.26315789\n",
      " 0.26315789 0.26315789 0.26315789 0.26315789 0.26315789 0.26315789\n",
      " 0.26315789 0.26315789 0.26315789 0.26315789 0.26315789 0.26315789\n",
      " 0.31578947 0.31578947 0.31578947 0.31578947 0.31578947 0.31578947\n",
      " 0.31578947 0.31578947 0.31578947 0.31578947 0.31578947 0.31578947\n",
      " 0.31578947 0.31578947 0.31578947 0.31578947 0.31578947 0.31578947\n",
      " 0.31578947 0.31578947 0.36842105 0.36842105 0.36842105 0.36842105\n",
      " 0.36842105 0.36842105 0.36842105 0.36842105 0.36842105 0.36842105\n",
      " 0.36842105 0.36842105 0.36842105 0.36842105 0.36842105 0.36842105\n",
      " 0.36842105 0.36842105 0.36842105 0.36842105 0.42105263 0.42105263\n",
      " 0.42105263 0.42105263 0.42105263 0.42105263 0.42105263 0.42105263\n",
      " 0.42105263 0.42105263 0.42105263 0.42105263 0.42105263 0.42105263\n",
      " 0.42105263 0.42105263 0.42105263 0.42105263 0.42105263 0.42105263\n",
      " 0.47368421 0.47368421 0.47368421 0.47368421 0.47368421 0.47368421\n",
      " 0.47368421 0.47368421 0.47368421 0.47368421 0.47368421 0.47368421\n",
      " 0.47368421 0.47368421 0.47368421 0.47368421 0.47368421 0.47368421\n",
      " 0.47368421 0.47368421 0.52631579 0.52631579 0.52631579 0.52631579\n",
      " 0.52631579 0.52631579 0.52631579 0.52631579 0.52631579 0.52631579\n",
      " 0.52631579 0.52631579 0.52631579 0.52631579 0.52631579 0.52631579\n",
      " 0.52631579 0.52631579 0.52631579 0.52631579 0.57894737 0.57894737\n",
      " 0.57894737 0.57894737 0.57894737 0.57894737 0.57894737 0.57894737\n",
      " 0.57894737 0.57894737 0.57894737 0.57894737 0.57894737 0.57894737\n",
      " 0.57894737 0.57894737 0.57894737 0.57894737 0.57894737 0.57894737\n",
      " 0.63157895 0.63157895 0.63157895 0.63157895 0.63157895 0.63157895\n",
      " 0.63157895 0.63157895 0.63157895 0.63157895 0.63157895 0.63157895\n",
      " 0.63157895 0.63157895 0.63157895 0.63157895 0.63157895 0.63157895\n",
      " 0.63157895 0.63157895 0.68421053 0.68421053 0.68421053 0.68421053\n",
      " 0.68421053 0.68421053 0.68421053 0.68421053 0.68421053 0.68421053\n",
      " 0.68421053 0.68421053 0.68421053 0.68421053 0.68421053 0.68421053\n",
      " 0.68421053 0.68421053 0.68421053 0.68421053 0.73684211 0.73684211\n",
      " 0.73684211 0.73684211 0.73684211 0.73684211 0.73684211 0.73684211\n",
      " 0.73684211 0.73684211 0.73684211 0.73684211 0.73684211 0.73684211\n",
      " 0.73684211 0.73684211 0.73684211 0.73684211 0.73684211 0.73684211\n",
      " 0.78947368 0.78947368 0.78947368 0.78947368 0.78947368 0.78947368\n",
      " 0.78947368 0.78947368 0.78947368 0.78947368 0.78947368 0.78947368\n",
      " 0.78947368 0.78947368 0.78947368 0.78947368 0.78947368 0.78947368\n",
      " 0.78947368 0.78947368 0.84210526 0.84210526 0.84210526 0.84210526\n",
      " 0.84210526 0.84210526 0.84210526 0.84210526 0.84210526 0.84210526\n",
      " 0.84210526 0.84210526 0.84210526 0.84210526 0.84210526 0.84210526\n",
      " 0.84210526 0.84210526 0.84210526 0.84210526 0.89473684 0.89473684\n",
      " 0.89473684 0.89473684 0.89473684 0.89473684 0.89473684 0.89473684\n",
      " 0.89473684 0.89473684 0.89473684 0.89473684 0.89473684 0.89473684\n",
      " 0.89473684 0.89473684 0.89473684 0.89473684 0.89473684 0.89473684\n",
      " 0.94736842 0.94736842 0.94736842 0.94736842 0.94736842 0.94736842\n",
      " 0.94736842 0.94736842 0.94736842 0.94736842 0.94736842 0.94736842\n",
      " 0.94736842 0.94736842 0.94736842 0.94736842 0.94736842 0.94736842\n",
      " 0.94736842 0.94736842 1.         1.         1.         1.\n",
      " 1.         1.         1.         1.         1.         1.\n",
      " 1.         1.         1.         1.         1.         1.\n",
      " 1.         1.         1.         1.        ], timeout=3, atol=0.0001, rtol=None, kwargs={})\n",
      "Traceback (most recent call last):\n",
      "  File \"/home/beams/USER2IDD/.conda/envs/bluesky_2024_1/lib/python3.11/site-packages/ophyd/signal.py\", line 331, in set_thread\n",
      "    self._set_and_wait(value, timeout, **kwargs)\n",
      "  File \"/home/beams/USER2IDD/.conda/envs/bluesky_2024_1/lib/python3.11/site-packages/ophyd/signal.py\", line 302, in _set_and_wait\n",
      "    return _set_and_wait(\n",
      "           ^^^^^^^^^^^^^^\n",
      "  File \"/home/beams/USER2IDD/.conda/envs/bluesky_2024_1/lib/python3.11/site-packages/ophyd/utils/epics_pvs.py\", line 240, in _set_and_wait\n",
      "    _wait_for_value(\n",
      "  File \"/home/beams/USER2IDD/.conda/envs/bluesky_2024_1/lib/python3.11/site-packages/ophyd/utils/epics_pvs.py\", line 295, in _wait_for_value\n",
      "    while (val is not None and current_value is None) or not _compare_maybe_enum(\n",
      "                                                             ^^^^^^^^^^^^^^^^^^^^\n",
      "  File \"/home/beams/USER2IDD/.conda/envs/bluesky_2024_1/lib/python3.11/site-packages/ophyd/utils/epics_pvs.py\", line 341, in _compare_maybe_enum\n",
      "    return np.allclose(\n",
      "           ^^^^^^^^^^^^\n",
      "  File \"/home/beams/USER2IDD/.conda/envs/bluesky_2024_1/lib/python3.11/site-packages/numpy/core/numeric.py\", line 2241, in allclose\n",
      "    res = all(isclose(a, b, rtol=rtol, atol=atol, equal_nan=equal_nan))\n",
      "              ^^^^^^^^^^^^^^^^^^^^^^^^^^^^^^^^^^^^^^^^^^^^^^^^^^^^^^^^\n",
      "  File \"/home/beams/USER2IDD/.conda/envs/bluesky_2024_1/lib/python3.11/site-packages/numpy/core/numeric.py\", line 2351, in isclose\n",
      "    return within_tol(x, y, atol, rtol)\n",
      "           ^^^^^^^^^^^^^^^^^^^^^^^^^^^^\n",
      "  File \"/home/beams/USER2IDD/.conda/envs/bluesky_2024_1/lib/python3.11/site-packages/numpy/core/numeric.py\", line 2332, in within_tol\n",
      "    return less_equal(abs(x-y), atol + rtol * abs(y))\n",
      "                          ~^~\n",
      "ValueError: operands could not be broadcast together with shapes (400,) (100,) \n",
      "Exception in thread Thread-88 (internal):\n",
      "Traceback (most recent call last):\n",
      "  File \"/home/beams/USER2IDD/.conda/envs/bluesky_2024_1/lib/python3.11/threading.py\", line 1045, in _bootstrap_inner\n",
      "    self.run()\n",
      "  File \"/home/beams/USER2IDD/.conda/envs/bluesky_2024_1/lib/python3.11/site-packages/ipykernel/ipkernel.py\", line 761, in run_closure\n",
      "    _threading_Thread_run(self)\n",
      "  File \"/home/beams/USER2IDD/.conda/envs/bluesky_2024_1/lib/python3.11/threading.py\", line 982, in run\n",
      "    self._target(*self._args, **self._kwargs)\n",
      "  File \"/home/beams/USER2IDD/.conda/envs/bluesky_2024_1/lib/python3.11/site-packages/apstools/plans/run_blocking_function_plan.py\", line 67, in internal\n",
      "    result = function(*args, **kwargs)\n",
      "             ^^^^^^^^^^^^^^^^^^^^^^^^^\n",
      "TypeError: 'EpicsSignal' object is not callable\n",
      "2idsft:pm1:Build: _set_and_wait(value=1, timeout=3, atol=None, rtol=None, kwargs={})\n",
      "Exception in thread Thread-109 (internal):\n",
      "Traceback (most recent call last):\n",
      "  File \"/home/beams/USER2IDD/.conda/envs/bluesky_2024_1/lib/python3.11/threading.py\", line 1045, in _bootstrap_inner\n",
      "    self.run()\n",
      "  File \"/home/beams/USER2IDD/.conda/envs/bluesky_2024_1/lib/python3.11/site-packages/ipykernel/ipkernel.py\", line 761, in run_closure\n",
      "    _threading_Thread_run(self)\n",
      "  File \"/home/beams/USER2IDD/.conda/envs/bluesky_2024_1/lib/python3.11/threading.py\", line 982, in run\n",
      "    self._target(*self._args, **self._kwargs)\n",
      "  File \"/home/beams/USER2IDD/.conda/envs/bluesky_2024_1/lib/python3.11/site-packages/apstools/plans/run_blocking_function_plan.py\", line 67, in internal\n",
      "    result = function(*args, **kwargs)\n",
      "             ^^^^^^^^^^^^^^^^^^^^^^^^^\n",
      "TypeError: 'EpicsSignal' object is not callable\n",
      "2idsft:pm1:Build: _set_and_wait(value=1, timeout=3, atol=None, rtol=None, kwargs={})\n",
      "build: _set_and_wait(value=1, timeout=3, atol=None, rtol=None, kwargs={})\n",
      "2idsft:pm1:Build: _set_and_wait(value=1, timeout=3, atol=None, rtol=None, kwargs={})\n",
      "Exception in thread Thread-134 (internal):\n",
      "Traceback (most recent call last):\n",
      "  File \"/home/beams/USER2IDD/.conda/envs/bluesky_2024_1/lib/python3.11/threading.py\", line 1045, in _bootstrap_inner\n",
      "    self.run()\n",
      "  File \"/home/beams/USER2IDD/.conda/envs/bluesky_2024_1/lib/python3.11/site-packages/ipykernel/ipkernel.py\", line 761, in run_closure\n",
      "    _threading_Thread_run(self)\n",
      "  File \"/home/beams/USER2IDD/.conda/envs/bluesky_2024_1/lib/python3.11/threading.py\", line 982, in run\n",
      "    self._target(*self._args, **self._kwargs)\n",
      "  File \"/home/beams/USER2IDD/.conda/envs/bluesky_2024_1/lib/python3.11/site-packages/apstools/plans/run_blocking_function_plan.py\", line 67, in internal\n",
      "    result = function(*args, **kwargs)\n",
      "             ^^^^^^^^^^^^^^^^^^^^^^^^^\n",
      "TypeError: 'EpicsSignal' object is not callable\n",
      "Exception in thread Thread-153 (internal):\n",
      "Traceback (most recent call last):\n",
      "  File \"/home/beams/USER2IDD/.conda/envs/bluesky_2024_1/lib/python3.11/threading.py\", line 1045, in _bootstrap_inner\n",
      "    self.run()\n",
      "  File \"/home/beams/USER2IDD/.conda/envs/bluesky_2024_1/lib/python3.11/site-packages/ipykernel/ipkernel.py\", line 761, in run_closure\n",
      "    _threading_Thread_run(self)\n",
      "  File \"/home/beams/USER2IDD/.conda/envs/bluesky_2024_1/lib/python3.11/threading.py\", line 982, in run\n",
      "    self._target(*self._args, **self._kwargs)\n",
      "  File \"/home/beams/USER2IDD/.conda/envs/bluesky_2024_1/lib/python3.11/site-packages/apstools/plans/run_blocking_function_plan.py\", line 67, in internal\n",
      "    result = function(*args, **kwargs)\n",
      "             ^^^^^^^^^^^^^^^^^^^^^^^^^\n",
      "TypeError: 'EpicsSignal' object is not callable\n",
      "Exception in thread Thread-172 (internal):\n",
      "Traceback (most recent call last):\n",
      "  File \"/home/beams/USER2IDD/.conda/envs/bluesky_2024_1/lib/python3.11/threading.py\", line 1045, in _bootstrap_inner\n",
      "    self.run()\n",
      "  File \"/home/beams/USER2IDD/.conda/envs/bluesky_2024_1/lib/python3.11/site-packages/ipykernel/ipkernel.py\", line 761, in run_closure\n",
      "    _threading_Thread_run(self)\n",
      "  File \"/home/beams/USER2IDD/.conda/envs/bluesky_2024_1/lib/python3.11/threading.py\", line 982, in run\n",
      "    self._target(*self._args, **self._kwargs)\n",
      "  File \"/home/beams/USER2IDD/.conda/envs/bluesky_2024_1/lib/python3.11/site-packages/apstools/plans/run_blocking_function_plan.py\", line 67, in internal\n",
      "    result = function(*args, **kwargs)\n",
      "             ^^^^^^^^^^^^^^^^^^^^^^^^^\n",
      "TypeError: 'EpicsSignal' object is not callable\n",
      "Exception in thread Thread-191 (internal):\n",
      "Traceback (most recent call last):\n",
      "  File \"/home/beams/USER2IDD/.conda/envs/bluesky_2024_1/lib/python3.11/threading.py\", line 1045, in _bootstrap_inner\n",
      "    self.run()\n",
      "  File \"/home/beams/USER2IDD/.conda/envs/bluesky_2024_1/lib/python3.11/site-packages/ipykernel/ipkernel.py\", line 761, in run_closure\n",
      "    _threading_Thread_run(self)\n",
      "  File \"/home/beams/USER2IDD/.conda/envs/bluesky_2024_1/lib/python3.11/threading.py\", line 982, in run\n",
      "    self._target(*self._args, **self._kwargs)\n",
      "  File \"/home/beams/USER2IDD/.conda/envs/bluesky_2024_1/lib/python3.11/site-packages/apstools/plans/run_blocking_function_plan.py\", line 67, in internal\n",
      "    result = function(*args, **kwargs)\n",
      "             ^^^^^^^^^^^^^^^^^^^^^^^^^\n",
      "TypeError: 'EpicsSignal' object is not callable\n",
      "2idsft:pm1:Execute: _set_and_wait(value=1, timeout=3, atol=None, rtol=None, kwargs={})\n",
      "Exception in thread Thread-213 (internal):\n",
      "Traceback (most recent call last):\n",
      "  File \"/home/beams/USER2IDD/.conda/envs/bluesky_2024_1/lib/python3.11/threading.py\", line 1045, in _bootstrap_inner\n",
      "    self.run()\n",
      "  File \"/home/beams/USER2IDD/.conda/envs/bluesky_2024_1/lib/python3.11/site-packages/ipykernel/ipkernel.py\", line 761, in run_closure\n",
      "    _threading_Thread_run(self)\n",
      "  File \"/home/beams/USER2IDD/.conda/envs/bluesky_2024_1/lib/python3.11/threading.py\", line 982, in run\n",
      "    self._target(*self._args, **self._kwargs)\n",
      "  File \"/home/beams/USER2IDD/.conda/envs/bluesky_2024_1/lib/python3.11/site-packages/apstools/plans/run_blocking_function_plan.py\", line 67, in internal\n",
      "    result = function(*args, **kwargs)\n",
      "             ^^^^^^^^^^^^^^^^^^^^^^^^^\n",
      "TypeError: 'EpicsSignal' object is not callable\n",
      "2idsft:pm1:Execute: _set_and_wait(value=1, timeout=3, atol=None, rtol=None, kwargs={})\n",
      "Exception in thread Thread-235 (internal):\n",
      "Traceback (most recent call last):\n",
      "  File \"/home/beams/USER2IDD/.conda/envs/bluesky_2024_1/lib/python3.11/threading.py\", line 1045, in _bootstrap_inner\n",
      "    self.run()\n",
      "  File \"/home/beams/USER2IDD/.conda/envs/bluesky_2024_1/lib/python3.11/site-packages/ipykernel/ipkernel.py\", line 761, in run_closure\n",
      "    _threading_Thread_run(self)\n",
      "  File \"/home/beams/USER2IDD/.conda/envs/bluesky_2024_1/lib/python3.11/threading.py\", line 982, in run\n",
      "    self._target(*self._args, **self._kwargs)\n",
      "  File \"/home/beams/USER2IDD/.conda/envs/bluesky_2024_1/lib/python3.11/site-packages/apstools/plans/run_blocking_function_plan.py\", line 67, in internal\n",
      "    result = function(*args, **kwargs)\n",
      "             ^^^^^^^^^^^^^^^^^^^^^^^^^\n",
      "TypeError: 'EpicsSignal' object is not callable\n",
      "2idsft:pm1:Execute: _set_and_wait(value=1, timeout=3, atol=None, rtol=None, kwargs={})\n",
      "Exception in thread Thread-257 (internal):\n",
      "Traceback (most recent call last):\n",
      "  File \"/home/beams/USER2IDD/.conda/envs/bluesky_2024_1/lib/python3.11/threading.py\", line 1045, in _bootstrap_inner\n",
      "    self.run()\n",
      "  File \"/home/beams/USER2IDD/.conda/envs/bluesky_2024_1/lib/python3.11/site-packages/ipykernel/ipkernel.py\", line 761, in run_closure\n",
      "    _threading_Thread_run(self)\n",
      "  File \"/home/beams/USER2IDD/.conda/envs/bluesky_2024_1/lib/python3.11/threading.py\", line 982, in run\n",
      "    self._target(*self._args, **self._kwargs)\n",
      "  File \"/home/beams/USER2IDD/.conda/envs/bluesky_2024_1/lib/python3.11/site-packages/apstools/plans/run_blocking_function_plan.py\", line 67, in internal\n",
      "    result = function(*args, **kwargs)\n",
      "             ^^^^^^^^^^^^^^^^^^^^^^^^^\n",
      "TypeError: 'EpicsSignal' object is not callable\n",
      "Exception in thread Thread-277 (internal):\n",
      "Traceback (most recent call last):\n",
      "  File \"/home/beams/USER2IDD/.conda/envs/bluesky_2024_1/lib/python3.11/threading.py\", line 1045, in _bootstrap_inner\n",
      "    self.run()\n",
      "  File \"/home/beams/USER2IDD/.conda/envs/bluesky_2024_1/lib/python3.11/site-packages/ipykernel/ipkernel.py\", line 761, in run_closure\n",
      "    _threading_Thread_run(self)\n",
      "  File \"/home/beams/USER2IDD/.conda/envs/bluesky_2024_1/lib/python3.11/threading.py\", line 982, in run\n",
      "    self._target(*self._args, **self._kwargs)\n",
      "  File \"/home/beams/USER2IDD/.conda/envs/bluesky_2024_1/lib/python3.11/site-packages/apstools/plans/run_blocking_function_plan.py\", line 67, in internal\n",
      "    result = function(*args, **kwargs)\n",
      "             ^^^^^^^^^^^^^^^^^^^^^^^^^\n",
      "TypeError: 'EpicsSignal' object is not callable\n",
      "Exception in thread Thread-297 (internal):\n",
      "Traceback (most recent call last):\n",
      "  File \"/home/beams/USER2IDD/.conda/envs/bluesky_2024_1/lib/python3.11/threading.py\", line 1045, in _bootstrap_inner\n",
      "    self.run()\n",
      "  File \"/home/beams/USER2IDD/.conda/envs/bluesky_2024_1/lib/python3.11/site-packages/ipykernel/ipkernel.py\", line 761, in run_closure\n",
      "    _threading_Thread_run(self)\n",
      "  File \"/home/beams/USER2IDD/.conda/envs/bluesky_2024_1/lib/python3.11/threading.py\", line 982, in run\n",
      "    self._target(*self._args, **self._kwargs)\n",
      "  File \"/home/beams/USER2IDD/.conda/envs/bluesky_2024_1/lib/python3.11/site-packages/apstools/plans/run_blocking_function_plan.py\", line 67, in internal\n",
      "    result = function(*args, **kwargs)\n",
      "             ^^^^^^^^^^^^^^^^^^^^^^^^^\n",
      "TypeError: 'EpicsSignal' object is not callable\n",
      "Exception in thread Thread-317 (internal):\n",
      "Traceback (most recent call last):\n",
      "  File \"/home/beams/USER2IDD/.conda/envs/bluesky_2024_1/lib/python3.11/threading.py\", line 1045, in _bootstrap_inner\n",
      "    self.run()\n",
      "  File \"/home/beams/USER2IDD/.conda/envs/bluesky_2024_1/lib/python3.11/site-packages/ipykernel/ipkernel.py\", line 761, in run_closure\n",
      "    _threading_Thread_run(self)\n",
      "  File \"/home/beams/USER2IDD/.conda/envs/bluesky_2024_1/lib/python3.11/threading.py\", line 982, in run\n",
      "    self._target(*self._args, **self._kwargs)\n",
      "  File \"/home/beams/USER2IDD/.conda/envs/bluesky_2024_1/lib/python3.11/site-packages/apstools/plans/run_blocking_function_plan.py\", line 67, in internal\n",
      "    result = function(*args, **kwargs)\n",
      "             ^^^^^^^^^^^^^^^^^^^^^^^^^\n",
      "TypeError: 'EpicsSignal' object is not callable\n"
     ]
    }
   ],
   "source": [
    "RE = bluesky.RunEngine()"
   ]
  },
  {
   "cell_type": "code",
   "execution_count": 43,
   "metadata": {},
   "outputs": [
    {
     "data": {
      "text/plain": [
       "()"
      ]
     },
     "execution_count": 43,
     "metadata": {},
     "output_type": "execute_result"
    }
   ],
   "source": [
    "RE(bps.mv(pm1_pts_pv, 300))"
   ]
  },
  {
   "cell_type": "code",
   "execution_count": 29,
   "metadata": {},
   "outputs": [
    {
     "ename": "AttributeError",
     "evalue": "'Component' object has no attribute 'value'",
     "output_type": "error",
     "traceback": [
      "\u001b[0;31m---------------------------------------------------------------------------\u001b[0m",
      "\u001b[0;31mAttributeError\u001b[0m                            Traceback (most recent call last)",
      "Cell \u001b[0;32mIn[29], line 1\u001b[0m\n\u001b[0;32m----> 1\u001b[0m \u001b[43mpm1\u001b[49m\u001b[38;5;241;43m.\u001b[39;49m\u001b[43mnum_points\u001b[49m\u001b[38;5;241;43m.\u001b[39;49m\u001b[43mvalue\u001b[49m\n",
      "\u001b[0;31mAttributeError\u001b[0m: 'Component' object has no attribute 'value'"
     ]
    }
   ],
   "source": [
    "pm1.num_points.value"
   ]
  },
  {
   "cell_type": "code",
   "execution_count": 23,
   "metadata": {},
   "outputs": [
    {
     "data": {
      "text/plain": [
       "<generator object mv at 0x7fb4d6f27ba0>"
      ]
     },
     "execution_count": 23,
     "metadata": {},
     "output_type": "execute_result"
    }
   ],
   "source": [
    "bps.mv(pm1.num_points, npts)"
   ]
  },
  {
   "cell_type": "code",
   "execution_count": 96,
   "metadata": {},
   "outputs": [],
   "source": [
    "IOC = '2idsft:'\n",
    "scan1 = SscanRecord(f\"{IOC}scan1\", name=\"scan1\")\n",
    "scan1.wait_for_connection()"
   ]
  },
  {
   "cell_type": "code",
   "execution_count": 99,
   "metadata": {},
   "outputs": [
    {
     "data": {
      "text/plain": [
       "ophyd.signal.EpicsSignal"
      ]
     },
     "execution_count": 99,
     "metadata": {},
     "output_type": "execute_result"
    }
   ],
   "source": [
    "type(scan1.execute_scan)"
   ]
  },
  {
   "cell_type": "code",
   "execution_count": 101,
   "metadata": {},
   "outputs": [
    {
     "ename": "AttributeError",
     "evalue": "'ProfileMove' object has no attribute 'exsc'",
     "output_type": "error",
     "traceback": [
      "\u001b[0;31m---------------------------------------------------------------------------\u001b[0m",
      "\u001b[0;31mAttributeError\u001b[0m                            Traceback (most recent call last)",
      "Cell \u001b[0;32mIn[101], line 1\u001b[0m\n\u001b[0;32m----> 1\u001b[0m \u001b[38;5;28mtype\u001b[39m(\u001b[43mpm1\u001b[49m\u001b[38;5;241;43m.\u001b[39;49m\u001b[43mexsc\u001b[49m)\n",
      "\u001b[0;31mAttributeError\u001b[0m: 'ProfileMove' object has no attribute 'exsc'"
     ]
    }
   ],
   "source": [
    "type(pm1.exsc)"
   ]
  },
  {
   "cell_type": "code",
   "execution_count": 14,
   "metadata": {},
   "outputs": [],
   "source": [
    "m_prefix = \"2idbtst:\"\n",
    "m1 = EpicsMotor(f\"{m_prefix}m1\", name=\"m1\")\n",
    "m1.wait_for_connection()"
   ]
  },
  {
   "cell_type": "code",
   "execution_count": null,
   "metadata": {},
   "outputs": [],
   "source": [
    "def setup_scan1_2D(m1, start, finish, m2, s2, f2, p2, ct=1):\n",
    "    # yield from bps.mv(scaler1.preset_time, ct)  # counting time/point\n",
    "    yield from run_blocking_function(scan1.reset)\n",
    "    yield from bps.sleep(0.2)  # arbitrary wait for EPICS to finish the reset.\n",
    "\n",
    "    # positioners\n",
    "    yield from bps.mv(\n",
    "        scan1.number_points, npts,\n",
    "        scan1.positioners.p1.start, start,\n",
    "        scan1.positioners.p1.end, finish,\n",
    "        scan1.positioners.p1.readback_pv, m1.user_readback.pvname,\n",
    "        scan1.positioners.p1.setpoint_pv, m1.user_setpoint.pvname,\n",
    "    )\n",
    "    # # triggers (push scaler count button at each point)\n",
    "    # yield from bps.mv(\n",
    "    #     scan1.triggers.t1.trigger_pv, scaler1.count.pvname,\n",
    "    # )\n",
    "    # # detectors\n",
    "    # yield from bps.mv(\n",
    "    #     scan1.detectors.d01.input_pv, I0.pvname,\n",
    "    #     scan1.detectors.d02.input_pv, diode.pvname,\n",
    "    # )"
   ]
  },
  {
   "cell_type": "code",
   "execution_count": 15,
   "metadata": {},
   "outputs": [],
   "source": [
    "def run_sscan():\n",
    "    # Create an instance of the Status object.\n",
    "    # If it is not marked as finished within 20s, it will raise a timeout exception.\n",
    "    st = Status(timeout=20)\n",
    "\n",
    "    def watch_execute_scan(old_value, value, **kwargs):\n",
    "        # Watch for scan1.EXSC to change from 1 to 0 (when the scan ends).\n",
    "        if old_value == 1 and value == 0:\n",
    "            # mark as finished (successfully).\n",
    "            st.set_finished()\n",
    "            # Remove the subscription.\n",
    "            scan1.execute_scan.clear_sub(watch_execute_scan)\n",
    "\n",
    "    yield from bps.mv(scan1.execute_scan, 1)\n",
    "    scan1.execute_scan.subscribe(watch_execute_scan)\n",
    "    yield from run_blocking_function(st.wait)"
   ]
  },
  {
   "cell_type": "code",
   "execution_count": 33,
   "metadata": {},
   "outputs": [],
   "source": [
    "# RE = bluesky.RunEngine()\n",
    "a = RE(setup_scan1(m1, -0.5, 0.5, 100))"
   ]
  },
  {
   "cell_type": "code",
   "execution_count": 34,
   "metadata": {},
   "outputs": [],
   "source": [
    "# Run scan\n",
    "j = RE(run_sscan())"
   ]
  },
  {
   "cell_type": "code",
   "execution_count": 31,
   "metadata": {},
   "outputs": [],
   "source": [
    "# This command interacts with pv via ophyd directly, without bluesky RE\n",
    "scan1.execute_scan.value = 1"
   ]
  },
  {
   "cell_type": "code",
   "execution_count": 14,
   "metadata": {},
   "outputs": [
    {
     "data": {
      "text/plain": [
       "'2idsft:scan1.NPTS'"
      ]
     },
     "execution_count": 14,
     "metadata": {},
     "output_type": "execute_result"
    }
   ],
   "source": [
    "scan1.number_points.pvname"
   ]
  },
  {
   "cell_type": "code",
   "execution_count": 7,
   "metadata": {},
   "outputs": [],
   "source": [
    "from ophyd import Signal"
   ]
  },
  {
   "cell_type": "code",
   "execution_count": 39,
   "metadata": {},
   "outputs": [],
   "source": [
    "scan_npts = Signal(name='2idsft:scan1.NPTS')"
   ]
  },
  {
   "cell_type": "code",
   "execution_count": 27,
   "metadata": {},
   "outputs": [
    {
     "name": "stdout",
     "output_type": "stream",
     "text": [
      "1\n",
      "1\n"
     ]
    }
   ],
   "source": [
    "print(scan1.number_points.value)\n",
    "scan_npts.put = 100\n",
    "print(scan1.number_points.value)"
   ]
  },
  {
   "cell_type": "markdown",
   "metadata": {},
   "source": []
  },
  {
   "cell_type": "code",
   "execution_count": 19,
   "metadata": {},
   "outputs": [
    {
     "data": {
      "text/plain": [
       "ophyd.signal.Signal"
      ]
     },
     "execution_count": 19,
     "metadata": {},
     "output_type": "execute_result"
    }
   ],
   "source": [
    "type(scan_npts)"
   ]
  },
  {
   "cell_type": "code",
   "execution_count": 28,
   "metadata": {},
   "outputs": [],
   "source": [
    "scan1.number_points.value = 100"
   ]
  },
  {
   "cell_type": "code",
   "execution_count": 40,
   "metadata": {},
   "outputs": [
    {
     "data": {
      "text/plain": [
       "<bound method Signal.get of Signal(name='2idsft:scan1.NPTS', value=0.0, timestamp=1713302585.1919556)>"
      ]
     },
     "execution_count": 40,
     "metadata": {},
     "output_type": "execute_result"
    },
    {
     "name": "stderr",
     "output_type": "stream",
     "text": [
      "CA.Client.Exception...............................................\n",
      "    Warning: \"Virtual circuit disconnect\"\n",
      "    Context: \"2iddxspress3.xray.aps.anl.gov:44487\"\n",
      "    Source File: ../cac.cpp line 1238\n",
      "    Current Time: Tue Apr 16 2024 16:43:03.154788457\n",
      "..................................................................\n"
     ]
    }
   ],
   "source": [
    "scan_npts.get"
   ]
  },
  {
   "cell_type": "code",
   "execution_count": 48,
   "metadata": {},
   "outputs": [],
   "source": [
    "scan1.positioners.p1.value = '2idsft:m2'"
   ]
  },
  {
   "cell_type": "code",
   "execution_count": 49,
   "metadata": {},
   "outputs": [],
   "source": [
    "import numpy as np"
   ]
  },
  {
   "cell_type": "code",
   "execution_count": 79,
   "metadata": {},
   "outputs": [],
   "source": [
    "t =np.linspace(-0.5, 0.5, 2000)"
   ]
  },
  {
   "cell_type": "code",
   "execution_count": 70,
   "metadata": {},
   "outputs": [
    {
     "data": {
      "text/plain": [
       "array([-0.5       , -0.44736842, -0.39473684, -0.34210526, -0.28947368,\n",
       "       -0.23684211, -0.18421053, -0.13157895, -0.07894737, -0.02631579,\n",
       "        0.02631579,  0.07894737,  0.13157895,  0.18421053,  0.23684211,\n",
       "        0.28947368,  0.34210526,  0.39473684,  0.44736842,  0.5       ])"
      ]
     },
     "execution_count": 70,
     "metadata": {},
     "output_type": "execute_result"
    }
   ],
   "source": [
    "t"
   ]
  },
  {
   "cell_type": "code",
   "execution_count": 68,
   "metadata": {},
   "outputs": [
    {
     "data": {
      "text/plain": [
       "Positioners(prefix='2idsft:scan1', name='scan1_positioners', parent='scan1', read_attrs=['p1', 'p1.readback_value', 'p1.array', 'p1.setpoint_value', 'p2', 'p2.readback_value', 'p2.array', 'p2.setpoint_value', 'p3', 'p3.readback_value', 'p3.array', 'p3.setpoint_value', 'p4', 'p4.readback_value', 'p4.array', 'p4.setpoint_value'], configuration_attrs=['p1', 'p1.readback_pv', 'p1.setpoint_pv', 'p1.start', 'p1.center', 'p1.end', 'p1.step_size', 'p1.width', 'p1.abs_rel', 'p1.mode', 'p1.units', 'p2', 'p2.readback_pv', 'p2.setpoint_pv', 'p2.start', 'p2.center', 'p2.end', 'p2.step_size', 'p2.width', 'p2.abs_rel', 'p2.mode', 'p2.units', 'p3', 'p3.readback_pv', 'p3.setpoint_pv', 'p3.start', 'p3.center', 'p3.end', 'p3.step_size', 'p3.width', 'p3.abs_rel', 'p3.mode', 'p3.units', 'p4', 'p4.readback_pv', 'p4.setpoint_pv', 'p4.start', 'p4.center', 'p4.end', 'p4.step_size', 'p4.width', 'p4.abs_rel', 'p4.mode', 'p4.units'])"
      ]
     },
     "execution_count": 68,
     "metadata": {},
     "output_type": "execute_result"
    }
   ],
   "source": [
    "scan1.positioners"
   ]
  },
  {
   "cell_type": "code",
   "execution_count": 87,
   "metadata": {},
   "outputs": [
    {
     "data": {
      "text/plain": [
       "['OphydAttrList',\n",
       " 'SUB_ACQ_DONE',\n",
       " '_Device__set_kinds_according_to_list',\n",
       " '_OphydObject__any_instantiated',\n",
       " '_OphydObject__instantiation_callbacks',\n",
       " '_OphydObject__register_instance',\n",
       " '__annotations__',\n",
       " '__class__',\n",
       " '__copy__',\n",
       " '__delattr__',\n",
       " '__dict__',\n",
       " '__dir__',\n",
       " '__doc__',\n",
       " '__eq__',\n",
       " '__format__',\n",
       " '__ge__',\n",
       " '__getattr__',\n",
       " '__getattribute__',\n",
       " '__getnewargs_ex__',\n",
       " '__getstate__',\n",
       " '__gt__',\n",
       " '__hash__',\n",
       " '__init__',\n",
       " '__init_subclass__',\n",
       " '__le__',\n",
       " '__lt__',\n",
       " '__module__',\n",
       " '__ne__',\n",
       " '__new__',\n",
       " '__reduce__',\n",
       " '__reduce_ex__',\n",
       " '__repr__',\n",
       " '__setattr__',\n",
       " '__sizeof__',\n",
       " '__str__',\n",
       " '__subclasshook__',\n",
       " '__weakref__',\n",
       " '_args_cache',\n",
       " '_attr_name',\n",
       " '_callbacks',\n",
       " '_cb_count',\n",
       " '_cid_to_event_mapping',\n",
       " '_component_kinds',\n",
       " '_default_configuration_attrs',\n",
       " '_default_read_attrs',\n",
       " '_default_sub',\n",
       " '_destroyed',\n",
       " '_device_tuple',\n",
       " '_done_acquiring',\n",
       " '_get_components_of_kind',\n",
       " '_get_kind',\n",
       " '_initialize_device',\n",
       " '_instantiate_component',\n",
       " '_kind',\n",
       " '_mark_as_instantiated',\n",
       " '_name',\n",
       " '_ophyd_labels_',\n",
       " '_original_vals',\n",
       " '_parent',\n",
       " '_repr_info',\n",
       " '_required_for_connection',\n",
       " '_reset_sub',\n",
       " '_run_subs',\n",
       " '_set_kind',\n",
       " '_sig_attrs',\n",
       " '_signals',\n",
       " '_staged',\n",
       " '_sub_devices',\n",
       " '_summary',\n",
       " '_unwrapped_callbacks',\n",
       " '_validate_kind',\n",
       " 'a1cd',\n",
       " 'a1nv',\n",
       " 'a1pv',\n",
       " 'acqm',\n",
       " 'acqt',\n",
       " 'add_instantiation_callback',\n",
       " 'alert_flag',\n",
       " 'alert_message',\n",
       " 'ascd',\n",
       " 'aspv',\n",
       " 'atime',\n",
       " 'attr_name',\n",
       " 'awct',\n",
       " 'bscd',\n",
       " 'bspv',\n",
       " 'bswait',\n",
       " 'check_value',\n",
       " 'clear_sub',\n",
       " 'cmnd',\n",
       " 'component_names',\n",
       " 'configuration_attrs',\n",
       " 'configure',\n",
       " 'connected',\n",
       " 'control_layer_log',\n",
       " 'copyto',\n",
       " 'current_point',\n",
       " 'data_ready',\n",
       " 'data_state',\n",
       " 'defined_in_EPICS',\n",
       " 'desc',\n",
       " 'describe',\n",
       " 'describe_configuration',\n",
       " 'destroy',\n",
       " 'detector_delay',\n",
       " 'detectors',\n",
       " 'dotted_name',\n",
       " 'event_types',\n",
       " 'execute_scan',\n",
       " 'get',\n",
       " 'get_device_tuple',\n",
       " 'get_instantiated_signals',\n",
       " 'hints',\n",
       " 'kind',\n",
       " 'lazy_wait_for_connection',\n",
       " 'log',\n",
       " 'maximum_number_points',\n",
       " 'name',\n",
       " 'number_points',\n",
       " 'parent',\n",
       " 'pasm',\n",
       " 'pause',\n",
       " 'positioner_delay',\n",
       " 'positioners',\n",
       " 'prefix',\n",
       " 'put',\n",
       " 'read',\n",
       " 'read_attrs',\n",
       " 'read_configuration',\n",
       " 'reference_detector',\n",
       " 'report',\n",
       " 'reset',\n",
       " 'resume',\n",
       " 'root',\n",
       " 'scan_busy',\n",
       " 'scan_phase',\n",
       " 'select_channels',\n",
       " 'set',\n",
       " 'signal_names',\n",
       " 'stage',\n",
       " 'stage_sigs',\n",
       " 'stop',\n",
       " 'subscribe',\n",
       " 'subscriptions',\n",
       " 'summary',\n",
       " 'trigger',\n",
       " 'trigger_signals',\n",
       " 'triggers',\n",
       " 'unstage',\n",
       " 'unsubscribe',\n",
       " 'unsubscribe_all',\n",
       " 'wait',\n",
       " 'wait_for_connection',\n",
       " 'walk_components',\n",
       " 'walk_signals',\n",
       " 'walk_subdevice_classes',\n",
       " 'walk_subdevices',\n",
       " 'wcnt']"
      ]
     },
     "execution_count": 87,
     "metadata": {},
     "output_type": "execute_result"
    }
   ],
   "source": [
    "dir(scan1)"
   ]
  },
  {
   "cell_type": "code",
   "execution_count": 75,
   "metadata": {},
   "outputs": [],
   "source": [
    "from epics import caget, caput"
   ]
  },
  {
   "cell_type": "code",
   "execution_count": 100,
   "metadata": {},
   "outputs": [
    {
     "data": {
      "text/plain": [
       "array([-0.5       , -0.44736842, -0.39473684, -0.34210526, -0.28947368,\n",
       "       -0.23684211, -0.18421053, -0.13157895, -0.07894737, -0.02631579,\n",
       "        0.02631579,  0.07894737,  0.13157895,  0.18421053,  0.23684211,\n",
       "        0.28947368,  0.34210526,  0.39473684,  0.44736842,  0.5       ,\n",
       "        0.        ,  0.        ,  0.        ,  0.        ,  0.        ,\n",
       "        0.        ,  0.        ,  0.        ,  0.        ,  0.        ,\n",
       "        0.        ,  0.        ,  0.        ,  0.        ,  0.        ,\n",
       "        0.        ,  0.        ,  0.        ,  0.        ,  0.        ,\n",
       "        0.        ,  0.        ,  0.        ,  0.        ,  0.        ,\n",
       "        0.        ,  0.        ,  0.        ,  0.        ,  0.        ,\n",
       "        0.        ,  0.        ,  0.        ,  0.        ,  0.        ,\n",
       "        0.        ,  0.        ,  0.        ,  0.        ,  0.        ,\n",
       "        0.        ,  0.        ,  0.        ,  0.        ,  0.        ,\n",
       "        0.        ,  0.        ,  0.        ,  0.        ,  0.        ,\n",
       "        0.        ,  0.        ,  0.        ,  0.        ,  0.        ,\n",
       "        0.        ,  0.        ,  0.        ,  0.        ,  0.        ,\n",
       "        0.        ,  0.        ,  0.        ,  0.        ,  0.        ,\n",
       "        0.        ,  0.        ,  0.        ,  0.        ,  0.        ,\n",
       "        0.        ,  0.        ,  0.        ,  0.        ,  0.        ,\n",
       "        0.        ,  0.        ,  0.        ,  0.        ,  0.        ,\n",
       "        0.        ,  0.        ,  0.        ,  0.        ,  0.        ,\n",
       "        0.        ,  0.        ,  0.        ,  0.        ,  0.        ,\n",
       "        0.        ,  0.        ,  0.        ,  0.        ,  0.        ,\n",
       "        0.        ,  0.        ,  0.        ,  0.        ,  0.        ,\n",
       "        0.        ,  0.        ,  0.        ,  0.        ,  0.        ,\n",
       "        0.        ,  0.        ,  0.        ,  0.        ,  0.        ,\n",
       "        0.        ,  0.        ,  0.        ,  0.        ,  0.        ,\n",
       "        0.        ,  0.        ,  0.        ,  0.        ,  0.        ,\n",
       "        0.        ,  0.        ,  0.        ,  0.        ,  0.        ,\n",
       "        0.        ,  0.        ,  0.        ,  0.        ,  0.        ,\n",
       "        0.        ,  0.        ,  0.        ,  0.        ,  0.        ,\n",
       "        0.        ,  0.        ,  0.        ,  0.        ,  0.        ,\n",
       "        0.        ,  0.        ,  0.        ,  0.        ,  0.        ,\n",
       "        0.        ,  0.        ,  0.        ,  0.        ,  0.        ,\n",
       "        0.        ,  0.        ,  0.        ,  0.        ,  0.        ,\n",
       "        0.        ,  0.        ,  0.        ,  0.        ,  0.        ,\n",
       "        0.        ,  0.        ,  0.        ,  0.        ,  0.        ,\n",
       "        0.        ,  0.        ,  0.        ,  0.        ,  0.        ,\n",
       "        0.        ,  0.        ,  0.        ,  0.        ,  0.        ,\n",
       "        0.        ,  0.        ,  0.        ,  0.        ,  0.        ,\n",
       "        0.        ,  0.        ,  0.        ,  0.        ,  0.        ,\n",
       "        0.        ,  0.        ,  0.        ,  0.        ,  0.        ,\n",
       "        0.        ,  0.        ,  0.        ,  0.        ,  0.        ,\n",
       "        0.        ,  0.        ,  0.        ,  0.        ,  0.        ,\n",
       "        0.        ,  0.        ,  0.        ,  0.        ,  0.        ,\n",
       "        0.        ,  0.        ,  0.        ,  0.        ,  0.        ,\n",
       "        0.        ,  0.        ,  0.        ,  0.        ,  0.        ,\n",
       "        0.        ,  0.        ,  0.        ,  0.        ,  0.        ,\n",
       "        0.        ,  0.        ,  0.        ,  0.        ,  0.        ,\n",
       "        0.        ,  0.        ,  0.        ,  0.        ,  0.        ,\n",
       "        0.        ,  0.        ,  0.        ,  0.        ,  0.        ,\n",
       "        0.        ,  0.        ,  0.        ,  0.        ,  0.        ,\n",
       "        0.        ,  0.        ,  0.        ,  0.        ,  0.        ,\n",
       "        0.        ,  0.        ,  0.        ,  0.        ,  0.        ,\n",
       "        0.        ,  0.        ,  0.        ,  0.        ,  0.        ,\n",
       "        0.        ,  0.        ,  0.        ,  0.        ,  0.        ,\n",
       "        0.        ,  0.        ,  0.        ,  0.        ,  0.        ,\n",
       "        0.        ,  0.        ,  0.        ,  0.        ,  0.        ,\n",
       "        0.        ,  0.        ,  0.        ,  0.        ,  0.        ,\n",
       "        0.        ,  0.        ,  0.        ,  0.        ,  0.        ,\n",
       "        0.        ,  0.        ,  0.        ,  0.        ,  0.        ,\n",
       "        0.        ,  0.        ,  0.        ,  0.        ,  0.        ,\n",
       "        0.        ,  0.        ,  0.        ,  0.        ,  0.        ,\n",
       "        0.        ,  0.        ,  0.        ,  0.        ,  0.        ,\n",
       "        0.        ,  0.        ,  0.        ,  0.        ,  0.        ,\n",
       "        0.        ,  0.        ,  0.        ,  0.        ,  0.        ,\n",
       "        0.        ,  0.        ,  0.        ,  0.        ,  0.        ,\n",
       "        0.        ,  0.        ,  0.        ,  0.        ,  0.        ,\n",
       "        0.        ,  0.        ,  0.        ,  0.        ,  0.        ,\n",
       "        0.        ,  0.        ,  0.        ,  0.        ,  0.        ,\n",
       "        0.        ,  0.        ,  0.        ,  0.        ,  0.        ,\n",
       "        0.        ,  0.        ,  0.        ,  0.        ,  0.        ,\n",
       "        0.        ,  0.        ,  0.        ,  0.        ,  0.        ,\n",
       "        0.        ,  0.        ,  0.        ,  0.        ,  0.        ,\n",
       "        0.        ,  0.        ,  0.        ,  0.        ,  0.        ,\n",
       "        0.        ,  0.        ,  0.        ,  0.        ,  0.        ,\n",
       "        0.        ,  0.        ,  0.        ,  0.        ,  0.        ,\n",
       "        0.        ,  0.        ,  0.        ,  0.        ,  0.        ,\n",
       "        0.        ,  0.        ,  0.        ,  0.        ,  0.        ,\n",
       "        0.        ,  0.        ,  0.        ,  0.        ,  0.        ,\n",
       "        0.        ,  0.        ,  0.        ,  0.        ,  0.        ,\n",
       "        0.        ,  0.        ,  0.        ,  0.        ,  0.        ,\n",
       "        0.        ,  0.        ,  0.        ,  0.        ,  0.        ,\n",
       "        0.        ,  0.        ,  0.        ,  0.        ,  0.        ,\n",
       "        0.        ,  0.        ,  0.        ,  0.        ,  0.        ,\n",
       "        0.        ,  0.        ,  0.        ,  0.        ,  0.        ,\n",
       "        0.        ,  0.        ,  0.        ,  0.        ,  0.        ,\n",
       "        0.        ,  0.        ,  0.        ,  0.        ,  0.        ,\n",
       "        0.        ,  0.        ,  0.        ,  0.        ,  0.        ,\n",
       "        0.        ,  0.        ,  0.        ,  0.        ,  0.        ,\n",
       "        0.        ,  0.        ,  0.        ,  0.        ,  0.        ,\n",
       "        0.        ,  0.        ,  0.        ,  0.        ,  0.        ,\n",
       "        0.        ,  0.        ,  0.        ,  0.        ,  0.        ,\n",
       "        0.        ,  0.        ,  0.        ,  0.        ,  0.        ,\n",
       "        0.        ,  0.        ,  0.        ,  0.        ,  0.        ,\n",
       "        0.        ,  0.        ,  0.        ,  0.        ,  0.        ,\n",
       "        0.        ,  0.        ,  0.        ,  0.        ,  0.        ,\n",
       "        0.        ,  0.        ,  0.        ,  0.        ,  0.        ,\n",
       "        0.        ,  0.        ,  0.        ,  0.        ,  0.        ,\n",
       "        0.        ,  0.        ,  0.        ,  0.        ,  0.        ,\n",
       "        0.        ,  0.        ,  0.        ,  0.        ,  0.        ,\n",
       "        0.        ,  0.        ,  0.        ,  0.        ,  0.        ,\n",
       "        0.        ,  0.        ,  0.        ,  0.        ,  0.        ,\n",
       "        0.        ,  0.        ,  0.        ,  0.        ,  0.        ,\n",
       "        0.        ,  0.        ,  0.        ,  0.        ,  0.        ,\n",
       "        0.        ,  0.        ,  0.        ,  0.        ,  0.        ,\n",
       "        0.        ,  0.        ,  0.        ,  0.        ,  0.        ,\n",
       "        0.        ,  0.        ,  0.        ,  0.        ,  0.        ,\n",
       "        0.        ,  0.        ,  0.        ,  0.        ,  0.        ,\n",
       "        0.        ,  0.        ,  0.        ,  0.        ,  0.        ,\n",
       "        0.        ,  0.        ,  0.        ,  0.        ,  0.        ,\n",
       "        0.        ,  0.        ,  0.        ,  0.        ,  0.        ,\n",
       "        0.        ,  0.        ,  0.        ,  0.        ,  0.        ,\n",
       "        0.        ,  0.        ,  0.        ,  0.        ,  0.        ,\n",
       "        0.        ,  0.        ,  0.        ,  0.        ,  0.        ,\n",
       "        0.        ,  0.        ,  0.        ,  0.        ,  0.        ,\n",
       "        0.        ,  0.        ,  0.        ,  0.        ,  0.        ,\n",
       "        0.        ,  0.        ,  0.        ,  0.        ,  0.        ,\n",
       "        0.        ,  0.        ,  0.        ,  0.        ,  0.        ,\n",
       "        0.        ,  0.        ,  0.        ,  0.        ,  0.        ,\n",
       "        0.        ,  0.        ,  0.        ,  0.        ,  0.        ,\n",
       "        0.        ,  0.        ,  0.        ,  0.        ,  0.        ,\n",
       "        0.        ,  0.        ,  0.        ,  0.        ,  0.        ,\n",
       "        0.        ,  0.        ,  0.        ,  0.        ,  0.        ,\n",
       "        0.        ,  0.        ,  0.        ,  0.        ,  0.        ,\n",
       "        0.        ,  0.        ,  0.        ,  0.        ,  0.        ,\n",
       "        0.        ,  0.        ,  0.        ,  0.        ,  0.        ,\n",
       "        0.        ,  0.        ,  0.        ,  0.        ,  0.        ,\n",
       "        0.        ,  0.        ,  0.        ,  0.        ,  0.        ,\n",
       "        0.        ,  0.        ,  0.        ,  0.        ,  0.        ,\n",
       "        0.        ,  0.        ,  0.        ,  0.        ,  0.        ,\n",
       "        0.        ,  0.        ,  0.        ,  0.        ,  0.        ,\n",
       "        0.        ,  0.        ,  0.        ,  0.        ,  0.        ,\n",
       "        0.        ,  0.        ,  0.        ,  0.        ,  0.        ,\n",
       "        0.        ,  0.        ,  0.        ,  0.        ,  0.        ,\n",
       "        0.        ,  0.        ,  0.        ,  0.        ,  0.        ,\n",
       "        0.        ,  0.        ,  0.        ,  0.        ,  0.        ,\n",
       "        0.        ,  0.        ,  0.        ,  0.        ,  0.        ,\n",
       "        0.        ,  0.        ,  0.        ,  0.        ,  0.        ,\n",
       "        0.        ,  0.        ,  0.        ,  0.        ,  0.        ,\n",
       "        0.        ,  0.        ,  0.        ,  0.        ,  0.        ,\n",
       "        0.        ,  0.        ,  0.        ,  0.        ,  0.        ,\n",
       "        0.        ,  0.        ,  0.        ,  0.        ,  0.        ,\n",
       "        0.        ,  0.        ,  0.        ,  0.        ,  0.        ,\n",
       "        0.        ,  0.        ,  0.        ,  0.        ,  0.        ,\n",
       "        0.        ,  0.        ,  0.        ,  0.        ,  0.        ,\n",
       "        0.        ,  0.        ,  0.        ,  0.        ,  0.        ,\n",
       "        0.        ,  0.        ,  0.        ,  0.        ,  0.        ,\n",
       "        0.        ,  0.        ,  0.        ,  0.        ,  0.        ,\n",
       "        0.        ,  0.        ,  0.        ,  0.        ,  0.        ,\n",
       "        0.        ,  0.        ,  0.        ,  0.        ,  0.        ,\n",
       "        0.        ,  0.        ,  0.        ,  0.        ,  0.        ,\n",
       "        0.        ,  0.        ,  0.        ,  0.        ,  0.        ,\n",
       "        0.        ,  0.        ,  0.        ,  0.        ,  0.        ,\n",
       "        0.        ,  0.        ,  0.        ,  0.        ,  0.        ,\n",
       "        0.        ,  0.        ,  0.        ,  0.        ,  0.        ,\n",
       "        0.        ,  0.        ,  0.        ,  0.        ,  0.        ,\n",
       "        0.        ,  0.        ,  0.        ,  0.        ,  0.        ,\n",
       "        0.        ,  0.        ,  0.        ,  0.        ,  0.        ,\n",
       "        0.        ,  0.        ,  0.        ,  0.        ,  0.        ,\n",
       "        0.        ,  0.        ,  0.        ,  0.        ,  0.        ,\n",
       "        0.        ,  0.        ,  0.        ,  0.        ,  0.        ,\n",
       "        0.        ,  0.        ,  0.        ,  0.        ,  0.        ,\n",
       "        0.        ,  0.        ,  0.        ,  0.        ,  0.        ,\n",
       "        0.        ,  0.        ,  0.        ,  0.        ,  0.        ,\n",
       "        0.        ,  0.        ,  0.        ,  0.        ,  0.        ,\n",
       "        0.        ,  0.        ,  0.        ,  0.        ,  0.        ,\n",
       "        0.        ,  0.        ,  0.        ,  0.        ,  0.        ,\n",
       "        0.        ,  0.        ,  0.        ,  0.        ,  0.        ,\n",
       "        0.        ,  0.        ,  0.        ,  0.        ,  0.        ,\n",
       "        0.        ,  0.        ,  0.        ,  0.        ,  0.        ,\n",
       "        0.        ,  0.        ,  0.        ,  0.        ,  0.        ,\n",
       "        0.        ,  0.        ,  0.        ,  0.        ,  0.        ,\n",
       "        0.        ,  0.        ,  0.        ,  0.        ,  0.        ,\n",
       "        0.        ,  0.        ,  0.        ,  0.        ,  0.        ,\n",
       "        0.        ,  0.        ,  0.        ,  0.        ,  0.        ,\n",
       "        0.        ,  0.        ,  0.        ,  0.        ,  0.        ,\n",
       "        0.        ,  0.        ,  0.        ,  0.        ,  0.        ,\n",
       "        0.        ,  0.        ,  0.        ,  0.        ,  0.        ,\n",
       "        0.        ,  0.        ,  0.        ,  0.        ,  0.        ,\n",
       "        0.        ,  0.        ,  0.        ,  0.        ,  0.        ,\n",
       "        0.        ,  0.        ,  0.        ,  0.        ,  0.        ,\n",
       "        0.        ,  0.        ,  0.        ,  0.        ,  0.        ,\n",
       "        0.        ,  0.        ,  0.        ,  0.        ,  0.        ,\n",
       "        0.        ,  0.        ,  0.        ,  0.        ,  0.        ,\n",
       "        0.        ,  0.        ,  0.        ,  0.        ,  0.        ,\n",
       "        0.        ,  0.        ,  0.        ,  0.        ,  0.        ,\n",
       "        0.        ,  0.        ,  0.        ,  0.        ,  0.        ,\n",
       "        0.        ,  0.        ,  0.        ,  0.        ,  0.        ,\n",
       "        0.        ,  0.        ,  0.        ,  0.        ,  0.        ,\n",
       "        0.        ,  0.        ,  0.        ,  0.        ,  0.        ,\n",
       "        0.        ,  0.        ,  0.        ,  0.        ,  0.        ,\n",
       "        0.        ,  0.        ,  0.        ,  0.        ,  0.        ,\n",
       "        0.        ,  0.        ,  0.        ,  0.        ,  0.        ,\n",
       "        0.        ,  0.        ,  0.        ,  0.        ,  0.        ,\n",
       "        0.        ,  0.        ,  0.        ,  0.        ,  0.        ,\n",
       "        0.        ,  0.        ,  0.        ,  0.        ,  0.        ,\n",
       "        0.        ,  0.        ,  0.        ,  0.        ,  0.        ,\n",
       "        0.        ,  0.        ,  0.        ,  0.        ,  0.        ,\n",
       "        0.        ,  0.        ,  0.        ,  0.        ,  0.        ])"
      ]
     },
     "execution_count": 100,
     "metadata": {},
     "output_type": "execute_result"
    }
   ],
   "source": [
    "a = caget('2idsft:scan1.P1PA')\n",
    "a"
   ]
  },
  {
   "cell_type": "code",
   "execution_count": 97,
   "metadata": {},
   "outputs": [],
   "source": [
    "t =np.linspace(-0.5, 0.5, 20)"
   ]
  },
  {
   "cell_type": "code",
   "execution_count": 98,
   "metadata": {},
   "outputs": [
    {
     "data": {
      "text/plain": [
       "1"
      ]
     },
     "execution_count": 98,
     "metadata": {},
     "output_type": "execute_result"
    }
   ],
   "source": [
    "caput('2idsft:scan1.P1PA', t)"
   ]
  },
  {
   "cell_type": "code",
   "execution_count": 99,
   "metadata": {},
   "outputs": [
    {
     "data": {
      "text/plain": [
       "1"
      ]
     },
     "execution_count": 99,
     "metadata": {},
     "output_type": "execute_result"
    }
   ],
   "source": [
    "caput('2idsft:scan1.P2PA', t)"
   ]
  },
  {
   "cell_type": "code",
   "execution_count": 90,
   "metadata": {},
   "outputs": [
    {
     "data": {
      "text/plain": [
       "EpicsSignal(read_pv='2idsft:scan1.PDLY', name='scan1_positioner_delay', parent='scan1', value=0.10000000149011612, timestamp=631152000.0, tolerance=0.001, auto_monitor=True, string=False, write_pv='2idsft:scan1.PDLY', limits=False, put_complete=False)"
      ]
     },
     "execution_count": 90,
     "metadata": {},
     "output_type": "execute_result"
    }
   ],
   "source": [
    "scan1.positioner_delay"
   ]
  },
  {
   "cell_type": "code",
   "execution_count": 102,
   "metadata": {},
   "outputs": [
    {
     "data": {
      "text/plain": [
       "(20,)"
      ]
     },
     "execution_count": 102,
     "metadata": {},
     "output_type": "execute_result"
    }
   ],
   "source": [
    "t.shape"
   ]
  },
  {
   "cell_type": "code",
   "execution_count": 103,
   "metadata": {},
   "outputs": [
    {
     "data": {
      "text/plain": [
       "(20, 20)"
      ]
     },
     "execution_count": 103,
     "metadata": {},
     "output_type": "execute_result"
    }
   ],
   "source": [
    "xx, yy = np.meshgrid(t,t)\n",
    "xx."
   ]
  },
  {
   "cell_type": "code",
   "execution_count": 104,
   "metadata": {},
   "outputs": [
    {
     "data": {
      "text/plain": [
       "(400,)"
      ]
     },
     "execution_count": 104,
     "metadata": {},
     "output_type": "execute_result"
    }
   ],
   "source": [
    "xx.flatten().shape"
   ]
  },
  {
   "cell_type": "code",
   "execution_count": null,
   "metadata": {},
   "outputs": [],
   "source": [
    " "
   ]
  }
 ],
 "metadata": {
  "kernelspec": {
   "display_name": "Python 3 (ipykernel)",
   "language": "python",
   "name": "python3"
  },
  "language_info": {
   "codemirror_mode": {
    "name": "ipython",
    "version": 3
   },
   "file_extension": ".py",
   "mimetype": "text/x-python",
   "name": "python",
   "nbconvert_exporter": "python",
   "pygments_lexer": "ipython3",
   "version": "3.11.8"
  }
 },
 "nbformat": 4,
 "nbformat_minor": 4
}
