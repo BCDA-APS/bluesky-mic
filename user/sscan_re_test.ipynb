{
 "cells": [
  {
   "cell_type": "code",
   "execution_count": 2,
   "metadata": {},
   "outputs": [],
   "source": [
    "import bluesky\n",
    "import bluesky.plan_stubs as bps\n",
    "from apstools.synApps import SscanRecord\n",
    "from ophyd import EpicsMotor\n",
    "from apstools.plans import run_blocking_function\n",
    "from ophyd.status import Status\n"
   ]
  },
  {
   "cell_type": "code",
   "execution_count": 3,
   "metadata": {},
   "outputs": [],
   "source": [
    "IOC = \"2idsft:\"\n",
    "scan1 = SscanRecord(f\"{IOC}scan1\", name=\"scan1\")\n",
    "scan1.wait_for_connection()"
   ]
  },
  {
   "cell_type": "code",
   "execution_count": 6,
   "metadata": {},
   "outputs": [
    {
     "data": {
      "text/plain": [
       "''"
      ]
     },
     "execution_count": 6,
     "metadata": {},
     "output_type": "execute_result"
    }
   ],
   "source": [
    "scan1.attr_name"
   ]
  },
  {
   "cell_type": "code",
   "execution_count": 14,
   "metadata": {},
   "outputs": [],
   "source": [
    "m_prefix = \"2idbtst:\"\n",
    "m1 = EpicsMotor(f\"{m_prefix}m1\", name=\"m1\")\n",
    "m1.wait_for_connection()"
   ]
  },
  {
   "cell_type": "code",
   "execution_count": 12,
   "metadata": {},
   "outputs": [],
   "source": [
    "def setup_scan1(m1, start, finish, npts, ct=1):\n",
    "    # yield from bps.mv(scaler1.preset_time, ct)  # counting time/point\n",
    "    yield from run_blocking_function(scan1.reset)\n",
    "    yield from bps.sleep(0.2)  # arbitrary wait for EPICS to finish the reset.\n",
    "\n",
    "    # positioners\n",
    "    yield from bps.mv(\n",
    "        scan1.number_points, npts,\n",
    "        scan1.positioners.p1.start, start,\n",
    "        scan1.positioners.p1.end, finish,\n",
    "        scan1.positioners.p1.readback_pv, m1.user_readback.pvname,\n",
    "        scan1.positioners.p1.setpoint_pv, m1.user_setpoint.pvname,\n",
    "    )\n",
    "    # # triggers (push scaler count button at each point)\n",
    "    # yield from bps.mv(\n",
    "    #     scan1.triggers.t1.trigger_pv, scaler1.count.pvname,\n",
    "    # )\n",
    "    # # detectors\n",
    "    # yield from bps.mv(\n",
    "    #     scan1.detectors.d01.input_pv, I0.pvname,\n",
    "    #     scan1.detectors.d02.input_pv, diode.pvname,\n",
    "    # )"
   ]
  },
  {
   "cell_type": "code",
   "execution_count": null,
   "metadata": {},
   "outputs": [],
   "source": [
    "def setup_scan1_2D(m1, start, finish, m2, s2, f2, p2, ct=1):\n",
    "    # yield from bps.mv(scaler1.preset_time, ct)  # counting time/point\n",
    "    yield from run_blocking_function(scan1.reset)\n",
    "    yield from bps.sleep(0.2)  # arbitrary wait for EPICS to finish the reset.\n",
    "\n",
    "    # positioners\n",
    "    yield from bps.mv(\n",
    "        scan1.number_points, npts,\n",
    "        scan1.positioners.p1.start, start,\n",
    "        scan1.positioners.p1.end, finish,\n",
    "        scan1.positioners.p1.readback_pv, m1.user_readback.pvname,\n",
    "        scan1.positioners.p1.setpoint_pv, m1.user_setpoint.pvname,\n",
    "    )\n",
    "    # # triggers (push scaler count button at each point)\n",
    "    # yield from bps.mv(\n",
    "    #     scan1.triggers.t1.trigger_pv, scaler1.count.pvname,\n",
    "    # )\n",
    "    # # detectors\n",
    "    # yield from bps.mv(\n",
    "    #     scan1.detectors.d01.input_pv, I0.pvname,\n",
    "    #     scan1.detectors.d02.input_pv, diode.pvname,\n",
    "    # )"
   ]
  },
  {
   "cell_type": "code",
   "execution_count": 15,
   "metadata": {},
   "outputs": [],
   "source": [
    "def run_sscan():\n",
    "    # Create an instance of the Status object.\n",
    "    # If it is not marked as finished within 20s, it will raise a timeout exception.\n",
    "    st = Status(timeout=20)\n",
    "\n",
    "    def watch_execute_scan(old_value, value, **kwargs):\n",
    "        # Watch for scan1.EXSC to change from 1 to 0 (when the scan ends).\n",
    "        if old_value == 1 and value == 0:\n",
    "            # mark as finished (successfully).\n",
    "            st.set_finished()\n",
    "            # Remove the subscription.\n",
    "            scan1.execute_scan.clear_sub(watch_execute_scan)\n",
    "\n",
    "    yield from bps.mv(scan1.execute_scan, 1)\n",
    "    scan1.execute_scan.subscribe(watch_execute_scan)\n",
    "    yield from run_blocking_function(st.wait)"
   ]
  },
  {
   "cell_type": "code",
   "execution_count": 2,
   "metadata": {},
   "outputs": [
    {
     "ename": "ModuleNotFoundError",
     "evalue": "No module named 'bluesky.run_engine.RunEngine'; 'bluesky.run_engine' is not a package",
     "output_type": "error",
     "traceback": [
      "\u001b[0;31m---------------------------------------------------------------------------\u001b[0m",
      "\u001b[0;31mModuleNotFoundError\u001b[0m                       Traceback (most recent call last)",
      "Cell \u001b[0;32mIn[2], line 2\u001b[0m\n\u001b[1;32m      1\u001b[0m \u001b[38;5;66;03m# RE = bluesky.RunEngine()\u001b[39;00m\n\u001b[0;32m----> 2\u001b[0m \u001b[38;5;28;01mimport\u001b[39;00m \u001b[38;5;21;01mbluesky\u001b[39;00m\u001b[38;5;21;01m.\u001b[39;00m\u001b[38;5;21;01mrun_engine\u001b[39;00m\u001b[38;5;21;01m.\u001b[39;00m\u001b[38;5;21;01mRunEngine\u001b[39;00m \u001b[38;5;28;01mas\u001b[39;00m \u001b[38;5;21;01mRE\u001b[39;00m\n\u001b[1;32m      3\u001b[0m a \u001b[38;5;241m=\u001b[39m RE(setup_scan1(m1, \u001b[38;5;241m-\u001b[39m\u001b[38;5;241m0.5\u001b[39m, \u001b[38;5;241m0.5\u001b[39m, \u001b[38;5;241m100\u001b[39m))\n",
      "\u001b[0;31mModuleNotFoundError\u001b[0m: No module named 'bluesky.run_engine.RunEngine'; 'bluesky.run_engine' is not a package"
     ]
    }
   ],
   "source": [
    "# RE = bluesky.RunEngine()\n",
    "# RE = bluesky.RunEngine()\n",
    "a = RE(setup_scan1(m1, -0.5, 0.5, 100))"
   ]
  },
  {
   "cell_type": "code",
   "execution_count": 34,
   "metadata": {},
   "outputs": [],
   "source": [
    "# Run scan\n",
    "j = RE(run_sscan())"
   ]
  },
  {
   "cell_type": "code",
   "execution_count": 31,
   "metadata": {},
   "outputs": [],
   "source": [
    "# This command interacts with pv via ophyd directly, without bluesky RE\n",
    "scan1.execute_scan.value = 1"
   ]
  },
  {
   "cell_type": "code",
   "execution_count": 14,
   "metadata": {},
   "outputs": [
    {
     "data": {
      "text/plain": [
       "'2idsft:scan1.NPTS'"
      ]
     },
     "execution_count": 14,
     "metadata": {},
     "output_type": "execute_result"
    }
   ],
   "source": [
    "scan1.number_points.pvname"
   ]
  },
  {
   "cell_type": "code",
   "execution_count": 7,
   "metadata": {},
   "outputs": [],
   "source": [
    "from ophyd import Signal"
   ]
  },
  {
   "cell_type": "code",
   "execution_count": 39,
   "metadata": {},
   "outputs": [],
   "source": [
    "scan_npts = Signal(name='2idsft:scan1.NPTS')"
   ]
  },
  {
   "cell_type": "code",
   "execution_count": 27,
   "metadata": {},
   "outputs": [
    {
     "name": "stdout",
     "output_type": "stream",
     "text": [
      "1\n",
      "1\n"
     ]
    }
   ],
   "source": [
    "print(scan1.number_points.value)\n",
    "scan_npts.put = 100\n",
    "print(scan1.number_points.value)"
   ]
  },
  {
   "cell_type": "markdown",
   "metadata": {},
   "source": []
  },
  {
   "cell_type": "code",
   "execution_count": 19,
   "metadata": {},
   "outputs": [
    {
     "data": {
      "text/plain": [
       "ophyd.signal.Signal"
      ]
     },
     "execution_count": 19,
     "metadata": {},
     "output_type": "execute_result"
    }
   ],
   "source": [
    "type(scan_npts)"
   ]
  },
  {
   "cell_type": "code",
   "execution_count": 28,
   "metadata": {},
   "outputs": [],
   "source": [
    "scan1.number_points.value = 100"
   ]
  },
  {
   "cell_type": "code",
   "execution_count": 40,
   "metadata": {},
   "outputs": [
    {
     "data": {
      "text/plain": [
       "<bound method Signal.get of Signal(name='2idsft:scan1.NPTS', value=0.0, timestamp=1713302585.1919556)>"
      ]
     },
     "execution_count": 40,
     "metadata": {},
     "output_type": "execute_result"
    },
    {
     "name": "stderr",
     "output_type": "stream",
     "text": [
      "CA.Client.Exception...............................................\n",
      "    Warning: \"Virtual circuit disconnect\"\n",
      "    Context: \"2iddxspress3.xray.aps.anl.gov:44487\"\n",
      "    Source File: ../cac.cpp line 1238\n",
      "    Current Time: Tue Apr 16 2024 16:43:03.154788457\n",
      "..................................................................\n"
     ]
    }
   ],
   "source": [
    "scan_npts.get"
   ]
  },
  {
   "cell_type": "code",
   "execution_count": 48,
   "metadata": {},
   "outputs": [],
   "source": [
    "scan1.positioners.p1.value = '2idsft:m2'"
   ]
  },
  {
   "cell_type": "code",
   "execution_count": 49,
   "metadata": {},
   "outputs": [],
   "source": [
    "import numpy as np"
   ]
  },
  {
   "cell_type": "code",
   "execution_count": 79,
   "metadata": {},
   "outputs": [],
   "source": [
    "t =np.linspace(-0.5, 0.5, 2000)"
   ]
  },
  {
   "cell_type": "code",
   "execution_count": 70,
   "metadata": {},
   "outputs": [
    {
     "data": {
      "text/plain": [
       "array([-0.5       , -0.44736842, -0.39473684, -0.34210526, -0.28947368,\n",
       "       -0.23684211, -0.18421053, -0.13157895, -0.07894737, -0.02631579,\n",
       "        0.02631579,  0.07894737,  0.13157895,  0.18421053,  0.23684211,\n",
       "        0.28947368,  0.34210526,  0.39473684,  0.44736842,  0.5       ])"
      ]
     },
     "execution_count": 70,
     "metadata": {},
     "output_type": "execute_result"
    }
   ],
   "source": [
    "t"
   ]
  },
  {
   "cell_type": "code",
   "execution_count": 68,
   "metadata": {},
   "outputs": [
    {
     "data": {
      "text/plain": [
       "Positioners(prefix='2idsft:scan1', name='scan1_positioners', parent='scan1', read_attrs=['p1', 'p1.readback_value', 'p1.array', 'p1.setpoint_value', 'p2', 'p2.readback_value', 'p2.array', 'p2.setpoint_value', 'p3', 'p3.readback_value', 'p3.array', 'p3.setpoint_value', 'p4', 'p4.readback_value', 'p4.array', 'p4.setpoint_value'], configuration_attrs=['p1', 'p1.readback_pv', 'p1.setpoint_pv', 'p1.start', 'p1.center', 'p1.end', 'p1.step_size', 'p1.width', 'p1.abs_rel', 'p1.mode', 'p1.units', 'p2', 'p2.readback_pv', 'p2.setpoint_pv', 'p2.start', 'p2.center', 'p2.end', 'p2.step_size', 'p2.width', 'p2.abs_rel', 'p2.mode', 'p2.units', 'p3', 'p3.readback_pv', 'p3.setpoint_pv', 'p3.start', 'p3.center', 'p3.end', 'p3.step_size', 'p3.width', 'p3.abs_rel', 'p3.mode', 'p3.units', 'p4', 'p4.readback_pv', 'p4.setpoint_pv', 'p4.start', 'p4.center', 'p4.end', 'p4.step_size', 'p4.width', 'p4.abs_rel', 'p4.mode', 'p4.units'])"
      ]
     },
     "execution_count": 68,
     "metadata": {},
     "output_type": "execute_result"
    }
   ],
   "source": [
    "scan1.positioners"
   ]
  },
  {
   "cell_type": "code",
   "execution_count": 87,
   "metadata": {},
   "outputs": [
    {
     "data": {
      "text/plain": [
       "['OphydAttrList',\n",
       " 'SUB_ACQ_DONE',\n",
       " '_Device__set_kinds_according_to_list',\n",
       " '_OphydObject__any_instantiated',\n",
       " '_OphydObject__instantiation_callbacks',\n",
       " '_OphydObject__register_instance',\n",
       " '__annotations__',\n",
       " '__class__',\n",
       " '__copy__',\n",
       " '__delattr__',\n",
       " '__dict__',\n",
       " '__dir__',\n",
       " '__doc__',\n",
       " '__eq__',\n",
       " '__format__',\n",
       " '__ge__',\n",
       " '__getattr__',\n",
       " '__getattribute__',\n",
       " '__getnewargs_ex__',\n",
       " '__getstate__',\n",
       " '__gt__',\n",
       " '__hash__',\n",
       " '__init__',\n",
       " '__init_subclass__',\n",
       " '__le__',\n",
       " '__lt__',\n",
       " '__module__',\n",
       " '__ne__',\n",
       " '__new__',\n",
       " '__reduce__',\n",
       " '__reduce_ex__',\n",
       " '__repr__',\n",
       " '__setattr__',\n",
       " '__sizeof__',\n",
       " '__str__',\n",
       " '__subclasshook__',\n",
       " '__weakref__',\n",
       " '_args_cache',\n",
       " '_attr_name',\n",
       " '_callbacks',\n",
       " '_cb_count',\n",
       " '_cid_to_event_mapping',\n",
       " '_component_kinds',\n",
       " '_default_configuration_attrs',\n",
       " '_default_read_attrs',\n",
       " '_default_sub',\n",
       " '_destroyed',\n",
       " '_device_tuple',\n",
       " '_done_acquiring',\n",
       " '_get_components_of_kind',\n",
       " '_get_kind',\n",
       " '_initialize_device',\n",
       " '_instantiate_component',\n",
       " '_kind',\n",
       " '_mark_as_instantiated',\n",
       " '_name',\n",
       " '_ophyd_labels_',\n",
       " '_original_vals',\n",
       " '_parent',\n",
       " '_repr_info',\n",
       " '_required_for_connection',\n",
       " '_reset_sub',\n",
       " '_run_subs',\n",
       " '_set_kind',\n",
       " '_sig_attrs',\n",
       " '_signals',\n",
       " '_staged',\n",
       " '_sub_devices',\n",
       " '_summary',\n",
       " '_unwrapped_callbacks',\n",
       " '_validate_kind',\n",
       " 'a1cd',\n",
       " 'a1nv',\n",
       " 'a1pv',\n",
       " 'acqm',\n",
       " 'acqt',\n",
       " 'add_instantiation_callback',\n",
       " 'alert_flag',\n",
       " 'alert_message',\n",
       " 'ascd',\n",
       " 'aspv',\n",
       " 'atime',\n",
       " 'attr_name',\n",
       " 'awct',\n",
       " 'bscd',\n",
       " 'bspv',\n",
       " 'bswait',\n",
       " 'check_value',\n",
       " 'clear_sub',\n",
       " 'cmnd',\n",
       " 'component_names',\n",
       " 'configuration_attrs',\n",
       " 'configure',\n",
       " 'connected',\n",
       " 'control_layer_log',\n",
       " 'copyto',\n",
       " 'current_point',\n",
       " 'data_ready',\n",
       " 'data_state',\n",
       " 'defined_in_EPICS',\n",
       " 'desc',\n",
       " 'describe',\n",
       " 'describe_configuration',\n",
       " 'destroy',\n",
       " 'detector_delay',\n",
       " 'detectors',\n",
       " 'dotted_name',\n",
       " 'event_types',\n",
       " 'execute_scan',\n",
       " 'get',\n",
       " 'get_device_tuple',\n",
       " 'get_instantiated_signals',\n",
       " 'hints',\n",
       " 'kind',\n",
       " 'lazy_wait_for_connection',\n",
       " 'log',\n",
       " 'maximum_number_points',\n",
       " 'name',\n",
       " 'number_points',\n",
       " 'parent',\n",
       " 'pasm',\n",
       " 'pause',\n",
       " 'positioner_delay',\n",
       " 'positioners',\n",
       " 'prefix',\n",
       " 'put',\n",
       " 'read',\n",
       " 'read_attrs',\n",
       " 'read_configuration',\n",
       " 'reference_detector',\n",
       " 'report',\n",
       " 'reset',\n",
       " 'resume',\n",
       " 'root',\n",
       " 'scan_busy',\n",
       " 'scan_phase',\n",
       " 'select_channels',\n",
       " 'set',\n",
       " 'signal_names',\n",
       " 'stage',\n",
       " 'stage_sigs',\n",
       " 'stop',\n",
       " 'subscribe',\n",
       " 'subscriptions',\n",
       " 'summary',\n",
       " 'trigger',\n",
       " 'trigger_signals',\n",
       " 'triggers',\n",
       " 'unstage',\n",
       " 'unsubscribe',\n",
       " 'unsubscribe_all',\n",
       " 'wait',\n",
       " 'wait_for_connection',\n",
       " 'walk_components',\n",
       " 'walk_signals',\n",
       " 'walk_subdevice_classes',\n",
       " 'walk_subdevices',\n",
       " 'wcnt']"
      ]
     },
     "execution_count": 87,
     "metadata": {},
     "output_type": "execute_result"
    }
   ],
   "source": [
    "dir(scan1)"
   ]
  },
  {
   "cell_type": "code",
   "execution_count": 75,
   "metadata": {},
   "outputs": [],
   "source": [
    "from epics import caget, caput"
   ]
  },
  {
   "cell_type": "code",
   "execution_count": 100,
   "metadata": {},
   "outputs": [
    {
     "data": {
      "text/plain": [
       "array([-0.5       , -0.44736842, -0.39473684, -0.34210526, -0.28947368,\n",
       "       -0.23684211, -0.18421053, -0.13157895, -0.07894737, -0.02631579,\n",
       "        0.02631579,  0.07894737,  0.13157895,  0.18421053,  0.23684211,\n",
       "        0.28947368,  0.34210526,  0.39473684,  0.44736842,  0.5       ,\n",
       "        0.        ,  0.        ,  0.        ,  0.        ,  0.        ,\n",
       "        0.        ,  0.        ,  0.        ,  0.        ,  0.        ,\n",
       "        0.        ,  0.        ,  0.        ,  0.        ,  0.        ,\n",
       "        0.        ,  0.        ,  0.        ,  0.        ,  0.        ,\n",
       "        0.        ,  0.        ,  0.        ,  0.        ,  0.        ,\n",
       "        0.        ,  0.        ,  0.        ,  0.        ,  0.        ,\n",
       "        0.        ,  0.        ,  0.        ,  0.        ,  0.        ,\n",
       "        0.        ,  0.        ,  0.        ,  0.        ,  0.        ,\n",
       "        0.        ,  0.        ,  0.        ,  0.        ,  0.        ,\n",
       "        0.        ,  0.        ,  0.        ,  0.        ,  0.        ,\n",
       "        0.        ,  0.        ,  0.        ,  0.        ,  0.        ,\n",
       "        0.        ,  0.        ,  0.        ,  0.        ,  0.        ,\n",
       "        0.        ,  0.        ,  0.        ,  0.        ,  0.        ,\n",
       "        0.        ,  0.        ,  0.        ,  0.        ,  0.        ,\n",
       "        0.        ,  0.        ,  0.        ,  0.        ,  0.        ,\n",
       "        0.        ,  0.        ,  0.        ,  0.        ,  0.        ,\n",
       "        0.        ,  0.        ,  0.        ,  0.        ,  0.        ,\n",
       "        0.        ,  0.        ,  0.        ,  0.        ,  0.        ,\n",
       "        0.        ,  0.        ,  0.        ,  0.        ,  0.        ,\n",
       "        0.        ,  0.        ,  0.        ,  0.        ,  0.        ,\n",
       "        0.        ,  0.        ,  0.        ,  0.        ,  0.        ,\n",
       "        0.        ,  0.        ,  0.        ,  0.        ,  0.        ,\n",
       "        0.        ,  0.        ,  0.        ,  0.        ,  0.        ,\n",
       "        0.        ,  0.        ,  0.        ,  0.        ,  0.        ,\n",
       "        0.        ,  0.        ,  0.        ,  0.        ,  0.        ,\n",
       "        0.        ,  0.        ,  0.        ,  0.        ,  0.        ,\n",
       "        0.        ,  0.        ,  0.        ,  0.        ,  0.        ,\n",
       "        0.        ,  0.        ,  0.        ,  0.        ,  0.        ,\n",
       "        0.        ,  0.        ,  0.        ,  0.        ,  0.        ,\n",
       "        0.        ,  0.        ,  0.        ,  0.        ,  0.        ,\n",
       "        0.        ,  0.        ,  0.        ,  0.        ,  0.        ,\n",
       "        0.        ,  0.        ,  0.        ,  0.        ,  0.        ,\n",
       "        0.        ,  0.        ,  0.        ,  0.        ,  0.        ,\n",
       "        0.        ,  0.        ,  0.        ,  0.        ,  0.        ,\n",
       "        0.        ,  0.        ,  0.        ,  0.        ,  0.        ,\n",
       "        0.        ,  0.        ,  0.        ,  0.        ,  0.        ,\n",
       "        0.        ,  0.        ,  0.        ,  0.        ,  0.        ,\n",
       "        0.        ,  0.        ,  0.        ,  0.        ,  0.        ,\n",
       "        0.        ,  0.        ,  0.        ,  0.        ,  0.        ,\n",
       "        0.        ,  0.        ,  0.        ,  0.        ,  0.        ,\n",
       "        0.        ,  0.        ,  0.        ,  0.        ,  0.        ,\n",
       "        0.        ,  0.        ,  0.        ,  0.        ,  0.        ,\n",
       "        0.        ,  0.        ,  0.        ,  0.        ,  0.        ,\n",
       "        0.        ,  0.        ,  0.        ,  0.        ,  0.        ,\n",
       "        0.        ,  0.        ,  0.        ,  0.        ,  0.        ,\n",
       "        0.        ,  0.        ,  0.        ,  0.        ,  0.        ,\n",
       "        0.        ,  0.        ,  0.        ,  0.        ,  0.        ,\n",
       "        0.        ,  0.        ,  0.        ,  0.        ,  0.        ,\n",
       "        0.        ,  0.        ,  0.        ,  0.        ,  0.        ,\n",
       "        0.        ,  0.        ,  0.        ,  0.        ,  0.        ,\n",
       "        0.        ,  0.        ,  0.        ,  0.        ,  0.        ,\n",
       "        0.        ,  0.        ,  0.        ,  0.        ,  0.        ,\n",
       "        0.        ,  0.        ,  0.        ,  0.        ,  0.        ,\n",
       "        0.        ,  0.        ,  0.        ,  0.        ,  0.        ,\n",
       "        0.        ,  0.        ,  0.        ,  0.        ,  0.        ,\n",
       "        0.        ,  0.        ,  0.        ,  0.        ,  0.        ,\n",
       "        0.        ,  0.        ,  0.        ,  0.        ,  0.        ,\n",
       "        0.        ,  0.        ,  0.        ,  0.        ,  0.        ,\n",
       "        0.        ,  0.        ,  0.        ,  0.        ,  0.        ,\n",
       "        0.        ,  0.        ,  0.        ,  0.        ,  0.        ,\n",
       "        0.        ,  0.        ,  0.        ,  0.        ,  0.        ,\n",
       "        0.        ,  0.        ,  0.        ,  0.        ,  0.        ,\n",
       "        0.        ,  0.        ,  0.        ,  0.        ,  0.        ,\n",
       "        0.        ,  0.        ,  0.        ,  0.        ,  0.        ,\n",
       "        0.        ,  0.        ,  0.        ,  0.        ,  0.        ,\n",
       "        0.        ,  0.        ,  0.        ,  0.        ,  0.        ,\n",
       "        0.        ,  0.        ,  0.        ,  0.        ,  0.        ,\n",
       "        0.        ,  0.        ,  0.        ,  0.        ,  0.        ,\n",
       "        0.        ,  0.        ,  0.        ,  0.        ,  0.        ,\n",
       "        0.        ,  0.        ,  0.        ,  0.        ,  0.        ,\n",
       "        0.        ,  0.        ,  0.        ,  0.        ,  0.        ,\n",
       "        0.        ,  0.        ,  0.        ,  0.        ,  0.        ,\n",
       "        0.        ,  0.        ,  0.        ,  0.        ,  0.        ,\n",
       "        0.        ,  0.        ,  0.        ,  0.        ,  0.        ,\n",
       "        0.        ,  0.        ,  0.        ,  0.        ,  0.        ,\n",
       "        0.        ,  0.        ,  0.        ,  0.        ,  0.        ,\n",
       "        0.        ,  0.        ,  0.        ,  0.        ,  0.        ,\n",
       "        0.        ,  0.        ,  0.        ,  0.        ,  0.        ,\n",
       "        0.        ,  0.        ,  0.        ,  0.        ,  0.        ,\n",
       "        0.        ,  0.        ,  0.        ,  0.        ,  0.        ,\n",
       "        0.        ,  0.        ,  0.        ,  0.        ,  0.        ,\n",
       "        0.        ,  0.        ,  0.        ,  0.        ,  0.        ,\n",
       "        0.        ,  0.        ,  0.        ,  0.        ,  0.        ,\n",
       "        0.        ,  0.        ,  0.        ,  0.        ,  0.        ,\n",
       "        0.        ,  0.        ,  0.        ,  0.        ,  0.        ,\n",
       "        0.        ,  0.        ,  0.        ,  0.        ,  0.        ,\n",
       "        0.        ,  0.        ,  0.        ,  0.        ,  0.        ,\n",
       "        0.        ,  0.        ,  0.        ,  0.        ,  0.        ,\n",
       "        0.        ,  0.        ,  0.        ,  0.        ,  0.        ,\n",
       "        0.        ,  0.        ,  0.        ,  0.        ,  0.        ,\n",
       "        0.        ,  0.        ,  0.        ,  0.        ,  0.        ,\n",
       "        0.        ,  0.        ,  0.        ,  0.        ,  0.        ,\n",
       "        0.        ,  0.        ,  0.        ,  0.        ,  0.        ,\n",
       "        0.        ,  0.        ,  0.        ,  0.        ,  0.        ,\n",
       "        0.        ,  0.        ,  0.        ,  0.        ,  0.        ,\n",
       "        0.        ,  0.        ,  0.        ,  0.        ,  0.        ,\n",
       "        0.        ,  0.        ,  0.        ,  0.        ,  0.        ,\n",
       "        0.        ,  0.        ,  0.        ,  0.        ,  0.        ,\n",
       "        0.        ,  0.        ,  0.        ,  0.        ,  0.        ,\n",
       "        0.        ,  0.        ,  0.        ,  0.        ,  0.        ,\n",
       "        0.        ,  0.        ,  0.        ,  0.        ,  0.        ,\n",
       "        0.        ,  0.        ,  0.        ,  0.        ,  0.        ,\n",
       "        0.        ,  0.        ,  0.        ,  0.        ,  0.        ,\n",
       "        0.        ,  0.        ,  0.        ,  0.        ,  0.        ,\n",
       "        0.        ,  0.        ,  0.        ,  0.        ,  0.        ,\n",
       "        0.        ,  0.        ,  0.        ,  0.        ,  0.        ,\n",
       "        0.        ,  0.        ,  0.        ,  0.        ,  0.        ,\n",
       "        0.        ,  0.        ,  0.        ,  0.        ,  0.        ,\n",
       "        0.        ,  0.        ,  0.        ,  0.        ,  0.        ,\n",
       "        0.        ,  0.        ,  0.        ,  0.        ,  0.        ,\n",
       "        0.        ,  0.        ,  0.        ,  0.        ,  0.        ,\n",
       "        0.        ,  0.        ,  0.        ,  0.        ,  0.        ,\n",
       "        0.        ,  0.        ,  0.        ,  0.        ,  0.        ,\n",
       "        0.        ,  0.        ,  0.        ,  0.        ,  0.        ,\n",
       "        0.        ,  0.        ,  0.        ,  0.        ,  0.        ,\n",
       "        0.        ,  0.        ,  0.        ,  0.        ,  0.        ,\n",
       "        0.        ,  0.        ,  0.        ,  0.        ,  0.        ,\n",
       "        0.        ,  0.        ,  0.        ,  0.        ,  0.        ,\n",
       "        0.        ,  0.        ,  0.        ,  0.        ,  0.        ,\n",
       "        0.        ,  0.        ,  0.        ,  0.        ,  0.        ,\n",
       "        0.        ,  0.        ,  0.        ,  0.        ,  0.        ,\n",
       "        0.        ,  0.        ,  0.        ,  0.        ,  0.        ,\n",
       "        0.        ,  0.        ,  0.        ,  0.        ,  0.        ,\n",
       "        0.        ,  0.        ,  0.        ,  0.        ,  0.        ,\n",
       "        0.        ,  0.        ,  0.        ,  0.        ,  0.        ,\n",
       "        0.        ,  0.        ,  0.        ,  0.        ,  0.        ,\n",
       "        0.        ,  0.        ,  0.        ,  0.        ,  0.        ,\n",
       "        0.        ,  0.        ,  0.        ,  0.        ,  0.        ,\n",
       "        0.        ,  0.        ,  0.        ,  0.        ,  0.        ,\n",
       "        0.        ,  0.        ,  0.        ,  0.        ,  0.        ,\n",
       "        0.        ,  0.        ,  0.        ,  0.        ,  0.        ,\n",
       "        0.        ,  0.        ,  0.        ,  0.        ,  0.        ,\n",
       "        0.        ,  0.        ,  0.        ,  0.        ,  0.        ,\n",
       "        0.        ,  0.        ,  0.        ,  0.        ,  0.        ,\n",
       "        0.        ,  0.        ,  0.        ,  0.        ,  0.        ,\n",
       "        0.        ,  0.        ,  0.        ,  0.        ,  0.        ,\n",
       "        0.        ,  0.        ,  0.        ,  0.        ,  0.        ,\n",
       "        0.        ,  0.        ,  0.        ,  0.        ,  0.        ,\n",
       "        0.        ,  0.        ,  0.        ,  0.        ,  0.        ,\n",
       "        0.        ,  0.        ,  0.        ,  0.        ,  0.        ,\n",
       "        0.        ,  0.        ,  0.        ,  0.        ,  0.        ,\n",
       "        0.        ,  0.        ,  0.        ,  0.        ,  0.        ,\n",
       "        0.        ,  0.        ,  0.        ,  0.        ,  0.        ,\n",
       "        0.        ,  0.        ,  0.        ,  0.        ,  0.        ,\n",
       "        0.        ,  0.        ,  0.        ,  0.        ,  0.        ,\n",
       "        0.        ,  0.        ,  0.        ,  0.        ,  0.        ,\n",
       "        0.        ,  0.        ,  0.        ,  0.        ,  0.        ,\n",
       "        0.        ,  0.        ,  0.        ,  0.        ,  0.        ,\n",
       "        0.        ,  0.        ,  0.        ,  0.        ,  0.        ,\n",
       "        0.        ,  0.        ,  0.        ,  0.        ,  0.        ,\n",
       "        0.        ,  0.        ,  0.        ,  0.        ,  0.        ,\n",
       "        0.        ,  0.        ,  0.        ,  0.        ,  0.        ,\n",
       "        0.        ,  0.        ,  0.        ,  0.        ,  0.        ,\n",
       "        0.        ,  0.        ,  0.        ,  0.        ,  0.        ,\n",
       "        0.        ,  0.        ,  0.        ,  0.        ,  0.        ,\n",
       "        0.        ,  0.        ,  0.        ,  0.        ,  0.        ,\n",
       "        0.        ,  0.        ,  0.        ,  0.        ,  0.        ,\n",
       "        0.        ,  0.        ,  0.        ,  0.        ,  0.        ,\n",
       "        0.        ,  0.        ,  0.        ,  0.        ,  0.        ,\n",
       "        0.        ,  0.        ,  0.        ,  0.        ,  0.        ,\n",
       "        0.        ,  0.        ,  0.        ,  0.        ,  0.        ,\n",
       "        0.        ,  0.        ,  0.        ,  0.        ,  0.        ,\n",
       "        0.        ,  0.        ,  0.        ,  0.        ,  0.        ,\n",
       "        0.        ,  0.        ,  0.        ,  0.        ,  0.        ,\n",
       "        0.        ,  0.        ,  0.        ,  0.        ,  0.        ,\n",
       "        0.        ,  0.        ,  0.        ,  0.        ,  0.        ,\n",
       "        0.        ,  0.        ,  0.        ,  0.        ,  0.        ,\n",
       "        0.        ,  0.        ,  0.        ,  0.        ,  0.        ,\n",
       "        0.        ,  0.        ,  0.        ,  0.        ,  0.        ,\n",
       "        0.        ,  0.        ,  0.        ,  0.        ,  0.        ,\n",
       "        0.        ,  0.        ,  0.        ,  0.        ,  0.        ,\n",
       "        0.        ,  0.        ,  0.        ,  0.        ,  0.        ,\n",
       "        0.        ,  0.        ,  0.        ,  0.        ,  0.        ,\n",
       "        0.        ,  0.        ,  0.        ,  0.        ,  0.        ,\n",
       "        0.        ,  0.        ,  0.        ,  0.        ,  0.        ,\n",
       "        0.        ,  0.        ,  0.        ,  0.        ,  0.        ,\n",
       "        0.        ,  0.        ,  0.        ,  0.        ,  0.        ,\n",
       "        0.        ,  0.        ,  0.        ,  0.        ,  0.        ,\n",
       "        0.        ,  0.        ,  0.        ,  0.        ,  0.        ,\n",
       "        0.        ,  0.        ,  0.        ,  0.        ,  0.        ,\n",
       "        0.        ,  0.        ,  0.        ,  0.        ,  0.        ,\n",
       "        0.        ,  0.        ,  0.        ,  0.        ,  0.        ,\n",
       "        0.        ,  0.        ,  0.        ,  0.        ,  0.        ,\n",
       "        0.        ,  0.        ,  0.        ,  0.        ,  0.        ,\n",
       "        0.        ,  0.        ,  0.        ,  0.        ,  0.        ,\n",
       "        0.        ,  0.        ,  0.        ,  0.        ,  0.        ,\n",
       "        0.        ,  0.        ,  0.        ,  0.        ,  0.        ,\n",
       "        0.        ,  0.        ,  0.        ,  0.        ,  0.        ,\n",
       "        0.        ,  0.        ,  0.        ,  0.        ,  0.        ,\n",
       "        0.        ,  0.        ,  0.        ,  0.        ,  0.        ,\n",
       "        0.        ,  0.        ,  0.        ,  0.        ,  0.        ,\n",
       "        0.        ,  0.        ,  0.        ,  0.        ,  0.        ,\n",
       "        0.        ,  0.        ,  0.        ,  0.        ,  0.        ,\n",
       "        0.        ,  0.        ,  0.        ,  0.        ,  0.        ,\n",
       "        0.        ,  0.        ,  0.        ,  0.        ,  0.        ,\n",
       "        0.        ,  0.        ,  0.        ,  0.        ,  0.        ])"
      ]
     },
     "execution_count": 100,
     "metadata": {},
     "output_type": "execute_result"
    }
   ],
   "source": [
    "a = caget('2idsft:scan1.P1PA')\n",
    "a"
   ]
  },
  {
   "cell_type": "code",
   "execution_count": 97,
   "metadata": {},
   "outputs": [],
   "source": [
    "t =np.linspace(-0.5, 0.5, 20)"
   ]
  },
  {
   "cell_type": "code",
   "execution_count": 98,
   "metadata": {},
   "outputs": [
    {
     "data": {
      "text/plain": [
       "1"
      ]
     },
     "execution_count": 98,
     "metadata": {},
     "output_type": "execute_result"
    }
   ],
   "source": [
    "caput('2idsft:scan1.P1PA', t)"
   ]
  },
  {
   "cell_type": "code",
   "execution_count": 99,
   "metadata": {},
   "outputs": [
    {
     "data": {
      "text/plain": [
       "1"
      ]
     },
     "execution_count": 99,
     "metadata": {},
     "output_type": "execute_result"
    }
   ],
   "source": [
    "caput('2idsft:scan1.P2PA', t)"
   ]
  },
  {
   "cell_type": "code",
   "execution_count": 90,
   "metadata": {},
   "outputs": [
    {
     "data": {
      "text/plain": [
       "EpicsSignal(read_pv='2idsft:scan1.PDLY', name='scan1_positioner_delay', parent='scan1', value=0.10000000149011612, timestamp=631152000.0, tolerance=0.001, auto_monitor=True, string=False, write_pv='2idsft:scan1.PDLY', limits=False, put_complete=False)"
      ]
     },
     "execution_count": 90,
     "metadata": {},
     "output_type": "execute_result"
    }
   ],
   "source": [
    "scan1.positioner_delay"
   ]
  },
  {
   "cell_type": "code",
   "execution_count": 102,
   "metadata": {},
   "outputs": [
    {
     "data": {
      "text/plain": [
       "(20,)"
      ]
     },
     "execution_count": 102,
     "metadata": {},
     "output_type": "execute_result"
    }
   ],
   "source": [
    "t.shape"
   ]
  },
  {
   "cell_type": "code",
   "execution_count": 103,
   "metadata": {},
   "outputs": [
    {
     "data": {
      "text/plain": [
       "(20, 20)"
      ]
     },
     "execution_count": 103,
     "metadata": {},
     "output_type": "execute_result"
    }
   ],
   "source": [
    "xx, yy = np.meshgrid(t,t)\n",
    "xx."
   ]
  },
  {
   "cell_type": "code",
   "execution_count": 104,
   "metadata": {},
   "outputs": [
    {
     "data": {
      "text/plain": [
       "(400,)"
      ]
     },
     "execution_count": 104,
     "metadata": {},
     "output_type": "execute_result"
    }
   ],
   "source": [
    "xx.flatten().shape"
   ]
  },
  {
   "cell_type": "code",
   "execution_count": null,
   "metadata": {},
   "outputs": [],
   "source": [
    " "
   ]
  }
 ],
 "metadata": {
  "kernelspec": {
   "display_name": "Python 3 (ipykernel)",
   "language": "python",
   "name": "python3"
  },
  "language_info": {
   "codemirror_mode": {
    "name": "ipython",
    "version": 3
   },
   "file_extension": ".py",
   "mimetype": "text/x-python",
   "name": "python",
   "nbconvert_exporter": "python",
   "pygments_lexer": "ipython3",
   "version": "3.11.8"
  }
 },
 "nbformat": 4,
 "nbformat_minor": 4
}
