{
 "cells": [
  {
   "cell_type": "code",
   "execution_count": 18,
   "metadata": {},
   "outputs": [],
   "source": [
    "import bluesky\n",
    "import bluesky.plan_stubs as bps\n",
    "from apstools.synApps import SscanRecord\n",
    "from ophyd import EpicsMotor\n",
    "from apstools.plans import run_blocking_function\n",
    "from ophyd.status import Status\n"
   ]
  },
  {
   "cell_type": "code",
   "execution_count": 3,
   "metadata": {},
   "outputs": [],
   "source": [
    "IOC = \"2idsft:\"\n",
    "scan1 = SscanRecord(f\"{IOC}scan1\", name=\"scan1\")\n",
    "scan1.wait_for_connection()"
   ]
  },
  {
   "cell_type": "code",
   "execution_count": 14,
   "metadata": {},
   "outputs": [],
   "source": [
    "m_prefix = \"2idbtst:\"\n",
    "m1 = EpicsMotor(f\"{m_prefix}m1\", name=\"m1\")\n",
    "m1.wait_for_connection()"
   ]
  },
  {
   "cell_type": "code",
   "execution_count": 12,
   "metadata": {},
   "outputs": [],
   "source": [
    "def setup_scan1(m1, start, finish, npts, ct=1):\n",
    "    # yield from bps.mv(scaler1.preset_time, ct)  # counting time/point\n",
    "    yield from run_blocking_function(scan1.reset)\n",
    "    yield from bps.sleep(0.2)  # arbitrary wait for EPICS to finish the reset.\n",
    "\n",
    "    # positioners\n",
    "    yield from bps.mv(\n",
    "        scan1.number_points, npts,\n",
    "        scan1.positioners.p1.start, start,\n",
    "        scan1.positioners.p1.end, finish,\n",
    "        scan1.positioners.p1.readback_pv, m1.user_readback.pvname,\n",
    "        scan1.positioners.p1.setpoint_pv, m1.user_setpoint.pvname,\n",
    "    )\n",
    "    # # triggers (push scaler count button at each point)\n",
    "    # yield from bps.mv(\n",
    "    #     scan1.triggers.t1.trigger_pv, scaler1.count.pvname,\n",
    "    # )\n",
    "    # # detectors\n",
    "    # yield from bps.mv(\n",
    "    #     scan1.detectors.d01.input_pv, I0.pvname,\n",
    "    #     scan1.detectors.d02.input_pv, diode.pvname,\n",
    "    # )"
   ]
  },
  {
   "cell_type": "code",
   "execution_count": null,
   "metadata": {},
   "outputs": [],
   "source": [
    "def setup_scan1_2D(m1, start, finish, m2, s2, f2, p2, ct=1):\n",
    "    # yield from bps.mv(scaler1.preset_time, ct)  # counting time/point\n",
    "    yield from run_blocking_function(scan1.reset)\n",
    "    yield from bps.sleep(0.2)  # arbitrary wait for EPICS to finish the reset.\n",
    "\n",
    "    # positioners\n",
    "    yield from bps.mv(\n",
    "        scan1.number_points, npts,\n",
    "        scan1.positioners.p1.start, start,\n",
    "        scan1.positioners.p1.end, finish,\n",
    "        scan1.positioners.p1.readback_pv, m1.user_readback.pvname,\n",
    "        scan1.positioners.p1.setpoint_pv, m1.user_setpoint.pvname,\n",
    "    )\n",
    "    # # triggers (push scaler count button at each point)\n",
    "    # yield from bps.mv(\n",
    "    #     scan1.triggers.t1.trigger_pv, scaler1.count.pvname,\n",
    "    # )\n",
    "    # # detectors\n",
    "    # yield from bps.mv(\n",
    "    #     scan1.detectors.d01.input_pv, I0.pvname,\n",
    "    #     scan1.detectors.d02.input_pv, diode.pvname,\n",
    "    # )"
   ]
  },
  {
   "cell_type": "code",
   "execution_count": 15,
   "metadata": {},
   "outputs": [],
   "source": [
    "def run_sscan():\n",
    "    # Create an instance of the Status object.\n",
    "    # If it is not marked as finished within 20s, it will raise a timeout exception.\n",
    "    st = Status(timeout=20)\n",
    "\n",
    "    def watch_execute_scan(old_value, value, **kwargs):\n",
    "        # Watch for scan1.EXSC to change from 1 to 0 (when the scan ends).\n",
    "        if old_value == 1 and value == 0:\n",
    "            # mark as finished (successfully).\n",
    "            st.set_finished()\n",
    "            # Remove the subscription.\n",
    "            scan1.execute_scan.clear_sub(watch_execute_scan)\n",
    "\n",
    "    yield from bps.mv(scan1.execute_scan, 1)\n",
    "    scan1.execute_scan.subscribe(watch_execute_scan)\n",
    "    yield from run_blocking_function(st.wait)"
   ]
  },
  {
   "cell_type": "code",
   "execution_count": 33,
   "metadata": {},
   "outputs": [],
   "source": [
    "# RE = bluesky.RunEngine()\n",
    "a = RE(setup_scan1(m1, -0.5, 0.5, 100))"
   ]
  },
  {
   "cell_type": "code",
   "execution_count": 34,
   "metadata": {},
   "outputs": [],
   "source": [
    "# Run scan\n",
    "j = RE(run_sscan())"
   ]
  },
  {
   "cell_type": "code",
   "execution_count": 31,
   "metadata": {},
   "outputs": [],
   "source": [
    "# This command interacts with pv via ophyd directly, without bluesky RE\n",
    "scan1.execute_scan.value = 1"
   ]
  },
  {
   "cell_type": "code",
   "execution_count": null,
   "metadata": {},
   "outputs": [],
   "source": []
  }
 ],
 "metadata": {
  "kernelspec": {
   "display_name": "bluesky_2023_3",
   "language": "python",
   "name": "python3"
  },
  "language_info": {
   "codemirror_mode": {
    "name": "ipython",
    "version": 3
   },
   "file_extension": ".py",
   "mimetype": "text/x-python",
   "name": "python",
   "nbconvert_exporter": "python",
   "pygments_lexer": "ipython3",
   "version": "3.11.8"
  }
 },
 "nbformat": 4,
 "nbformat_minor": 2
}
